{
 "cells": [
  {
   "cell_type": "markdown",
   "id": "69fb235b",
   "metadata": {},
   "source": [
    "## Install Redis Client\n",
    "- https://pypi.org/project/redis/"
   ]
  },
  {
   "cell_type": "code",
   "execution_count": 1,
   "id": "44310336",
   "metadata": {},
   "outputs": [
    {
     "name": "stdout",
     "output_type": "stream",
     "text": [
      "Collecting redis\n",
      "  Downloading redis-4.1.1-py3-none-any.whl (173 kB)\n",
      "\u001b[K     |████████████████████████████████| 173 kB 5.9 MB/s eta 0:00:01\n",
      "\u001b[?25hRequirement already satisfied: packaging>=20.4 in /Library/Frameworks/Python.framework/Versions/3.10/lib/python3.10/site-packages (from redis) (21.3)\n",
      "Collecting deprecated>=1.2.3\n",
      "  Downloading Deprecated-1.2.13-py2.py3-none-any.whl (9.6 kB)\n",
      "Collecting wrapt<2,>=1.10\n",
      "  Downloading wrapt-1.13.3-cp310-cp310-macosx_10_9_x86_64.whl (33 kB)\n",
      "Requirement already satisfied: pyparsing!=3.0.5,>=2.0.2 in /Library/Frameworks/Python.framework/Versions/3.10/lib/python3.10/site-packages (from packaging>=20.4->redis) (3.0.7)\n",
      "Installing collected packages: wrapt, deprecated, redis\n",
      "Successfully installed deprecated-1.2.13 redis-4.1.1 wrapt-1.13.3\n",
      "\u001b[33mWARNING: You are using pip version 21.2.4; however, version 21.3.1 is available.\n",
      "You should consider upgrading via the '/Library/Frameworks/Python.framework/Versions/3.10/bin/python3.10 -m pip install --upgrade pip' command.\u001b[0m\n"
     ]
    }
   ],
   "source": [
    "!pip3 install redis"
   ]
  },
  {
   "cell_type": "markdown",
   "id": "4de41711",
   "metadata": {},
   "source": [
    "## Redis docker \n",
    "```bash\n",
    "docker run --name redis -e REDIS_PORT_NUMBER=7000 -e ALLOW_EMPTY_PASSWORD=yes -p 7000:7000 bitnami/redis:latest\n",
    "```"
   ]
  },
  {
   "cell_type": "code",
   "execution_count": 6,
   "id": "d9f3ddd4",
   "metadata": {},
   "outputs": [],
   "source": [
    "import redis\n",
    "r = redis.Redis(host='127.0.0.1', port=7000, db=0)"
   ]
  },
  {
   "cell_type": "code",
   "execution_count": 7,
   "id": "074e7573",
   "metadata": {},
   "outputs": [
    {
     "data": {
      "text/plain": [
       "True"
      ]
     },
     "execution_count": 7,
     "metadata": {},
     "output_type": "execute_result"
    }
   ],
   "source": [
    "r.set('foo', 'bar')"
   ]
  },
  {
   "cell_type": "code",
   "execution_count": 8,
   "id": "9dc351a6",
   "metadata": {},
   "outputs": [
    {
     "data": {
      "text/plain": [
       "b'bar'"
      ]
     },
     "execution_count": 8,
     "metadata": {},
     "output_type": "execute_result"
    }
   ],
   "source": [
    "r.get('foo')"
   ]
  },
  {
   "cell_type": "markdown",
   "id": "4d85177c",
   "metadata": {},
   "source": [
    "## Chapter 3"
   ]
  },
  {
   "cell_type": "code",
   "execution_count": 9,
   "id": "7443d9c7",
   "metadata": {},
   "outputs": [
    {
     "name": "stdout",
     "output_type": "stream",
     "text": [
      "1\n",
      "23\n",
      "\n"
     ]
    }
   ],
   "source": [
    "import time \n",
    "import threading\n",
    "\n",
    "def notrans():\n",
    "    print(r.incr('notrans:'))\n",
    "    time.sleep(0.1)\n",
    "    r.incr('notrans:', -1)\n",
    "    \n",
    "if 1:\n",
    "    for i in range(3):\n",
    "        threading.Thread(target=notrans).start()\n",
    "    time.sleep(0.5)"
   ]
  },
  {
   "cell_type": "code",
   "execution_count": 10,
   "id": "e2853ac2",
   "metadata": {},
   "outputs": [
    {
     "name": "stdout",
     "output_type": "stream",
     "text": [
      "111\n",
      "\n",
      "\n"
     ]
    }
   ],
   "source": [
    "def trans():\n",
    "    pipeline = r.pipeline()\n",
    "    pipeline.incr('trans:')\n",
    "    time.sleep(0.1)\n",
    "    pipeline.incr('trans:', -1)\n",
    "    print(pipeline.execute()[0])\n",
    "    \n",
    "if 1:\n",
    "    for i in range(3):\n",
    "        threading.Thread(target=trans).start()\n",
    "    time.sleep(0.5)"
   ]
  },
  {
   "cell_type": "code",
   "execution_count": 11,
   "id": "cc216be8",
   "metadata": {},
   "outputs": [
    {
     "data": {
      "text/plain": [
       "True"
      ]
     },
     "execution_count": 11,
     "metadata": {},
     "output_type": "execute_result"
    }
   ],
   "source": [
    "r.set('key', 'value')"
   ]
  },
  {
   "cell_type": "code",
   "execution_count": 12,
   "id": "0c827503",
   "metadata": {},
   "outputs": [
    {
     "data": {
      "text/plain": [
       "b'value'"
      ]
     },
     "execution_count": 12,
     "metadata": {},
     "output_type": "execute_result"
    }
   ],
   "source": [
    "r.get('key')"
   ]
  },
  {
   "cell_type": "code",
   "execution_count": 13,
   "id": "8aa55066",
   "metadata": {},
   "outputs": [
    {
     "data": {
      "text/plain": [
       "True"
      ]
     },
     "execution_count": 13,
     "metadata": {},
     "output_type": "execute_result"
    }
   ],
   "source": [
    "r.expire('key', 2)"
   ]
  },
  {
   "cell_type": "code",
   "execution_count": 14,
   "id": "15f9038c",
   "metadata": {},
   "outputs": [],
   "source": [
    "r.get('key')"
   ]
  },
  {
   "cell_type": "code",
   "execution_count": 15,
   "id": "f1fdb604",
   "metadata": {},
   "outputs": [
    {
     "data": {
      "text/plain": [
       "True"
      ]
     },
     "execution_count": 15,
     "metadata": {},
     "output_type": "execute_result"
    }
   ],
   "source": [
    "r.set('key', 'value2')"
   ]
  },
  {
   "cell_type": "code",
   "execution_count": 16,
   "id": "7df3712c",
   "metadata": {},
   "outputs": [
    {
     "data": {
      "text/plain": [
       "True"
      ]
     },
     "execution_count": 16,
     "metadata": {},
     "output_type": "execute_result"
    }
   ],
   "source": [
    "r.expire('key', 100)"
   ]
  },
  {
   "cell_type": "code",
   "execution_count": 17,
   "id": "fcca7b30",
   "metadata": {},
   "outputs": [
    {
     "data": {
      "text/plain": [
       "97"
      ]
     },
     "execution_count": 17,
     "metadata": {},
     "output_type": "execute_result"
    }
   ],
   "source": [
    "r.ttl('key')"
   ]
  },
  {
   "cell_type": "code",
   "execution_count": 18,
   "id": "d5873a9e",
   "metadata": {},
   "outputs": [
    {
     "data": {
      "text/plain": [
       "92"
      ]
     },
     "execution_count": 18,
     "metadata": {},
     "output_type": "execute_result"
    }
   ],
   "source": [
    "r.ttl('key')"
   ]
  },
  {
   "cell_type": "markdown",
   "id": "a941894a",
   "metadata": {},
   "source": [
    "## Chapter 4\n",
    "- persistence\n",
    "    - snapshot\n",
    "    - AOF (Append-only file)"
   ]
  },
  {
   "cell_type": "code",
   "execution_count": 19,
   "id": "e7318376",
   "metadata": {},
   "outputs": [],
   "source": [
    "def list_item(conn, itemid, sellerid, price):\n",
    "    inventory = \"inventory:%s\" % sellerid\n",
    "    item = \"%s.%s\" % (itemid, sellerid)\n",
    "    end = time.time() + 5\n",
    "    pipe = conn.pipeline()\n",
    "    \n",
    "    while time.time() < end:\n",
    "        try:\n",
    "            pipe.watch(inventory)\n",
    "            if not pipe.sismember(inventory, itemid):\n",
    "                pipe.unwatch()\n",
    "                return None\n",
    "            \n",
    "            pipe.multi()\n",
    "            pipe.zadd(\"market:\", item, price)\n",
    "            pipe.srem(inventory, itemid)\n",
    "            pipe.execute()\n",
    "            return True\n",
    "        except redis.exceptions.WatchError:\n",
    "            pass\n",
    "    return False\n"
   ]
  },
  {
   "cell_type": "code",
   "execution_count": 20,
   "id": "b94cd33c",
   "metadata": {},
   "outputs": [],
   "source": [
    "# 3 ~ 5 round trips\n",
    "def update_token(conn, token, user, item = None):\n",
    "    timestamp = time.time()\n",
    "    conn.hset('login:', token, user)\n",
    "    conn.zadd('recent:', token, timestamp)\n",
    "    if item:\n",
    "        conn.zadd('viewed:' + token, item, timestamp)\n",
    "        conn.zremrangebyrank('viewed:' + token, 0, -26)\n",
    "        conn.zincrby('viewed:', item, -1)"
   ]
  },
  {
   "cell_type": "code",
   "execution_count": 21,
   "id": "51b81f2a",
   "metadata": {},
   "outputs": [],
   "source": [
    "def update_token_pipeline(conn, token, user, item = None):\n",
    "    timestamp = time.time()\n",
    "    pipe = conn.pipeline(False)\n",
    "    pipe.hset('login:', token, user)\n",
    "    pipe.zadd('recent:', token, timestamp)\n",
    "    if item:\n",
    "        pipe.zadd('viewed:' + token, item, timestamp)\n",
    "        pipe.zremrangebyrank('viewed:' + token, 0, -26)\n",
    "        pipe.zincrby('viewed:', item, -1)\n",
    "    pipe.execute()"
   ]
  },
  {
   "cell_type": "markdown",
   "id": "2d9c3532",
   "metadata": {},
   "source": [
    "## Chapter 6"
   ]
  },
  {
   "cell_type": "code",
   "execution_count": null,
   "id": "9d671974",
   "metadata": {},
   "outputs": [],
   "source": []
  }
 ],
 "metadata": {
  "kernelspec": {
   "display_name": "Python 3 (ipykernel)",
   "language": "python",
   "name": "python3"
  },
  "language_info": {
   "codemirror_mode": {
    "name": "ipython",
    "version": 3
   },
   "file_extension": ".py",
   "mimetype": "text/x-python",
   "name": "python",
   "nbconvert_exporter": "python",
   "pygments_lexer": "ipython3",
   "version": "3.10.2"
  }
 },
 "nbformat": 4,
 "nbformat_minor": 5
}
