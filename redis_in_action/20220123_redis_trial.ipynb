{
 "cells": [
  {
   "cell_type": "markdown",
   "id": "4a833dce",
   "metadata": {},
   "source": [
    "## Install Redis Client\n",
    "- https://pypi.org/project/redis/"
   ]
  },
  {
   "cell_type": "code",
   "execution_count": 1,
   "id": "9df85bae",
   "metadata": {},
   "outputs": [
    {
     "name": "stdout",
     "output_type": "stream",
     "text": [
      "Collecting redis\n",
      "  Downloading redis-4.1.1-py3-none-any.whl (173 kB)\n",
      "\u001b[K     |████████████████████████████████| 173 kB 5.9 MB/s eta 0:00:01\n",
      "\u001b[?25hRequirement already satisfied: packaging>=20.4 in /Library/Frameworks/Python.framework/Versions/3.10/lib/python3.10/site-packages (from redis) (21.3)\n",
      "Collecting deprecated>=1.2.3\n",
      "  Downloading Deprecated-1.2.13-py2.py3-none-any.whl (9.6 kB)\n",
      "Collecting wrapt<2,>=1.10\n",
      "  Downloading wrapt-1.13.3-cp310-cp310-macosx_10_9_x86_64.whl (33 kB)\n",
      "Requirement already satisfied: pyparsing!=3.0.5,>=2.0.2 in /Library/Frameworks/Python.framework/Versions/3.10/lib/python3.10/site-packages (from packaging>=20.4->redis) (3.0.7)\n",
      "Installing collected packages: wrapt, deprecated, redis\n",
      "Successfully installed deprecated-1.2.13 redis-4.1.1 wrapt-1.13.3\n",
      "\u001b[33mWARNING: You are using pip version 21.2.4; however, version 21.3.1 is available.\n",
      "You should consider upgrading via the '/Library/Frameworks/Python.framework/Versions/3.10/bin/python3.10 -m pip install --upgrade pip' command.\u001b[0m\n"
     ]
    }
   ],
   "source": [
    "!pip3 install redis"
   ]
  },
  {
   "cell_type": "markdown",
   "id": "8db764bf",
   "metadata": {},
   "source": [
    "## Redis docker \n",
    "```bash\n",
    "docker run --name redis -e REDIS_PORT_NUMBER=7000 -e ALLOW_EMPTY_PASSWORD=yes -p 7000:7000 bitnami/redis:latest\n",
    "```"
   ]
  },
  {
   "cell_type": "code",
   "execution_count": 6,
   "id": "8a4f6893",
   "metadata": {},
   "outputs": [],
   "source": [
    "import redis\n",
    "r = redis.Redis(host='127.0.0.1', port=7000, db=0)"
   ]
  },
  {
   "cell_type": "code",
   "execution_count": 7,
   "id": "6ca97a0d",
   "metadata": {},
   "outputs": [
    {
     "data": {
      "text/plain": [
       "True"
      ]
     },
     "execution_count": 7,
     "metadata": {},
     "output_type": "execute_result"
    }
   ],
   "source": [
    "r.set('foo', 'bar')"
   ]
  },
  {
   "cell_type": "code",
   "execution_count": 8,
   "id": "8eb70e52",
   "metadata": {},
   "outputs": [
    {
     "data": {
      "text/plain": [
       "b'bar'"
      ]
     },
     "execution_count": 8,
     "metadata": {},
     "output_type": "execute_result"
    }
   ],
   "source": [
    "r.get('foo')"
   ]
  },
  {
   "cell_type": "markdown",
   "id": "48321a00",
   "metadata": {},
   "source": [
    "## Chapter 3"
   ]
  },
  {
   "cell_type": "code",
   "execution_count": 9,
   "id": "18e66b47",
   "metadata": {},
   "outputs": [
    {
     "name": "stdout",
     "output_type": "stream",
     "text": [
      "1\n",
      "23\n",
      "\n"
     ]
    }
   ],
   "source": [
    "import time \n",
    "import threading\n",
    "\n",
    "def notrans():\n",
    "    print(r.incr('notrans:'))\n",
    "    time.sleep(0.1)\n",
    "    r.incr('notrans:', -1)\n",
    "    \n",
    "if 1:\n",
    "    for i in range(3):\n",
    "        threading.Thread(target=notrans).start()\n",
    "    time.sleep(0.5)"
   ]
  },
  {
   "cell_type": "code",
   "execution_count": 10,
   "id": "904d8040",
   "metadata": {},
   "outputs": [
    {
     "name": "stdout",
     "output_type": "stream",
     "text": [
      "111\n",
      "\n",
      "\n"
     ]
    }
   ],
   "source": [
    "def trans():\n",
    "    pipeline = r.pipeline()\n",
    "    pipeline.incr('trans:')\n",
    "    time.sleep(0.1)\n",
    "    pipeline.incr('trans:', -1)\n",
    "    print(pipeline.execute()[0])\n",
    "    \n",
    "if 1:\n",
    "    for i in range(3):\n",
    "        threading.Thread(target=trans).start()\n",
    "    time.sleep(0.5)"
   ]
  },
  {
   "cell_type": "code",
   "execution_count": null,
   "id": "760dba98",
   "metadata": {},
   "outputs": [],
   "source": []
  }
 ],
 "metadata": {
  "kernelspec": {
   "display_name": "Python 3 (ipykernel)",
   "language": "python",
   "name": "python3"
  },
  "language_info": {
   "codemirror_mode": {
    "name": "ipython",
    "version": 3
   },
   "file_extension": ".py",
   "mimetype": "text/x-python",
   "name": "python",
   "nbconvert_exporter": "python",
   "pygments_lexer": "ipython3",
   "version": "3.10.2"
  }
 },
 "nbformat": 4,
 "nbformat_minor": 5
}
