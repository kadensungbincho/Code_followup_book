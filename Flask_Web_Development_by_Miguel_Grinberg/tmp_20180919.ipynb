{
 "cells": [
  {
   "cell_type": "markdown",
   "metadata": {},
   "source": [
    "## The Jinja Template Engine"
   ]
  },
  {
   "cell_type": "markdown",
   "metadata": {},
   "source": [
    "In its simplest form, a Jinja2 template is a file that contains the text of a response. Example 3-1 shows a Jinja2 template that matches the response of the index() view function of Exmaple 2-1."
   ]
  },
  {
   "cell_type": "markdown",
   "metadata": {},
   "source": [
    "## Rendering Templates"
   ]
  },
  {
   "cell_type": "markdown",
   "metadata": {},
   "source": [
    "By default Flask looks for templates in a templates subfolder located inside the application folder. For the next version of hell.py, you need to store the templates defined earlier in a new templates folder a s index.html and user.html."
   ]
  },
  {
   "cell_type": "markdown",
   "metadata": {},
   "source": [
    "The view functions in the application need to be modified to render these templates."
   ]
  },
  {
   "cell_type": "markdown",
   "metadata": {},
   "source": [
    "The function render_template provided by Flask integrates the Jinja2 tempalte engine with the application. This function takes the filename of the template as its first argument. Any additional arguments are key/value pairs that represent actual values for variables referenced in the template. In this example, the second template is receiving a name variable. "
   ]
  },
  {
   "cell_type": "markdown",
   "metadata": {},
   "source": [
    "Keyword argumens like name=name in the previous example are faily common but may seem confusing and hard to understand if you are not used to them. The \"name\" on the left side represents the argument name, which is used in the placeholder written in the template. The \"name\" on the right side is a variable in the current scope that provieds the value for the argument of the same name."
   ]
  },
  {
   "cell_type": "markdown",
   "metadata": {},
   "source": [
    "## Variables"
   ]
  },
  {
   "cell_type": "markdown",
   "metadata": {},
   "source": [
    "The {{ name }} contruct used in the template shown in Exmaple 3-2 references a variable, a special placeholder that tells the template engine that the value that goes in that place should be obtained from data provided at the time the template is rendered."
   ]
  },
  {
   "cell_type": "markdown",
   "metadata": {},
   "source": [
    "Jinja2 recognies variables of any type, even comple types such as lists, dictionaries and objects. The following are some more examples of variables used in templates.\n",
    "Variables can be modified with filters, which are added after the variable name with a pipe character as separator. For example, the following template shows the name variable capitalized:"
   ]
  },
  {
   "cell_type": "markdown",
   "metadata": {},
   "source": [
    "The safe filter is interesting to highlight. By default Jinja2 escapes all variables for security purposes. For examples, if a variable is set to the value, Jinja2 will render the string as '&l, which will cause the h1 element to be displated and not interpreted by the browser. Many times it is necessary to display HTML code stored in variables, and for those cases the safe filter is used."
   ]
  },
  {
   "cell_type": "markdown",
   "metadata": {},
   "source": [
    "The complete list of filters can be obtained from the official Jinja2 documentation."
   ]
  },
  {
   "cell_type": "markdown",
   "metadata": {},
   "source": [
    "## Control Structures"
   ]
  },
  {
   "cell_type": "markdown",
   "metadata": {},
   "source": [
    "Jinja2 offers several control structures that can be used to alter the flow of the template. This section introduces some of the most useful ones with simple exmples."
   ]
  },
  {
   "cell_type": "markdown",
   "metadata": {},
   "source": [
    "The following example shows how conditionla statements can be entered in a template."
   ]
  },
  {
   "cell_type": "markdown",
   "metadata": {},
   "source": [
    "Another common need in templates is to render a list of elements. This example shows how this can be done with a for loop:"
   ]
  },
  {
   "cell_type": "markdown",
   "metadata": {},
   "source": [
    "```html\n",
    " <ul>\n",
    "      {% for comment in comments %}\n",
    "    <li> {{ comment }}</li>\n",
    "      {% endfor %}\n",
    "</ul>\n",
    "```"
   ]
  },
  {
   "cell_type": "markdown",
   "metadata": {},
   "source": [
    "Yet another powerful way to reuse is through template inheritance, which is similar to class inheritance in Python code. First, a base template is created with the name base.html"
   ]
  },
  {
   "cell_type": "code",
   "execution_count": null,
   "metadata": {},
   "outputs": [],
   "source": []
  }
 ],
 "metadata": {
  "kernelspec": {
   "display_name": "Python 3",
   "language": "python",
   "name": "python3"
  },
  "language_info": {
   "codemirror_mode": {
    "name": "ipython",
    "version": 3
   },
   "file_extension": ".py",
   "mimetype": "text/x-python",
   "name": "python",
   "nbconvert_exporter": "python",
   "pygments_lexer": "ipython3",
   "version": "3.6.4"
  }
 },
 "nbformat": 4,
 "nbformat_minor": 2
}
