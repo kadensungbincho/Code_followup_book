{
 "cells": [
  {
   "cell_type": "code",
   "execution_count": 13,
   "id": "d1a2e297",
   "metadata": {},
   "outputs": [],
   "source": [
    "class FieldElement:\n",
    "    def __init__(self, num, prime):\n",
    "        if num >= prime or num < 0:\n",
    "            error = \"Num {} not in field range 0 to {}\".format(num, prime -1)\n",
    "            raise ValueError(error)\n",
    "        self.num = num\n",
    "        self.prime = prime\n",
    "        \n",
    "    def __repr__(self):\n",
    "        return \"FieldElement_{}({})\".format(self.prime, self.num)\n",
    "    \n",
    "    def __eq__(self, other):\n",
    "        if other is None:\n",
    "            return False\n",
    "        return self.num == other.num and self.prime == other.prime\n",
    "    \n",
    "    def __add__(self, other):\n",
    "        if self.prime != other.prime:\n",
    "            raise TypeError(\"Cannot add two numbers in different Fields\")\n",
    "        num = (self.num + other.num) % self.prime\n",
    "        return self.__class__(num, self.prime)\n",
    "    \n",
    "    def __sub__(self, other):\n",
    "        if self.prime != other.prime:\n",
    "            raise TypeError(\"Cannot subtract two numbers in different Fields\")\n",
    "        num = (self.num - other.num) % self.prime\n",
    "        return self.__class__(num, self.prime)\n",
    "    \n",
    "    def __mul__(self, other):\n",
    "        if self.prime != other.prime:\n",
    "            raise TypeError(\"Cannot multiply two numbers in different Fields\")\n",
    "        num = (self.num * other.num) % self.prime\n",
    "        return self.__class__(num, self.prime)\n",
    "    \n",
    "    def __pow__(self, exponent):\n",
    "        num = (self.num ** exponent) % self.prime\n",
    "        return self.__class__(num, self.prime)"
   ]
  },
  {
   "cell_type": "code",
   "execution_count": 11,
   "id": "87945ac3",
   "metadata": {},
   "outputs": [],
   "source": [
    "from unittest import TestCase\n",
    "\n",
    "class FieldElementTest(TestCase):\n",
    "    \n",
    "    def test_add(self):\n",
    "        a = FieldElement(2, 31)\n",
    "        b = FieldElement(15, 31)\n",
    "        self.assertEqual(a + b, FieldElement(17, 31))\n",
    "        \n",
    "    def test_mul(self):\n",
    "        a = FieldElement(95, 97)\n",
    "        b = FieldElement(45, 97)\n",
    "        c = FieldElement(31, 97)\n",
    "        self.assertEqual(a * b * c, FieldElement(23, 97))"
   ]
  },
  {
   "cell_type": "code",
   "execution_count": 8,
   "id": "7f8b25c4",
   "metadata": {},
   "outputs": [],
   "source": [
    "from unittest import TestSuite, TextTestRunner\n",
    "\n",
    "\n",
    "def run(test):\n",
    "    suite = TestSuite()\n",
    "    suite.addTest(test)\n",
    "    TextTestRunner().run(suite)\n"
   ]
  },
  {
   "cell_type": "code",
   "execution_count": 9,
   "id": "4841577c",
   "metadata": {},
   "outputs": [
    {
     "name": "stderr",
     "output_type": "stream",
     "text": [
      ".\n",
      "----------------------------------------------------------------------\n",
      "Ran 1 test in 0.001s\n",
      "\n",
      "OK\n"
     ]
    }
   ],
   "source": [
    "run(FieldElementTest(\"test_add\"))"
   ]
  },
  {
   "cell_type": "code",
   "execution_count": 12,
   "id": "b13998eb",
   "metadata": {},
   "outputs": [
    {
     "name": "stderr",
     "output_type": "stream",
     "text": [
      ".\n",
      "----------------------------------------------------------------------\n",
      "Ran 1 test in 0.001s\n",
      "\n",
      "OK\n"
     ]
    }
   ],
   "source": [
    "run(FieldElementTest(\"test_mul\"))"
   ]
  },
  {
   "cell_type": "code",
   "execution_count": 17,
   "id": "d06685c0",
   "metadata": {},
   "outputs": [],
   "source": [
    "def calculate_set(num):\n",
    "    powed = set()\n",
    "    for i in range(1, num):\n",
    "        powed.add((i ** (num - 1)) % num)\n",
    "        \n",
    "    return powed\n",
    "        "
   ]
  },
  {
   "cell_type": "code",
   "execution_count": 19,
   "id": "bc14be62",
   "metadata": {},
   "outputs": [
    {
     "name": "stdout",
     "output_type": "stream",
     "text": [
      "{1}\n",
      "{1}\n",
      "{1}\n",
      "{1}\n"
     ]
    }
   ],
   "source": [
    "# Fermat's Theorem\n",
    "for num in [7, 11, 17, 31]:\n",
    "    print(calculate_set(num))"
   ]
  },
  {
   "cell_type": "code",
   "execution_count": null,
   "id": "995525fa",
   "metadata": {},
   "outputs": [],
   "source": []
  }
 ],
 "metadata": {
  "kernelspec": {
   "display_name": "Python 3 (ipykernel)",
   "language": "python",
   "name": "python3"
  },
  "language_info": {
   "codemirror_mode": {
    "name": "ipython",
    "version": 3
   },
   "file_extension": ".py",
   "mimetype": "text/x-python",
   "name": "python",
   "nbconvert_exporter": "python",
   "pygments_lexer": "ipython3",
   "version": "3.10.2"
  }
 },
 "nbformat": 4,
 "nbformat_minor": 5
}
