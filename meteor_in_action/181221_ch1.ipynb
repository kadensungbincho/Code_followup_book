{
 "cells": [
  {
   "cell_type": "markdown",
   "metadata": {},
   "source": [
    "Simply put, Meteor is an open source platform for creating rich web appcliations entirely in JavaScript. It bundles and provides all required pieces under one umbrella. It consistss of Node.js, MongoDB, the actual application code, and a combination of server processes and libraries. Some like to refer to is as an entire ecosystme rather than a framework. But even if it goes beyond what other web frameworks offer, at its core it still relies on a stack to run applications."
   ]
  },
  {
   "cell_type": "markdown",
   "metadata": {},
   "source": [
    "All software and libraries required to create web applications from scratch are bundled in the shape of smart packages, so developers can get started right away. These packages include a reative UI library(BLAZE), user account management(accounts), and a library for transparent reactive programming (Tracker)."
   ]
  },
  {
   "cell_type": "markdown",
   "metadata": {},
   "source": [
    "The Meteor CLI tool allows to know how to install or configure any server software; Meteor takes care of the infrastructure aspect entierly. It's also both a build tool, comparable to make or grunt, and a packge manager, such as apt or npm. For example, it can compile preprocessor languages such as LESS or CoffeeScript on the fly, without first setting up workflow, or add authentication via Facebook OAuth with a single command. Finally, the CLI tool bundles an application to run on different client platforms, inside a web browser or as native mobile apps."
   ]
  },
  {
   "cell_type": "markdown",
   "metadata": {},
   "source": [
    "All Meteor applications run on top of Node.js, aserver that interprets application code written in JavaScript. In contrast to many other application servers, it uses only a single thread. In multithreaded environments, a single thread that writes to disk may block all other threads and put all further client requests on hold until a write operation ifnishes. Node.js, on the other hand, is able to queue all write requests and continue taking and processing requests, effectively avoiding race conditions(that is, two operations trying to update the same data simultaneously). The application code runs in sequence from top to bottom, or synchronously."
   ]
  },
  {
   "cell_type": "markdown",
   "metadata": {},
   "source": [
    "Long running operations such as I/O to disk or database may be split off from the synchronous sequence. They'll be processed in an asynchronous way. Node.js doesn't wait until theses finish, but it attaches a callback and revisits the results of an operation once if finishes, meanwhile working on the next requests in line. To better understand synchronous and asynchronous events, let's consider a familiar programming scenario: heating up a frozen pizza."
   ]
  },
  {
   "cell_type": "markdown",
   "metadata": {},
   "source": [
    "### 1.1.4 Processing in the browser: running on distributed platforms"
   ]
  },
  {
   "cell_type": "markdown",
   "metadata": {},
   "source": [
    "When using a back end running a Java, PHP, or Rails application, processing takes place far away from the user. Clients request daat by calling a URI. In response, the application fetches data from a database, performs some processing to create HTML, and sends the results to a client. The more clients request the same information, the more caching can be done by the server. News sites work particularly well with this paradigm."
   ]
  },
  {
   "cell_type": "markdown",
   "metadata": {},
   "source": [
    "In a scenario where each user has the means to create highly individualized views, a single processing instance can quickly becom a bottleneck. Consider Facebook as an example: no two people will ever see the exact same wall: it needs to be computed for each user individually. That puts a lot of stress on the servers while clients idle most of the time, waiting for a response."
   ]
  },
  {
   "cell_type": "markdown",
   "metadata": {},
   "source": [
    "When the processing power of clients was relatively limited this made perfect sense, but these days a single iPhone already has more computing power than most supercomputers in the early days of the web. Meteor takse advantage of that power and delegates most of the processing to the clients. Smart front ends request data from the server and assemble the Document Object Model only in the browser or mobile device."
   ]
  },
  {
   "cell_type": "markdown",
   "metadata": {},
   "source": [
    "This client-centric approach brings two significant advantages:\n",
    "\n",
    "- Less data needs to be transferred between server and client, which essentially translates into quicker response times.\n",
    "- Processing is less likely to be blocked by other users due to long-running requests, because most of the work is done on each individual client."
   ]
  },
  {
   "cell_type": "markdown",
   "metadata": {},
   "source": [
    "Traditional client-server architectures are based on stateless connections. Clients request data once, the server responds, and the connection is closed again. Updateds from other clients may happen, but unless explicitly make a server request again, they won't see the updates but an historic snapshot of the site. There's no feedback channel from the server to the client to push out updated content."
   ]
  },
  {
   "cell_type": "markdown",
   "metadata": {},
   "source": [
    "Imagine you open your local movie theater's site and see only two seats are left to the new Joss Whedon movie premiere. while you debate whether you should go, someone else buys these tickets. Your browser keeps telling you two seats are available until you decide to click again, only to find out that the tickets are gone."
   ]
  },
  {
   "cell_type": "markdown",
   "metadata": {},
   "source": [
    "Moving the processing from a single server to multiple clients involves moving into the direction of distributed computing platforms. In such distributed environments, data needs to be sent in both directions. In Meteor, the browser is a smart client. Connections aren't stateless anymore; the server may send data to the client whenever there are updates to subcraibed content. To allow bidirectional communication between server and client, Meteor uses Web-Sockets. A standardized protocol named Distributed Data Protocol (DDP) is used to exchange messages. DDP is simple to use and can be used with many other programming languages like PHP or Java as well."
   ]
  },
  {
   "cell_type": "markdown",
   "metadata": {},
   "source": [
    "### 1.1.5 Reactive Programming"
   ]
  },
  {
   "cell_type": "markdown",
   "metadata": {},
   "source": [
    "In a web environment, achieving the Excel effect can be achieved in various ways. Using poll and diff, you could check for changes every two seconds. In scenarios where a lot of users are involved and little change happens, this puts a lot of stress on all components involved and is extremely ineffective. Increasing the polling interval makes the UI appear slow and sluggish. Alternatively, you can monitor all possbile events and define actions writing a lot of code to mimic the desktop behavior. This option becomes a maintenance nightmare when you need to update various elements in the DOM, even if each event fires only a handful of update operations. A reactive environment offers a third option that enbles low-latency UIs with concise, maintainable code."
   ]
  },
  {
   "cell_type": "markdown",
   "metadata": {},
   "source": [
    "Reactive systems needs to react to events, load, failure, and users. To do so, they must be nonblocking and asynchronous. Remember when we talked about full-stack JavaScript? Then you'll notice that reactivity and JavaScript are a natural fit. Also we discussed that Meteor applications run distributed and that the server isn'n the only instance responsible for creating a user's view. Load can still be scaled across multiple servers, but is also scales across each client. Should one of these clients erver fail, it doesn't bring down the entire application."
   ]
  },
  {
   "cell_type": "markdown",
   "metadata": {},
   "source": [
    "Although you can stiil be a less-than-optimal system by not taking into account the principles of reactive systems, reactivity is built into the core of Meteor. You don't have to worry about learning a new programming style; you can continue to use the same synchronous style you're used to. In many cases Meteor automatically hooks up reactivity without you even noticing it."
   ]
  },
  {
   "cell_type": "markdown",
   "metadata": {},
   "source": [
    "All components, from the database to the client UI, are reactive, This means all changes to data are synchronized between clients in real time. There's no need to write any Ajax routines or code to push updates to users because this functionality is directly built into Meteor. Also, it effectively removes the need to write most of the glue code when integrating different components, thereby shortening development times significantly."
   ]
  },
  {
   "cell_type": "markdown",
   "metadata": {},
   "source": [
    "## 1.2 How Meteor works"
   ]
  },
  {
   "cell_type": "markdown",
   "metadata": {},
   "source": [
    "Once deployed on a server, Meteor applications can hardly be told aprat from other Node.js-based projects. The platform's real strength comes to light when you look closely at how Meteor supplements the development process. A CLI tool and a collection of packages enaly developer to quickly achieve results and focus on adding functionality to an application. Infrastructure concerns such as data exchange between database and browser or integrating user authentication via external OAuth providers are taken care of by adding packages."
   ]
  },
  {
   "cell_type": "markdown",
   "metadata": {},
   "source": [
    "### 1.2.3 Client code vs server code"
   ]
  },
  {
   "cell_type": "markdown",
   "metadata": {},
   "source": [
    "When you bgin working with Meteor, you'll find that knowing which code should be executed in which environment is essential to writing applications. Theoretically all code can run anywhere in the stack, but some limitations exist. API keys should never be sent to the client - event maps that handle mouse clicks aren't useful on the server. To let Meteor know where to execute specific code, you can organize files in dedicated folders or use a check to verify in which context they're running."
   ]
  },
  {
   "cell_type": "markdown",
   "metadata": {},
   "source": [
    "## 1.3 Strengths and weaknesses"
   ]
  },
  {
   "cell_type": "markdown",
   "metadata": {},
   "source": [
    "### 1.3.1 Where Meteor shines"
   ]
  },
  {
   "cell_type": "markdown",
   "metadata": {},
   "source": [
    "The Meteor platform offers all the tools required to build applications for different platforms - the web or mobile. It's a one-stop shop for developers and makes it much simpler to get started with than most other frameworks. The main advantages of Meteor are a single language across the entire stack, built-in reactivity, and a thriving ecosystem of packages to extend existing functionality. In summary, this translates to development speed."
   ]
  },
  {
   "cell_type": "markdown",
   "metadata": {},
   "source": [
    "### 1.3.2 Challenges when using Meteor"
   ]
  },
  {
   "cell_type": "markdown",
   "metadata": {},
   "source": [
    "Although you can use Meteor to build any type of site, in some situations it's best to use alternatives. Given its relatively young age and positioning, you may encounter certain challenges when working with Meteor."
   ]
  },
  {
   "cell_type": "markdown",
   "metadata": {},
   "source": [
    "**Processing Intense Applications**\n",
    "Especailly when your application relies on heavy processing such as data-crunching, extract, transform, and load(ETL) jobs, Meteor won't be able to handle the load well. By nature, any Node.js process is single-threaded, so it's much harder to take advantabe of fast multiprocessor capabilities. In a multitier architecture, Meteor could be used to serve the UI, but it doesn't offer a lot of computing power.\n",
    " The way to integrate more processing power into a Meteor application is similar to any other Node.js application: you delegate CPU-intense tasks to child processes. But this is also a best-practice architecture for any language, where multiple tiers are used to separate the number crunching from the user interface.\n",
    " \n",
    " **Maturity**\n",
    " Meteor is relatively young and still has to prove itself in production environments in regard to scaling or search engine rankings. Scaling applications in particular requires a lot of knowledge about the components involved and possible bottlenecks.\n",
    " Although Node.js has proven that it's capable of scaling to large loads, Meteor still has to show it can handle large deployments and a high number of requests. Conservative users might argue that it's safer to rely on an established foundation. Just keep in mind that any server stack and framework is likely to be slow if the application isn't written with scalability and performance in mind. Even if the Meteor community is friendly and helpful, it is no way comparable with the huge resources available for PHP or Java. The same goes for hosting options; there aren't yet as many dedicated Node.js or Meteor solutions available as for PHP or even Python. If you plan on hosting your application on your own infrastructure, several solutions are available.\n",
    "  As with all young projects, the number of tools available around the framework itself is rather limited with Meteor as of now.\n",
    "  \n",
    "**Few Conventions on Structure**\n",
    "**Using SQL and Alternative databases**\n",
    "**Serving static content**\n",
    "Some sites like newspapers and magazines rely heavily on static content. Those are the sites that profit most from server-rendered HTML and can use advanced caching mechanisms that speed up the site for all users. Also, the initial loading times are much faster.\n",
    "If initial loading times are important to your app, or it serves mostly the same content for a large number of users, you won't be able to leverage all the advantages of Meteor. In fact, you'll need to find ways to around its standard behavior to optimize for your use case and you therefore might want to use a more traditional framework to build your site."
   ]
  },
  {
   "cell_type": "code",
   "execution_count": null,
   "metadata": {},
   "outputs": [],
   "source": []
  }
 ],
 "metadata": {
  "kernelspec": {
   "display_name": "Python 3",
   "language": "python",
   "name": "python3"
  },
  "language_info": {
   "codemirror_mode": {
    "name": "ipython",
    "version": 3
   },
   "file_extension": ".py",
   "mimetype": "text/x-python",
   "name": "python",
   "nbconvert_exporter": "python",
   "pygments_lexer": "ipython3",
   "version": "3.7.1"
  }
 },
 "nbformat": 4,
 "nbformat_minor": 2
}
