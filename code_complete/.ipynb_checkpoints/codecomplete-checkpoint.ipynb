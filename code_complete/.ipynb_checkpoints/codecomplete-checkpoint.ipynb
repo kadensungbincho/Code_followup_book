{
 "cells": [
  {
   "cell_type": "markdown",
   "metadata": {},
   "source": [
    "## Metaphors for a Richer understanding of software development"
   ]
  },
  {
   "cell_type": "markdown",
   "metadata": {},
   "source": [
    "Computer science has some of the most coloful language of any field. In what other field cna you walk into a sterile room, carefully controlled at 68F, and find viruses, Torjan horses, worms, bugs , bombs, crashes, flames, twisted sex changers, and fatal errors?"
   ]
  },
  {
   "cell_type": "markdown",
   "metadata": {},
   "source": [
    "### 2.1 The importance of metahpors"
   ]
  },
  {
   "cell_type": "markdown",
   "metadata": {},
   "source": [
    "Important developments often arise out of analogies. By comparing a topic you understand poorly to something similar you understand better, you can come up with insights that result in a better understanding of the less-familiar topic. This use of metaphor is called 'modeling'."
   ]
  },
  {
   "cell_type": "markdown",
   "metadata": {},
   "source": [
    "The history of science is full of discoveries based on expliting the power of metaphors. The chemist Kekule had a dream in which he saw a snake gras pits tail in its mouth. When he awoke, he realized that a molecular structure based on a similar ring shape would account for the properties of benzene. Further expeirmentation confirmed the hypothesis"
   ]
  },
  {
   "cell_type": "markdown",
   "metadata": {},
   "source": [
    "As you might expect, some metaphors are better than others. A good metaphor is simple, relates well to other relevant metaphors, and explains uch of the experimental evidence and other observed phenomena. \n",
    " Consider the example of a heavy stone swinging back and forth on a string. Before Galilo, and Aristotelian looking at the swinging stone thought that a heavy object move naturally from a higher position to a state of rest at a lower one. The Aristotelian would think that what the stone was really doing was falling with difficulty. When Galile saw the swinging stone, he saw a pendulum. He thought that what the stone was really doing was repeating the same motion again and again, almost perfectly. "
   ]
  },
  {
   "cell_type": "markdown",
   "metadata": {},
   "source": [
    "The sugggestive powers of the two models are quite different. The Aristotelian who saw the swingin stone as an object falling would observe the stone's weight, the height to which it had been raised, and the time it took to come to rest. "
   ]
  },
  {
   "cell_type": "markdown",
   "metadata": {},
   "source": [
    "The history of science isn't a seires of switches from the \"wrong\" metahpor to the \"right\" one. It's a seires of changes from \"worse\" metaphors to \"better\" ones, from less inclusive to more inclusive, from suggestive in one area to suggestive in another.\n",
    "\n",
    " Software development is a younger field than most other sciences. It's not yet mature enough to have a set of standard metaphors. Consequently, it has a profusion of complementary and coflicting metahpors. Some are better than others. Some are worse. How well you understand the metaphors determines how well you understand software development."
   ]
  },
  {
   "cell_type": "code",
   "execution_count": null,
   "metadata": {},
   "outputs": [],
   "source": []
  }
 ],
 "metadata": {
  "kernelspec": {
   "display_name": "Python 3",
   "language": "python",
   "name": "python3"
  },
  "language_info": {
   "codemirror_mode": {
    "name": "ipython",
    "version": 3
   },
   "file_extension": ".py",
   "mimetype": "text/x-python",
   "name": "python",
   "nbconvert_exporter": "python",
   "pygments_lexer": "ipython3",
   "version": "3.6.4"
  }
 },
 "nbformat": 4,
 "nbformat_minor": 2
}
