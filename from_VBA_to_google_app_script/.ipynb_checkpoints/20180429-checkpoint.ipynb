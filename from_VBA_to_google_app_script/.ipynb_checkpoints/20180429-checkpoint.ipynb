{
 "cells": [
  {
   "cell_type": "markdown",
   "metadata": {},
   "source": [
    "## Living with the Quotas"
   ]
  },
  {
   "cell_type": "markdown",
   "metadata": {},
   "source": [
    "## Throttling"
   ]
  },
  {
   "cell_type": "code",
   "execution_count": 1,
   "metadata": {},
   "outputs": [
    {
     "ename": "ReferenceError",
     "evalue": "threads is not defined",
     "output_type": "error",
     "traceback": [
      "ReferenceError: threads is not defined",
      "    at evalmachine.<anonymous>:1:1",
      "    at Object.exports.runInThisContext (vm.js:54:17)",
      "    at run ([eval]:1002:15)",
      "    at onRunRequest ([eval]:829:18)",
      "    at onMessage ([eval]:789:13)",
      "    at emitTwo (events.js:87:13)",
      "    at process.emit (events.js:172:7)",
      "    at handleMessage (internal/child_process.js:695:10)",
      "    at Pipe.channel.onread (internal/child_process.js:440:11)"
     ]
    }
   ],
   "source": [
    "threads.forEach(function(d) {\n",
    "    var messages = d.getMessages();\n",
    "    doSomeThingWith(messages);\n",
    "    Utilities.sleep(1000);x\n",
    "})"
   ]
  },
  {
   "cell_type": "markdown",
   "metadata": {},
   "source": [
    "Because this is such a common requirement in almost every script that ccesses rate-limited resources, it's a good idea to use a common library function for backoff:"
   ]
  },
  {
   "cell_type": "markdown",
   "metadata": {},
   "source": [
    "Code for exponential backoff"
   ]
  },
  {
   "cell_type": "markdown",
   "metadata": {},
   "source": [
    "The error messages can be internationalized for the kinds of errors that should be retried. An example of a quota error is given in Russian in the following snippet. To add your own language, just expand the list with the equivalent Apps Script error message."
   ]
  },
  {
   "cell_type": "markdown",
   "metadata": {},
   "source": [
    "## Spliting"
   ]
  },
  {
   "cell_type": "markdown",
   "metadata": {},
   "source": [
    "Libraries"
   ]
  },
  {
   "cell_type": "markdown",
   "metadata": {},
   "source": [
    "The properties service is a secure store, rather like the Window registry. Chapter 5 is dedicated entierlyto this service. Scripts each come with their own Properties service. You can mitigate the limitation on overall property size by using the Properties service of a library and passing it to the main script(s) that use it:"
   ]
  },
  {
   "cell_type": "code",
   "execution_count": 3,
   "metadata": {},
   "outputs": [],
   "source": [
    "// library \n",
    "function getPropertyService() {\n",
    "    return PropertiesSErvice.getScriptProperties();\n",
    "}\n",
    "\n",
    "// main script\n",
    "function work() {\n",
    "    var libraryProps = Libarary.getPropertyService();\n",
    "    var mainProps = PropertiesService.getScriptProperties();\n",
    "}"
   ]
  },
  {
   "cell_type": "markdown",
   "metadata": {},
   "source": [
    "## Batching"
   ]
  },
  {
   "cell_type": "markdown",
   "metadata": {},
   "source": [
    "Some scripts can be split so that they work on separate sections of the data being processed. Applying the preceding tehcnuque, you can use the Properties service of a common library to exchange progress information between scripts so one can pick up where the other left off."
   ]
  },
  {
   "cell_type": "markdown",
   "metadata": {},
   "source": [
    "Parallel Running"
   ]
  },
  {
   "cell_type": "markdown",
   "metadata": {},
   "source": [
    "Similar to batching, a shared library Properties service can be used to orchestrate cooperating scripts, except in this case the scripts run simultaneously using MapReduce-type techniques to consolidate and pass data from one phase to another."
   ]
  },
  {
   "cell_type": "markdown",
   "metadata": {},
   "source": [
    "## Offloading "
   ]
  },
  {
   "cell_type": "markdown",
   "metadata": {},
   "source": [
    "Apps Script runs on Google Servers, but HTML service tasks can be orchestrated by Apps Scripts to run on the local client. Generally speaking, compute-intensive tasks will run more quickly when executed locally. The HTML service can asynchronously fire off Apps Script tasks to deal with processes that require interaction with Apps Script services."
   ]
  },
  {
   "cell_type": "markdown",
   "metadata": {},
   "source": [
    "Carefully offloading work to the HTML service is a way of completely circumventing many of the server-side limitations, but it's a complex topic that's beyond the VBA/Apps Script scope."
   ]
  },
  {
   "cell_type": "markdown",
   "metadata": {},
   "source": [
    "## Avoiding Service Calls"
   ]
  },
  {
   "cell_type": "markdown",
   "metadata": {},
   "source": [
    "Many of the rate-limited services are related to fetching data externally or from Google services or APIs. In some cases, either the data will not have changed from one call to the next, or it is not critical that the very latest data be used. Apps Script provides a Cache service for rapid access to data, enabling the complete avoidance of quota-consuming service calls."
   ]
  },
  {
   "cell_type": "markdown",
   "metadata": {},
   "source": [
    "## Cache Service"
   ]
  },
  {
   "cell_type": "markdown",
   "metadata": {},
   "source": [
    "The Cache service allos data to be stored in key/value pairs. It is subject to limitations in data size, but is not constrained by rate limits. As a result, it's often good practice to write serice or external data that might be needed by this script to cache, and to first check the cache to see if it's already there. Not only does this avoid service call quota consumption, but also cache is generally faster to access than Apps Script services or external data and doesn't need to be reprocessed."
   ]
  },
  {
   "cell_type": "markdown",
   "metadata": {},
   "source": [
    "Cache scopes"
   ]
  },
  {
   "cell_type": "markdown",
   "metadata": {},
   "source": [
    "The selection of which cache to use depends on the data visibility required. The cache visibility is limited to the current script, but within that there are three different caches, described in Table 4-3."
   ]
  },
  {
   "cell_type": "code",
   "execution_count": 4,
   "metadata": {
    "collapsed": true
   },
   "outputs": [
    {
     "ename": "ReferenceError",
     "evalue": "CacheService is not defined",
     "output_type": "error",
     "traceback": [
      "ReferenceError: CacheService is not defined",
      "    at evalmachine.<anonymous>:1:13",
      "    at Object.exports.runInThisContext (vm.js:54:17)",
      "    at run ([eval]:1002:15)",
      "    at onRunRequest ([eval]:829:18)",
      "    at onMessage ([eval]:789:13)",
      "    at emitTwo (events.js:87:13)",
      "    at process.emit (events.js:172:7)",
      "    at handleMessage (internal/child_process.js:695:10)",
      "    at Pipe.channel.onread (internal/child_process.js:440:11)"
     ]
    }
   ],
   "source": [
    "var cache = CacheService.getScriptCache();"
   ]
  },
  {
   "cell_type": "code",
   "execution_count": 5,
   "metadata": {
    "collapsed": true
   },
   "outputs": [
    {
     "ename": "ReferenceError",
     "evalue": "getDataFromSomeService is not defined",
     "output_type": "error",
     "traceback": [
      "ReferenceError: getDataFromSomeService is not defined",
      "    at evalmachine.<anonymous>:1:12",
      "    at Object.exports.runInThisContext (vm.js:54:17)",
      "    at run ([eval]:1002:15)",
      "    at onRunRequest ([eval]:829:18)",
      "    at onMessage ([eval]:789:13)",
      "    at emitTwo (events.js:87:13)",
      "    at process.emit (events.js:172:7)",
      "    at handleMessage (internal/child_process.js:695:10)",
      "    at Pipe.channel.onread (internal/child_process.js:440:11)"
     ]
    }
   ],
   "source": [
    "var data = getDataFromSomeService();\n",
    "cache.put(\"mykey\", data);"
   ]
  },
  {
   "cell_type": "markdown",
   "metadata": {},
   "source": [
    "A future call to this same script would first check to see if the data was already in the cache, and if not, make the service call, thus avoiding the service call if there had been one made recently:"
   ]
  },
  {
   "cell_type": "code",
   "execution_count": 6,
   "metadata": {},
   "outputs": [
    {
     "ename": "TypeError",
     "evalue": "Cannot read property 'get' of undefined",
     "output_type": "error",
     "traceback": [
      "TypeError: Cannot read property 'get' of undefined",
      "    at evalmachine.<anonymous>:1:17",
      "    at Object.exports.runInThisContext (vm.js:54:17)",
      "    at run ([eval]:1002:15)",
      "    at onRunRequest ([eval]:829:18)",
      "    at onMessage ([eval]:789:13)",
      "    at emitTwo (events.js:87:13)",
      "    at process.emit (events.js:172:7)",
      "    at handleMessage (internal/child_process.js:695:10)",
      "    at Pipe.channel.onread (internal/child_process.js:440:11)"
     ]
    }
   ],
   "source": [
    "var data = cache.get(\"mykey\");\n",
    "if (!data) {\n",
    "    data = getDataFromSomeService();\n",
    "    cache.put(\"mykey\", data);\n",
    "}"
   ]
  },
  {
   "cell_type": "markdown",
   "metadata": {},
   "source": [
    "** Cache data expiry **"
   ]
  },
  {
   "cell_type": "markdown",
   "metadata": {},
   "source": [
    "It's important that cache data expires in order to provoke a refresh from time to time. By default, the cache will expire after 10 minutes, but you can change that like so:"
   ]
  },
  {
   "cell_type": "markdown",
   "metadata": {},
   "source": [
    "** Sharing cache **"
   ]
  },
  {
   "cell_type": "markdown",
   "metadata": {},
   "source": [
    "Caches are scoped to a particular script, but there may be occasions when multiple scripts would want to benefit from each other's cached results. "
   ]
  },
  {
   "cell_type": "code",
   "execution_count": 7,
   "metadata": {},
   "outputs": [
    {
     "ename": "ReferenceError",
     "evalue": "Library is not defined",
     "output_type": "error",
     "traceback": [
      "ReferenceError: Library is not defined",
      "    at evalmachine.<anonymous>:6:13",
      "    at Object.exports.runInThisContext (vm.js:54:17)",
      "    at run ([eval]:1002:15)",
      "    at onRunRequest ([eval]:829:18)",
      "    at onMessage ([eval]:789:13)",
      "    at emitTwo (events.js:87:13)",
      "    at process.emit (events.js:172:7)",
      "    at handleMessage (internal/child_process.js:695:10)",
      "    at Pipe.channel.onread (internal/child_process.js:440:11)"
     ]
    }
   ],
   "source": [
    "function getCacheService() {\n",
    "    return CacheService.getScriptCache();\n",
    "}\n",
    "\n",
    "// main script\n",
    "var cache = Library.getCacheService();\n",
    "var data = cache.get(\"mykey\");\n",
    "if (!data) {\n",
    "    data = getDataFromSomeService();\n",
    "    cache.put(\"mykey\", data);\n",
    "}"
   ]
  },
  {
   "cell_type": "markdown",
   "metadata": {},
   "source": [
    "# Ch 5 : The Properties Service"
   ]
  },
  {
   "cell_type": "markdown",
   "metadata": {},
   "source": [
    "The first few chapters covered the Apps Script language, and how VBA concepts and structures could be translated into their JavaScript equivalents. \n",
    "\n",
    "VBA becomes useful when the shared libraries that allow access to the Office object model are referenced. In the same way, Apps Script uses Google Apps services to provide access to the object models associated with the apps it can extend. This book will concentrate on those that have Office equivalents, but will also touch on the Google versions of a few additional capabilities that VBA obtains by using other shared libraries. We'll also take a brief look at some service that VBA does not have, but that we need to use Apps Script effectively."
   ]
  },
  {
   "cell_type": "markdown",
   "metadata": {},
   "source": [
    "## APIs Versus Built-In Services"
   ]
  },
  {
   "cell_type": "markdown",
   "metadata": {},
   "source": [
    "There are many Google APIs, and only a few of them have been instrumented as built-in services for Apps Script. Many of the services we'll look at here can be accessed from other languages through language-specific APIs, or as JSON REST APIs to be accessed by any language."
   ]
  },
  {
   "cell_type": "markdown",
   "metadata": {},
   "source": [
    "Under the hood, these built-in services use these APIs to process translated requets from Apps Script. It is perfectly possible to access them directly from Apps Script through their JSON APIs, and in fact in some cases not all of the underlying APIs' capabilities have been exposed in the Apps Script implementation, so there may be some occasions when this is required. The built-in services provide a convenient and well-integrated way of accessing these services, taking care of authentication and other complications behind the scenes."
   ]
  },
  {
   "cell_type": "markdown",
   "metadata": {},
   "source": [
    "The scripts family of services, though, are specific to Apps Script and can't generally be accessed through any other API. One such service is the Properties service, which provides a convenient place to store persistent data."
   ]
  },
  {
   "cell_type": "markdown",
   "metadata": {},
   "source": [
    "- DocumentProperties \n",
    "- ScriptProperties\n",
    "- UserProperties"
   ]
  },
  {
   "cell_type": "markdown",
   "metadata": {},
   "source": [
    "## The Registry Versus the Property Store"
   ]
  },
  {
   "cell_type": "markdown",
   "metadata": {},
   "source": [
    "VBA normally uses the Windows registry to store persistent parameters, or more ambitions developers might use custom XML parts in an Office document. Parameters could be keys, application preferences, or some other data that needs to persist across sessions or be embedded in a document."
   ]
  },
  {
   "cell_type": "markdown",
   "metadata": {},
   "source": [
    "## Comparisons"
   ]
  },
  {
   "cell_type": "code",
   "execution_count": 8,
   "metadata": {},
   "outputs": [
    {
     "ename": "ReferenceError",
     "evalue": "PropertiesService is not defined",
     "output_type": "error",
     "traceback": [
      "ReferenceError: PropertiesService is not defined",
      "    at evalmachine.<anonymous>:1:12",
      "    at Object.exports.runInThisContext (vm.js:54:17)",
      "    at run ([eval]:1002:15)",
      "    at onRunRequest ([eval]:829:18)",
      "    at onMessage ([eval]:789:13)",
      "    at emitTwo (events.js:87:13)",
      "    at process.emit (events.js:172:7)",
      "    at handleMessage (internal/child_process.js:695:10)",
      "    at Pipe.channel.onread (internal/child_process.js:440:11)"
     ]
    }
   ],
   "source": [
    "var prop = PropertiesService.getScriptProperties();\n",
    "prop.setProperty(\"startwars\", JSON.stringify({\n",
    "    \"yoda\":\"frank oz\",\n",
    "    \"leia\":\"carrie fisher\"\n",
    "}))"
   ]
  },
  {
   "cell_type": "markdown",
   "metadata": {},
   "source": [
    "# Ch 6: Spreadsheets"
   ]
  },
  {
   "cell_type": "markdown",
   "metadata": {},
   "source": [
    "- Class\n",
    "  - Range"
   ]
  },
  {
   "cell_type": "code",
   "execution_count": 9,
   "metadata": {},
   "outputs": [
    {
     "ename": "ReferenceError",
     "evalue": "sheet is not defined",
     "output_type": "error",
     "traceback": [
      "ReferenceError: sheet is not defined",
      "    at evalmachine.<anonymous>:1:13",
      "    at Object.exports.runInThisContext (vm.js:54:17)",
      "    at run ([eval]:1002:15)",
      "    at onRunRequest ([eval]:829:18)",
      "    at onMessage ([eval]:789:13)",
      "    at emitTwo (events.js:87:13)",
      "    at process.emit (events.js:172:7)",
      "    at handleMessage (internal/child_process.js:695:10)",
      "    at Pipe.channel.onread (internal/child_process.js:440:11)"
     ]
    }
   ],
   "source": [
    "var range = sheet.getRange(\"a2:b4\");"
   ]
  },
  {
   "cell_type": "code",
   "execution_count": 13,
   "metadata": {},
   "outputs": [],
   "source": [
    "var Properties = (function (properties) {\n",
    "    \n",
    "    'use strict';\n",
    "    \n",
    "    var APP_NAME = 'carriers';\n",
    "    /**\n",
    "     * get the service to use\n",
    "     * @return {PropertiesService}\n",
    "     */\n",
    "    properties.getService = function () {\n",
    "        return PropertiesService.getUserProperties();\n",
    "    }\n",
    "    \n",
    "    /** \n",
    "     * get the properties for this app\n",
    "     * @return {object|null} the properties\n",
    "     */\n",
    "    properties.get = function () {\n",
    "        var prop = properties.getService().getProperty(APP_NAME);\n",
    "        return prop ? JSON.parse(prop) : null;\n",
    "    }\n",
    "    \n",
    "    /** set the properties for this app\n",
    "     * @param {object} props the properties for this app\n",
    "     * @return {object} the properties\n",
    "     */\n",
    "    properties.set = function (props) {\n",
    "        properties.getService().setProperty(APP_NAME, JSON.stringify(props));\n",
    "        return props;\n",
    "    }\n",
    "    \n",
    "    return properties;\n",
    "})(Properties || {});"
   ]
  },
  {
   "cell_type": "code",
   "execution_count": null,
   "metadata": {},
   "outputs": [],
   "source": [
    "function setProperties() {\n",
    "    Properties.set ( {\n",
    "        carries: {\n",
    "            sheet : \"lookup\",\n",
    "            id : \"1f4zuZZv2NiLuYSGB5j4ENFc6w~\"\n",
    "        },\n",
    "        update: {\n",
    "            sheet: \"updateLookup\",\n",
    "            id: \"dsafds\"\n",
    "        }\n",
    "    })\n",
    "}"
   ]
  },
  {
   "cell_type": "code",
   "execution_count": null,
   "metadata": {},
   "outputs": [],
   "source": [
    "/**\n",
    " * create a structured table from a range of data\n",
    "* @constructor ListObject\n",
    "* @param {Range} range the data range\n",
    "* @param {string} [name] the table name\n",
    "* @param {boolean} [hasHeaders=true] whether the table has headers\n",
    "* @return {ListObject} self\n",
    "*/\n",
    "function ListObject(range, name, hasHeaders) {\n",
    "    var self = this;\n",
    "    hasHeaders_ = fixOptional(hasHeaders, true);\n",
    "}\n",
    "\n",
    "// get the data from the range\n",
    "var range_ = range;\n",
    "var data_ = range_.getValues();\n",
    "//generate a unique name for the table if none given\n",
    "var name_ = name || 'table)'+ new Date().getTime().toString(16);\n",
    "// get the header row\n",
    "var headers_ = hasHeaders_ ? data_.shift() : null;\n",
    "\n",
    "// get the header collection (using the VBA collection object)\n",
    "var numCols_ = range_.getNumColumns();\n",
    "self.ListColumns = new Collection();\n",
    "self.ListRows = new Collection();\n",
    "\n",
    "function reCalculate_ () {\n",
    "    self.DataBodyRange = range_.offset(hasHeaders_ ?\n",
    "                                      1: 0, 0, data_,.length, numCols_);\n",
    "    self.HeaderRowRange = hasHeaders_ ?\n",
    "        range_.offset(0, 0, 1, numCols_) : null;\n",
    "    \n",
    "    for (var i=0; i<numCols_; i++) {\n",
    "        self.ListColumns.Add( {\n",
    "            Index:i+1,\n",
    "            Name:hasHeaders_ ?\n",
    "        })\n",
    "    }\n",
    "}"
   ]
  },
  {
   "cell_type": "markdown",
   "metadata": {},
   "source": [
    "# Ch7 : The Document App"
   ]
  },
  {
   "cell_type": "markdown",
   "metadata": {},
   "source": [
    "# Ch8 : Gmail, Calendar, and Contacts Apps\n"
   ]
  },
  {
   "cell_type": "code",
   "execution_count": 14,
   "metadata": {},
   "outputs": [
    {
     "ename": "ReferenceError",
     "evalue": "threads is not defined",
     "output_type": "error",
     "traceback": [
      "ReferenceError: threads is not defined",
      "    at evalmachine.<anonymous>:5:1",
      "    at Object.exports.runInThisContext (vm.js:54:17)",
      "    at run ([eval]:1002:15)",
      "    at onRunRequest ([eval]:829:18)",
      "    at onMessage ([eval]:789:13)",
      "    at emitTwo (events.js:87:13)",
      "    at process.emit (events.js:172:7)",
      "    at handleMessage (internal/child_process.js:695:10)",
      "    at Pipe.channel.onread (internal/child_process.js:440:11)"
     ]
    }
   ],
   "source": [
    "/** \n",
    " * get matching threads\n",
    " * @return {GmailThread[]} the threads\n",
    " */\n",
    "threads.get = function () {\n",
    "    return Utils.rateLimitExpBackoff(function () {\n",
    "        // get all target threads\n",
    "        return GamilApp.serach(\"flight data\" +\n",
    "            \" after:\"+\"2015/08'/15\" +\n",
    "            \" -label:\"+\"flight-data-processed\" +\n",
    "            \" in:\"+\"inbox\");\n",
    "    })\n",
    "}"
   ]
  },
  {
   "cell_type": "code",
   "execution_count": null,
   "metadata": {},
   "outputs": [],
   "source": []
  }
 ],
 "metadata": {
  "kernelspec": {
   "display_name": "Javascript (Node.js)",
   "language": "javascript",
   "name": "javascript"
  },
  "language_info": {
   "file_extension": ".js",
   "mimetype": "application/javascript",
   "name": "javascript",
   "version": "4.4.0"
  }
 },
 "nbformat": 4,
 "nbformat_minor": 2
}
