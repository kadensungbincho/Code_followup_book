{
 "cells": [
  {
   "cell_type": "markdown",
   "metadata": {},
   "source": [
    "VBA is implicitly typed. If you don't define a variable, it's assumed to be a Variant. In VBA, it is best practice to prevent accidental reference to undefined variables by using:"
   ]
  },
  {
   "cell_type": "markdown",
   "metadata": {},
   "source": [
    "It's not exactly equivalent, but I recommend you add this directive at the top of each of your scripts, as it will enhance the detection of common errors by a future version of the IDE."
   ]
  },
  {
   "cell_type": "markdown",
   "metadata": {},
   "source": [
    "The Apps Script IDE gives a little bit of help in detecting undescared variables;"
   ]
  },
  {
   "cell_type": "markdown",
   "metadata": {},
   "source": [
    "You'll notice that a, which is declared, will be colored green when referenced, whereas b will be black, because it's being used without having been previously declared."
   ]
  },
  {
   "cell_type": "markdown",
   "metadata": {},
   "source": [
    "## Operators"
   ]
  },
  {
   "cell_type": "markdown",
   "metadata": {},
   "source": [
    "JavaScript operators and VBA operators are pretty similar, so it should not be a great challenge for the VBA developer to adapt. Sometimes you need a few steps to acieve the same thing in one language or the other, and there are a couple of quirks to be careful of. This section provides a quick reference guide of equivalences."
   ]
  },
  {
   "cell_type": "markdown",
   "metadata": {},
   "source": [
    "## Mathematical Operators"
   ]
  },
  {
   "cell_type": "markdown",
   "metadata": {},
   "source": [
    "The operators shown in Table 2-2 are used to perform calculations. "
   ]
  },
  {
   "cell_type": "markdown",
   "metadata": {},
   "source": [
    "## Assignment Operators"
   ]
  },
  {
   "cell_type": "code",
   "execution_count": 3,
   "metadata": {},
   "outputs": [
    {
     "name": "stdout",
     "output_type": "stream",
     "text": [
      "42\n"
     ]
    }
   ],
   "source": [
    "var theAnswerToLife = 42;\n",
    "console.log(theAnswerToLife)"
   ]
  },
  {
   "cell_type": "code",
   "execution_count": 4,
   "metadata": {},
   "outputs": [
    {
     "data": {
      "text/plain": [
       "50"
      ]
     },
     "execution_count": 4,
     "metadata": {},
     "output_type": "execute_result"
    }
   ],
   "source": [
    "var counter = 1;\n",
    "counter++;\n",
    "counter += 10;\n",
    "counter -= 2;\n",
    "counter *= 5;"
   ]
  },
  {
   "cell_type": "markdown",
   "metadata": {},
   "source": [
    "## String Operators"
   ]
  },
  {
   "cell_type": "code",
   "execution_count": 5,
   "metadata": {},
   "outputs": [],
   "source": [
    "var theMeaningOfLife = \"try to be nice to people\";"
   ]
  },
  {
   "cell_type": "code",
   "execution_count": 6,
   "metadata": {},
   "outputs": [
    {
     "data": {
      "text/plain": [
       "'try to be nice to peopleis that'"
      ]
     },
     "execution_count": 6,
     "metadata": {},
     "output_type": "execute_result"
    }
   ],
   "source": [
    "theMeaningOfLife + \"is that\""
   ]
  },
  {
   "cell_type": "markdown",
   "metadata": {},
   "source": [
    "## Comparison Operators"
   ]
  },
  {
   "cell_type": "markdown",
   "metadata": {},
   "source": [
    "## Logical Operators"
   ]
  },
  {
   "cell_type": "markdown",
   "metadata": {},
   "source": [
    "## Bitwise Operators"
   ]
  },
  {
   "cell_type": "code",
   "execution_count": 7,
   "metadata": {},
   "outputs": [],
   "source": [
    "var a = 1;\n",
    "var a = 2;"
   ]
  },
  {
   "cell_type": "code",
   "execution_count": 8,
   "metadata": {},
   "outputs": [
    {
     "data": {
      "text/plain": [
       "2"
      ]
     },
     "execution_count": 8,
     "metadata": {},
     "output_type": "execute_result"
    }
   ],
   "source": [
    "a"
   ]
  },
  {
   "cell_type": "code",
   "execution_count": 9,
   "metadata": {},
   "outputs": [],
   "source": [
    "var a = new Date();"
   ]
  },
  {
   "cell_type": "code",
   "execution_count": 10,
   "metadata": {},
   "outputs": [
    {
     "data": {
      "text/plain": [
       "Sat Apr 28 2018 02:18:43 GMT+0900 (KST)"
      ]
     },
     "execution_count": 10,
     "metadata": {},
     "output_type": "execute_result"
    }
   ],
   "source": [
    "a"
   ]
  },
  {
   "cell_type": "code",
   "execution_count": 13,
   "metadata": {},
   "outputs": [],
   "source": [
    "var a = {\n",
    "};"
   ]
  },
  {
   "cell_type": "code",
   "execution_count": 14,
   "metadata": {},
   "outputs": [],
   "source": [
    "var func = function (bar) {\n",
    "    return 'answer ' + bar;\n",
    "}"
   ]
  },
  {
   "cell_type": "code",
   "execution_count": 15,
   "metadata": {},
   "outputs": [
    {
     "data": {
      "text/plain": [
       "'answer 20'"
      ]
     },
     "execution_count": 15,
     "metadata": {},
     "output_type": "execute_result"
    }
   ],
   "source": [
    "func(20);"
   ]
  },
  {
   "cell_type": "markdown",
   "metadata": {},
   "source": [
    "## Anonymous Function"
   ]
  },
  {
   "cell_type": "code",
   "execution_count": 16,
   "metadata": {},
   "outputs": [],
   "source": [
    "function boo (passedFunction) {\n",
    "    return passedFunction(20);\n",
    "}\n",
    "var result = boo ( function (bar) { return 'answer ' + bar;})"
   ]
  },
  {
   "cell_type": "code",
   "execution_count": 17,
   "metadata": {},
   "outputs": [
    {
     "data": {
      "text/plain": [
       "'answer 20'"
      ]
     },
     "execution_count": 17,
     "metadata": {},
     "output_type": "execute_result"
    }
   ],
   "source": [
    "result"
   ]
  },
  {
   "cell_type": "markdown",
   "metadata": {},
   "source": [
    "p 55"
   ]
  },
  {
   "cell_type": "markdown",
   "metadata": {},
   "source": [
    "## Functional Programming"
   ]
  },
  {
   "cell_type": "code",
   "execution_count": null,
   "metadata": {},
   "outputs": [],
   "source": [
    "var newArray = myArray.map(function (item, index,  originalArray) {\n",
    "    return something;\n",
    "})\n"
   ]
  },
  {
   "cell_type": "code",
   "execution_count": null,
   "metadata": {},
   "outputs": [],
   "source": [
    "var reduction = myArray.reduce(function (previous, current) {\n",
    "    return aModifiedPrevious;\n",
    "}, initialValue)"
   ]
  },
  {
   "cell_type": "code",
   "execution_count": 2,
   "metadata": {},
   "outputs": [],
   "source": [
    "var theArray = [1, 2, 3];"
   ]
  },
  {
   "cell_type": "markdown",
   "metadata": {},
   "source": [
    "forEach"
   ]
  },
  {
   "cell_type": "code",
   "execution_count": 3,
   "metadata": {},
   "outputs": [],
   "source": [
    "var theSum = 0;\n",
    "theArray.forEach(function(d) {\n",
    "    theSum += d;\n",
    "})"
   ]
  },
  {
   "cell_type": "code",
   "execution_count": 4,
   "metadata": {},
   "outputs": [
    {
     "data": {
      "text/plain": [
       "6"
      ]
     },
     "execution_count": 4,
     "metadata": {},
     "output_type": "execute_result"
    }
   ],
   "source": [
    "theSum"
   ]
  },
  {
   "cell_type": "markdown",
   "metadata": {},
   "source": [
    "reduce"
   ]
  },
  {
   "cell_type": "markdown",
   "metadata": {},
   "source": [
    "A better way of transforming an array into a single result is to use the reduce method, which carries forward the result of the previous iteration and returns the final result."
   ]
  },
  {
   "cell_type": "code",
   "execution_count": 5,
   "metadata": {},
   "outputs": [],
   "source": [
    "var theSum = theArray.reduce(function(previous, current) {\n",
    "    return previous + current;\n",
    "}, 0)"
   ]
  },
  {
   "cell_type": "code",
   "execution_count": 6,
   "metadata": {},
   "outputs": [
    {
     "data": {
      "text/plain": [
       "6"
      ]
     },
     "execution_count": 6,
     "metadata": {},
     "output_type": "execute_result"
    }
   ],
   "source": [
    "theSum"
   ]
  },
  {
   "cell_type": "markdown",
   "metadata": {},
   "source": [
    "filter"
   ]
  },
  {
   "cell_type": "code",
   "execution_count": 7,
   "metadata": {},
   "outputs": [],
   "source": [
    "var oddNumbers = theArray.filter(function(d) {\n",
    "    return d % 2;\n",
    "})"
   ]
  },
  {
   "cell_type": "code",
   "execution_count": 8,
   "metadata": {},
   "outputs": [
    {
     "data": {
      "text/plain": [
       "[ 1, 3 ]"
      ]
     },
     "execution_count": 8,
     "metadata": {},
     "output_type": "execute_result"
    }
   ],
   "source": [
    "oddNumbers"
   ]
  },
  {
   "cell_type": "markdown",
   "metadata": {},
   "source": [
    "map"
   ]
  },
  {
   "cell_type": "markdown",
   "metadata": {},
   "source": [
    "The map method returns a new array, containing transformed elements from the original array."
   ]
  },
  {
   "cell_type": "code",
   "execution_count": 9,
   "metadata": {},
   "outputs": [],
   "source": [
    "var squareNumbers = theArray.map(function(d) {\n",
    "    return d * d;\n",
    "})"
   ]
  },
  {
   "cell_type": "code",
   "execution_count": 11,
   "metadata": {},
   "outputs": [
    {
     "data": {
      "text/plain": [
       "[ 1, 4, 9 ]"
      ]
     },
     "execution_count": 11,
     "metadata": {},
     "output_type": "execute_result"
    }
   ],
   "source": [
    "squareNumbers"
   ]
  },
  {
   "cell_type": "markdown",
   "metadata": {},
   "source": [
    "some"
   ]
  },
  {
   "cell_type": "markdown",
   "metadata": {},
   "source": [
    "The some method returns a Boolean value indicating whether at least one of the array elements caused the iteration function to return a truthy value."
   ]
  },
  {
   "cell_type": "code",
   "execution_count": 12,
   "metadata": {},
   "outputs": [],
   "source": [
    "var anyBiggerThan2 = theArray.some(function(d) {\n",
    "    return d > 2;\n",
    "})"
   ]
  },
  {
   "cell_type": "code",
   "execution_count": 13,
   "metadata": {},
   "outputs": [
    {
     "data": {
      "text/plain": [
       "true"
      ]
     },
     "execution_count": 13,
     "metadata": {},
     "output_type": "execute_result"
    }
   ],
   "source": [
    "anyBiggerThan2"
   ]
  },
  {
   "cell_type": "markdown",
   "metadata": {},
   "source": [
    "every"
   ]
  },
  {
   "cell_type": "markdown",
   "metadata": {},
   "source": [
    "The every method returns a Boolean value indicating whether every one of the array elements caused the iteration function to return a truthy value."
   ]
  },
  {
   "cell_type": "code",
   "execution_count": 14,
   "metadata": {},
   "outputs": [],
   "source": [
    "var onlyNumbers = theArray.every(function(d) {\n",
    "    return typeof d === 'number';\n",
    "})"
   ]
  },
  {
   "cell_type": "code",
   "execution_count": 15,
   "metadata": {},
   "outputs": [
    {
     "data": {
      "text/plain": [
       "true"
      ]
     },
     "execution_count": 15,
     "metadata": {},
     "output_type": "execute_result"
    }
   ],
   "source": [
    "onlyNumbers"
   ]
  },
  {
   "cell_type": "code",
   "execution_count": 16,
   "metadata": {},
   "outputs": [
    {
     "name": "stdout",
     "output_type": "stream",
     "text": [
      "0\n",
      "1\n",
      "2\n",
      "3\n",
      "4\n",
      "5\n",
      "6\n",
      "7\n",
      "8\n",
      "9\n"
     ]
    }
   ],
   "source": [
    "for(var i = 0; i < 10; i++) {\n",
    "    console.log(i);\n",
    "}"
   ]
  },
  {
   "cell_type": "code",
   "execution_count": 17,
   "metadata": {},
   "outputs": [
    {
     "name": "stdout",
     "output_type": "stream",
     "text": [
      "10\n",
      "20\n"
     ]
    }
   ],
   "source": [
    "var ob = {\"kadencho\": 10, \"sungbincho\": 20}\n",
    "for (key in ob){\n",
    "    console.log(ob[key]);\n",
    "}"
   ]
  },
  {
   "cell_type": "code",
   "execution_count": 19,
   "metadata": {},
   "outputs": [],
   "source": [
    "var theArray = [1, 2, 3, 4, 5]"
   ]
  },
  {
   "cell_type": "code",
   "execution_count": 21,
   "metadata": {},
   "outputs": [],
   "source": [
    "var d = 0;\n",
    "theArray.forEach(function(k) {\n",
    "    d += k;\n",
    "})"
   ]
  },
  {
   "cell_type": "code",
   "execution_count": 22,
   "metadata": {},
   "outputs": [
    {
     "data": {
      "text/plain": [
       "15"
      ]
     },
     "execution_count": 22,
     "metadata": {},
     "output_type": "execute_result"
    }
   ],
   "source": [
    "d"
   ]
  },
  {
   "cell_type": "code",
   "execution_count": 23,
   "metadata": {},
   "outputs": [
    {
     "name": "stdout",
     "output_type": "stream",
     "text": [
      "10\n",
      "9\n",
      "8\n",
      "7\n",
      "6\n",
      "5\n",
      "4\n",
      "3\n",
      "2\n",
      "1\n"
     ]
    },
    {
     "data": {
      "text/plain": [
       "1"
      ]
     },
     "execution_count": 23,
     "metadata": {},
     "output_type": "execute_result"
    }
   ],
   "source": [
    "var x = 10;\n",
    "while (x != 0) {\n",
    "    console.log(x);\n",
    "    x--;\n",
    "}"
   ]
  },
  {
   "cell_type": "markdown",
   "metadata": {},
   "source": [
    "## Layout"
   ]
  },
  {
   "cell_type": "markdown",
   "metadata": {},
   "source": [
    "## Semicolons"
   ]
  },
  {
   "cell_type": "code",
   "execution_count": 25,
   "metadata": {},
   "outputs": [],
   "source": [
    "var a = 1;\n"
   ]
  },
  {
   "cell_type": "markdown",
   "metadata": {},
   "source": [
    "## Curly Braces"
   ]
  },
  {
   "cell_type": "markdown",
   "metadata": {},
   "source": [
    "## Scope"
   ]
  },
  {
   "cell_type": "markdown",
   "metadata": {},
   "source": [
    "## Objects"
   ]
  },
  {
   "cell_type": "markdown",
   "metadata": {},
   "source": [
    "Unlike in VBA, objects can be craeted \"on the fly\" in JavaScript. Complex data structures can be created (and modified) by functions, or even imported from external text representations."
   ]
  },
  {
   "cell_type": "markdown",
   "metadata": {},
   "source": [
    "## JSON Examlples"
   ]
  },
  {
   "cell_type": "code",
   "execution_count": 27,
   "metadata": {},
   "outputs": [
    {
     "data": {
      "text/plain": [
       "150"
      ]
     },
     "execution_count": 27,
     "metadata": {},
     "output_type": "execute_result"
    }
   ],
   "source": [
    "var anObject = {};\n",
    "anObject.owner = \"bruce\";\n",
    "anObject.name = \"kadencho\";\n",
    "anObject.type = \"transport\";\n",
    "anObject.value = 150;"
   ]
  },
  {
   "cell_type": "code",
   "execution_count": 28,
   "metadata": {},
   "outputs": [
    {
     "data": {
      "text/plain": [
       "{ owner: 'bruce',\n",
       "  name: 'kadencho',\n",
       "  type: 'transport',\n",
       "  value: 150 }"
      ]
     },
     "execution_count": 28,
     "metadata": {},
     "output_type": "execute_result"
    }
   ],
   "source": [
    "anObject"
   ]
  },
  {
   "cell_type": "code",
   "execution_count": 29,
   "metadata": {},
   "outputs": [],
   "source": [
    "var jsonString = '{\"owner\":\"kadencho\", \"name\":\"kadensungbincho\"}';"
   ]
  },
  {
   "cell_type": "code",
   "execution_count": 30,
   "metadata": {},
   "outputs": [
    {
     "data": {
      "text/plain": [
       "'{\"owner\":\"kadencho\", \"name\":\"kadensungbincho\"}'"
      ]
     },
     "execution_count": 30,
     "metadata": {},
     "output_type": "execute_result"
    }
   ],
   "source": [
    "jsonString"
   ]
  },
  {
   "cell_type": "code",
   "execution_count": 31,
   "metadata": {},
   "outputs": [],
   "source": [
    "var jsonString = JSON.stringify(anObject);"
   ]
  },
  {
   "cell_type": "code",
   "execution_count": 32,
   "metadata": {},
   "outputs": [
    {
     "data": {
      "text/plain": [
       "'{\"owner\":\"bruce\",\"name\":\"kadencho\",\"type\":\"transport\",\"value\":150}'"
      ]
     },
     "execution_count": 32,
     "metadata": {},
     "output_type": "execute_result"
    }
   ],
   "source": [
    "jsonString"
   ]
  },
  {
   "cell_type": "code",
   "execution_count": 33,
   "metadata": {},
   "outputs": [],
   "source": [
    "var anObject = JSON.parse(jsonString)"
   ]
  },
  {
   "cell_type": "code",
   "execution_count": 34,
   "metadata": {},
   "outputs": [
    {
     "data": {
      "text/plain": [
       "{ owner: 'bruce',\n",
       "  name: 'kadencho',\n",
       "  type: 'transport',\n",
       "  value: 150 }"
      ]
     },
     "execution_count": 34,
     "metadata": {},
     "output_type": "execute_result"
    }
   ],
   "source": [
    "anObject"
   ]
  },
  {
   "cell_type": "markdown",
   "metadata": {},
   "source": [
    "## Classes"
   ]
  },
  {
   "cell_type": "markdown",
   "metadata": {},
   "source": [
    "There will be some coding examples in this section. If you don't already know how to use the Aps Script IDE, you may want to flip to \"The IDE\" on page 51 to see how to get started with it and come back here later."
   ]
  },
  {
   "cell_type": "markdown",
   "metadata": {},
   "source": [
    "Because JavaScript is a prototype-based language, there is no such thing as a class. Classes are an important elelment in properly constructed VBA projects, so let's look at some patters for creating pseudoclasses in JavaScript."
   ]
  },
  {
   "cell_type": "markdown",
   "metadata": {},
   "source": [
    "## Prototpyes and Constructors"
   ]
  },
  {
   "cell_type": "markdown",
   "metadata": {},
   "source": [
    "An object constructor is the function that initializes the newly-created object. Here's a constructor for an object that describes common properties of a mammal. The special variable this is a little like Me in VBA and refers to the current target function. "
   ]
  },
  {
   "cell_type": "code",
   "execution_count": 35,
   "metadata": {},
   "outputs": [],
   "source": [
    "var Mammal = function(name) {\n",
    "    this.vertebrate = true;\n",
    "    this.milk = true;\n",
    "    this.blood = 'warm';\n",
    "    this.legs = 4;\n",
    "    this.name = name;\n",
    "}"
   ]
  },
  {
   "cell_type": "code",
   "execution_count": 36,
   "metadata": {},
   "outputs": [
    {
     "data": {
      "text/plain": [
       "[Function]"
      ]
     },
     "execution_count": 36,
     "metadata": {},
     "output_type": "execute_result"
    }
   ],
   "source": [
    "Mammal"
   ]
  },
  {
   "cell_type": "code",
   "execution_count": 37,
   "metadata": {},
   "outputs": [],
   "source": [
    "Mammal.vertebrate"
   ]
  },
  {
   "cell_type": "code",
   "execution_count": 42,
   "metadata": {},
   "outputs": [],
   "source": [
    "Mammal.blood"
   ]
  },
  {
   "cell_type": "code",
   "execution_count": 45,
   "metadata": {},
   "outputs": [],
   "source": [
    "var camel = new Mammal('camel');"
   ]
  },
  {
   "cell_type": "code",
   "execution_count": 46,
   "metadata": {},
   "outputs": [
    {
     "data": {
      "text/plain": [
       "{ vertebrate: true,\n",
       "  milk: true,\n",
       "  blood: 'warm',\n",
       "  legs: 4,\n",
       "  name: 'camel' }"
      ]
     },
     "execution_count": 46,
     "metadata": {},
     "output_type": "execute_result"
    }
   ],
   "source": [
    "camel"
   ]
  },
  {
   "cell_type": "markdown",
   "metadata": {},
   "source": [
    "## Inheritance"
   ]
  },
  {
   "cell_type": "code",
   "execution_count": 47,
   "metadata": {},
   "outputs": [],
   "source": [
    "var Camels = function(name) {\n",
    "    this.value = true;\n",
    "    this.age = 20;\n",
    "    this.smell = 'bad';\n",
    "}"
   ]
  },
  {
   "cell_type": "code",
   "execution_count": 48,
   "metadata": {},
   "outputs": [],
   "source": [
    "var babyCamel = new Camels('kadencho');"
   ]
  },
  {
   "cell_type": "code",
   "execution_count": 49,
   "metadata": {},
   "outputs": [
    {
     "data": {
      "text/plain": [
       "{ value: true, age: 20, smell: 'bad' }"
      ]
     },
     "execution_count": 49,
     "metadata": {},
     "output_type": "execute_result"
    }
   ],
   "source": [
    "babyCamel"
   ]
  },
  {
   "cell_type": "markdown",
   "metadata": {},
   "source": [
    "Creating a new instance of Mammal caused its properties to be inherited in the new object, but it's also possible to create a constructor for a new object from another. The constructor for this new object inherits the properties of Mammal, but changes the legs property to 0."
   ]
  },
  {
   "cell_type": "code",
   "execution_count": 50,
   "metadata": {},
   "outputs": [],
   "source": [
    "var SeaMammal = function(name) {\n",
    "    Mammal.call (this, name);\n",
    "    this.legs = 0;\n",
    "}"
   ]
  },
  {
   "cell_type": "markdown",
   "metadata": {},
   "source": [
    "Now we need to create a new prototype for this object based on the Mammal prototype and set the constructor to the SeaMammal one just created. The reason that Mammal did not need this step when initailly defined is that it inherited the Object prototype by default. SeaMammal needs to inherit everything already defined for Mammal:"
   ]
  },
  {
   "cell_type": "code",
   "execution_count": 52,
   "metadata": {},
   "outputs": [
    {
     "data": {
      "text/plain": [
       "{ [Function] prototpye: {} }"
      ]
     },
     "execution_count": 52,
     "metadata": {},
     "output_type": "execute_result"
    }
   ],
   "source": [
    "SeaMammal.prototpye = Object.create(Mammal.prototype);\n",
    "SeaMammal.prototype.constructor = SeaMammal;"
   ]
  },
  {
   "cell_type": "code",
   "execution_count": 54,
   "metadata": {},
   "outputs": [
    {
     "data": {
      "text/plain": [
       "{ vertebrate: true,\n",
       "  milk: true,\n",
       "  blood: 'warm',\n",
       "  legs: 0,\n",
       "  name: 'whale' }"
      ]
     },
     "execution_count": 54,
     "metadata": {},
     "output_type": "execute_result"
    }
   ],
   "source": [
    "var whale = new SeaMammal('whale');\n",
    "whale"
   ]
  },
  {
   "cell_type": "code",
   "execution_count": 58,
   "metadata": {},
   "outputs": [
    {
     "name": "stdout",
     "output_type": "stream",
     "text": [
      "{\"vertebrate\":true,\"milk\":true,\"blood\":\"warm\",\"legs\":0,\"name\":\"whale\"}\n"
     ]
    }
   ],
   "source": [
    "console.log(JSON.stringify(whale));"
   ]
  },
  {
   "cell_type": "markdown",
   "metadata": {},
   "source": [
    "## Methods"
   ]
  },
  {
   "cell_type": "code",
   "execution_count": 59,
   "metadata": {},
   "outputs": [
    {
     "data": {
      "text/plain": [
       "[Function]"
      ]
     },
     "execution_count": 59,
     "metadata": {},
     "output_type": "execute_result"
    }
   ],
   "source": [
    "Mammal.prototype.move = function(fast) {\n",
    "    return fast ? 'run' : 'walk';\n",
    "}"
   ]
  },
  {
   "cell_type": "code",
   "execution_count": 60,
   "metadata": {},
   "outputs": [],
   "source": [
    "var Mammal = function(name) {\n",
    "    this.vertebrate = true;\n",
    "    this.milk = true;\n",
    "    this.blood = 'warm';\n",
    "    this.legs = 4;\n",
    "    this.name = name;\n",
    "    this.move = function(fast) {\n",
    "        return fast ? 'run' : 'walk';\n",
    "    }\n",
    "}"
   ]
  },
  {
   "cell_type": "code",
   "execution_count": 62,
   "metadata": {},
   "outputs": [
    {
     "name": "stdout",
     "output_type": "stream",
     "text": [
      "walk\n"
     ]
    }
   ],
   "source": [
    "var camel = new Mammal('camel');\n",
    "console.log(camel.move(false));"
   ]
  },
  {
   "cell_type": "markdown",
   "metadata": {},
   "source": [
    "## A Note on this"
   ]
  },
  {
   "cell_type": "markdown",
   "metadata": {},
   "source": [
    "this can change meaing depending on context. I never use this to refer to a target function (although I may be in the minorty) in order to avoid the unnecessary confusion that arieses when you use anonymous functions as arguments to another function. In those circumstances, this refers to the passed function, and it's easy to make unintended references. It's fairly advanced topic, and one that can confuse even experienced JavaScript developers. Here's where this can catch you out."
   ]
  },
  {
   "cell_type": "markdown",
   "metadata": {},
   "source": [
    "At first glance, these three pieces of code should produce the same result, but the useThis function retuns undefined, whereas the other two return 'Joe'. The reason is that this in the anonymous function passed to playAround refers not to the Person function, but to the function itself."
   ]
  },
  {
   "cell_type": "code",
   "execution_count": 64,
   "metadata": {},
   "outputs": [],
   "source": [
    "function myFunction() {\n",
    "    var person = new Person();\n",
    "    console.log(person.name);\n",
    "    console.log(person.funcName());\n",
    "    console.log(person.useThis());\n",
    "}\n",
    "\n",
    "var Person = function() {\n",
    "    this.name = 'Joe';\n",
    "    \n",
    "    this.funcName = function() {\n",
    "        return this.name;\n",
    "    }\n",
    "    \n",
    "    this.useThis = function() {\n",
    "        return playAround (function () {\n",
    "            return this.name; // here errors could happen \n",
    "        })\n",
    "    }\n",
    "\n",
    "    function playAround (func) {\n",
    "        return func();\n",
    "    }\n",
    "}"
   ]
  },
  {
   "cell_type": "code",
   "execution_count": 65,
   "metadata": {},
   "outputs": [],
   "source": [
    "function myFunction () {\n",
    "    var person = new Person();\n",
    "    console.log(person.useSelf());\n",
    "}"
   ]
  },
  {
   "cell_type": "code",
   "execution_count": 66,
   "metadata": {},
   "outputs": [],
   "source": [
    "var Person = function () {\n",
    "    var self = this;\n",
    "    this.name = 'kadencho';\n",
    "    \n",
    "    this.useSelf = function () {\n",
    "        return playAround (function () {\n",
    "            return self.name; // replaced this with self\n",
    "        })\n",
    "    }\n",
    "    \n",
    "    function playAround (func) {\n",
    "        return func();\n",
    "    }\n",
    "}"
   ]
  },
  {
   "cell_type": "markdown",
   "metadata": {},
   "source": [
    "Using self (sometimes people use that) throughout simply avoids the chance of making this kind of uninteded mistake."
   ]
  },
  {
   "cell_type": "markdown",
   "metadata": {},
   "source": [
    "Rewriting the Mammal constructor as follows, using the convention of self to refer to the target function, removes that confusion because self always refers to the function being defined, irrespective of changes in the reference target of this:"
   ]
  },
  {
   "cell_type": "code",
   "execution_count": 67,
   "metadata": {},
   "outputs": [],
   "source": [
    "var Mammal = function (name) {\n",
    "    var self = this;\n",
    "    \n",
    "    self.vertbrate = true;\n",
    "    self.milk = true;\n",
    "    self.blood = 'warm';\n",
    "    self.legs = 4;\n",
    "    self.name = name;\n",
    "    \n",
    "    self.move = function (fast) {\n",
    "        return fast ? 'run' : 'walk';\n",
    "    }\n",
    "}"
   ]
  },
  {
   "cell_type": "markdown",
   "metadata": {},
   "source": [
    "## Getters and Setters"
   ]
  },
  {
   "cell_type": "markdown",
   "metadata": {},
   "source": [
    "Getters and setters are functions that get or set properties of your object that you don't want to globally expose. In Apps Script servies, properties are rarely exposed directly but rather are provided so we can set them. This prevents the accidental compromise of values. In newer versions of ECMAScript, there are specific patterns for getters and setters, but in Apps Script we have traditionally written them as regular methods. Nowadays, Apps Script supports the Object.defineProperty style of property definition that was initially specified in ECMAScript v5.1."
   ]
  },
  {
   "cell_type": "markdown",
   "metadata": {},
   "source": [
    "In Apps Script services, these functions are normally named getPropertyName and setPropertyName. By convention (it's my convention and loosely follows the rule in Apps Script aht allows hiding of server-side fnuctions from client-side callers), variables considered to be private properties within an object have a trailing underscore. It's not a convention that you need to follow, but I like it."
   ]
  },
  {
   "cell_type": "code",
   "execution_count": 69,
   "metadata": {},
   "outputs": [],
   "source": [
    "var Mammal = function (name) {\n",
    "    var self = this;\n",
    "    \n",
    "    var vertebrate_ = true,\n",
    "        milk_ = true,\n",
    "        blood_ = 'warm',\n",
    "        legs_ = 4,\n",
    "        name_ = name;\n",
    "    \n",
    "    self.getLegs = function () {\n",
    "        return legs_;\n",
    "    }\n",
    "    \n",
    "    self.moveFast = function (fast) {\n",
    "        return fast ? 'run' : 'walk';\n",
    "    }\n",
    "}"
   ]
  },
  {
   "cell_type": "code",
   "execution_count": 70,
   "metadata": {},
   "outputs": [],
   "source": [
    "var SeaMammal = function (name) {\n",
    "    var self = this;\n",
    "    \n",
    "    Mammal.call (self, name);\n",
    "    self.setLegs (0);\n",
    "    \n",
    "    self.moveFast = function (fast) {\n",
    "        return fast ? 'race' : 'swim';\n",
    "    }\n",
    "}"
   ]
  },
  {
   "cell_type": "code",
   "execution_count": 71,
   "metadata": {},
   "outputs": [
    {
     "name": "stdout",
     "output_type": "stream",
     "text": [
      "run\n"
     ]
    }
   ],
   "source": [
    "var camel = new Mammal('camel');\n",
    "console.log(camel.moveFast(true));"
   ]
  },
  {
   "cell_type": "code",
   "execution_count": null,
   "metadata": {},
   "outputs": [],
   "source": []
  }
 ],
 "metadata": {
  "kernelspec": {
   "display_name": "Javascript (Node.js)",
   "language": "javascript",
   "name": "javascript"
  },
  "language_info": {
   "file_extension": ".js",
   "mimetype": "application/javascript",
   "name": "javascript",
   "version": "4.4.0"
  }
 },
 "nbformat": 4,
 "nbformat_minor": 2
}
