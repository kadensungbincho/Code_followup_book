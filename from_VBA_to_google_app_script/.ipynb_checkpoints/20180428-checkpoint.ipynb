{
 "cells": [
  {
   "cell_type": "markdown",
   "metadata": {},
   "source": [
    "VBA is implicitly typed. If you don't define a variable, it's assumed to be a Variant. In VBA, it is best practice to prevent accidental reference to undefined variables by using:"
   ]
  },
  {
   "cell_type": "markdown",
   "metadata": {},
   "source": [
    "It's not exactly equivalent, but I recommend you add this directive at the top of each of your scripts, as it will enhance the detection of common errors by a future version of the IDE."
   ]
  },
  {
   "cell_type": "markdown",
   "metadata": {},
   "source": [
    "The Apps Script IDE gives a little bit of help in detecting undescared variables;"
   ]
  },
  {
   "cell_type": "markdown",
   "metadata": {},
   "source": [
    "You'll notice that a, which is declared, will be colored green when referenced, whereas b will be black, because it's being used without having been previously declared."
   ]
  },
  {
   "cell_type": "markdown",
   "metadata": {},
   "source": [
    "## Operators"
   ]
  },
  {
   "cell_type": "markdown",
   "metadata": {},
   "source": [
    "JavaScript operators and VBA operators are pretty similar, so it should not be a great challenge for the VBA developer to adapt. Sometimes you need a few steps to acieve the same thing in one language or the other, and there are a couple of quirks to be careful of. This section provides a quick reference guide of equivalences."
   ]
  },
  {
   "cell_type": "markdown",
   "metadata": {},
   "source": [
    "## Mathematical Operators"
   ]
  },
  {
   "cell_type": "markdown",
   "metadata": {},
   "source": [
    "The operators shown in Table 2-2 are used to perform calculations. "
   ]
  },
  {
   "cell_type": "markdown",
   "metadata": {},
   "source": [
    "## Assignment Operators"
   ]
  },
  {
   "cell_type": "code",
   "execution_count": 3,
   "metadata": {},
   "outputs": [
    {
     "name": "stdout",
     "output_type": "stream",
     "text": [
      "42\n"
     ]
    }
   ],
   "source": [
    "var theAnswerToLife = 42;\n",
    "console.log(theAnswerToLife)"
   ]
  },
  {
   "cell_type": "code",
   "execution_count": 4,
   "metadata": {},
   "outputs": [
    {
     "data": {
      "text/plain": [
       "50"
      ]
     },
     "execution_count": 4,
     "metadata": {},
     "output_type": "execute_result"
    }
   ],
   "source": [
    "var counter = 1;\n",
    "counter++;\n",
    "counter += 10;\n",
    "counter -= 2;\n",
    "counter *= 5;"
   ]
  },
  {
   "cell_type": "markdown",
   "metadata": {},
   "source": [
    "## String Operators"
   ]
  },
  {
   "cell_type": "code",
   "execution_count": 5,
   "metadata": {},
   "outputs": [],
   "source": [
    "var theMeaningOfLife = \"try to be nice to people\";"
   ]
  },
  {
   "cell_type": "code",
   "execution_count": 6,
   "metadata": {},
   "outputs": [
    {
     "data": {
      "text/plain": [
       "'try to be nice to peopleis that'"
      ]
     },
     "execution_count": 6,
     "metadata": {},
     "output_type": "execute_result"
    }
   ],
   "source": [
    "theMeaningOfLife + \"is that\""
   ]
  },
  {
   "cell_type": "markdown",
   "metadata": {},
   "source": [
    "## Comparison Operators"
   ]
  },
  {
   "cell_type": "markdown",
   "metadata": {},
   "source": [
    "## Logical Operators"
   ]
  },
  {
   "cell_type": "markdown",
   "metadata": {},
   "source": [
    "## Bitwise Operators"
   ]
  },
  {
   "cell_type": "code",
   "execution_count": 7,
   "metadata": {},
   "outputs": [],
   "source": [
    "var a = 1;\n",
    "var a = 2;"
   ]
  },
  {
   "cell_type": "code",
   "execution_count": 8,
   "metadata": {},
   "outputs": [
    {
     "data": {
      "text/plain": [
       "2"
      ]
     },
     "execution_count": 8,
     "metadata": {},
     "output_type": "execute_result"
    }
   ],
   "source": [
    "a"
   ]
  },
  {
   "cell_type": "code",
   "execution_count": 9,
   "metadata": {},
   "outputs": [],
   "source": [
    "var a = new Date();"
   ]
  },
  {
   "cell_type": "code",
   "execution_count": 10,
   "metadata": {},
   "outputs": [
    {
     "data": {
      "text/plain": [
       "Sat Apr 28 2018 02:18:43 GMT+0900 (KST)"
      ]
     },
     "execution_count": 10,
     "metadata": {},
     "output_type": "execute_result"
    }
   ],
   "source": [
    "a"
   ]
  },
  {
   "cell_type": "code",
   "execution_count": 13,
   "metadata": {},
   "outputs": [],
   "source": [
    "var a = {\n",
    "};"
   ]
  },
  {
   "cell_type": "code",
   "execution_count": 14,
   "metadata": {},
   "outputs": [],
   "source": [
    "var func = function (bar) {\n",
    "    return 'answer ' + bar;\n",
    "}"
   ]
  },
  {
   "cell_type": "code",
   "execution_count": 15,
   "metadata": {},
   "outputs": [
    {
     "data": {
      "text/plain": [
       "'answer 20'"
      ]
     },
     "execution_count": 15,
     "metadata": {},
     "output_type": "execute_result"
    }
   ],
   "source": [
    "func(20);"
   ]
  },
  {
   "cell_type": "markdown",
   "metadata": {},
   "source": [
    "## Anonymous Function"
   ]
  },
  {
   "cell_type": "code",
   "execution_count": 16,
   "metadata": {},
   "outputs": [],
   "source": [
    "function boo (passedFunction) {\n",
    "    return passedFunction(20);\n",
    "}\n",
    "var result = boo ( function (bar) { return 'answer ' + bar;})"
   ]
  },
  {
   "cell_type": "code",
   "execution_count": 17,
   "metadata": {},
   "outputs": [
    {
     "data": {
      "text/plain": [
       "'answer 20'"
      ]
     },
     "execution_count": 17,
     "metadata": {},
     "output_type": "execute_result"
    }
   ],
   "source": [
    "result"
   ]
  },
  {
   "cell_type": "markdown",
   "metadata": {},
   "source": [
    "p 55"
   ]
  },
  {
   "cell_type": "markdown",
   "metadata": {},
   "source": [
    "## Functional Programming"
   ]
  },
  {
   "cell_type": "code",
   "execution_count": null,
   "metadata": {},
   "outputs": [],
   "source": [
    "var newArray = myArray.map(function (item, index,  originalArray) {\n",
    "    return something;\n",
    "})\n"
   ]
  },
  {
   "cell_type": "code",
   "execution_count": null,
   "metadata": {},
   "outputs": [],
   "source": [
    "var reduction = myArray.reduce(function (previous, current) {\n",
    "    return aModifiedPrevious;\n",
    "}, initialValue)"
   ]
  },
  {
   "cell_type": "code",
   "execution_count": 2,
   "metadata": {},
   "outputs": [],
   "source": [
    "var theArray = [1, 2, 3];"
   ]
  },
  {
   "cell_type": "markdown",
   "metadata": {},
   "source": [
    "forEach"
   ]
  },
  {
   "cell_type": "code",
   "execution_count": 3,
   "metadata": {},
   "outputs": [],
   "source": [
    "var theSum = 0;\n",
    "theArray.forEach(function(d) {\n",
    "    theSum += d;\n",
    "})"
   ]
  },
  {
   "cell_type": "code",
   "execution_count": 4,
   "metadata": {},
   "outputs": [
    {
     "data": {
      "text/plain": [
       "6"
      ]
     },
     "execution_count": 4,
     "metadata": {},
     "output_type": "execute_result"
    }
   ],
   "source": [
    "theSum"
   ]
  },
  {
   "cell_type": "markdown",
   "metadata": {},
   "source": [
    "reduce"
   ]
  },
  {
   "cell_type": "markdown",
   "metadata": {},
   "source": [
    "A better way of transforming an array into a single result is to use the reduce method, which carries forward the result of the previous iteration and returns the final result."
   ]
  },
  {
   "cell_type": "code",
   "execution_count": 5,
   "metadata": {},
   "outputs": [],
   "source": [
    "var theSum = theArray.reduce(function(previous, current) {\n",
    "    return previous + current;\n",
    "}, 0)"
   ]
  },
  {
   "cell_type": "code",
   "execution_count": 6,
   "metadata": {},
   "outputs": [
    {
     "data": {
      "text/plain": [
       "6"
      ]
     },
     "execution_count": 6,
     "metadata": {},
     "output_type": "execute_result"
    }
   ],
   "source": [
    "theSum"
   ]
  },
  {
   "cell_type": "markdown",
   "metadata": {},
   "source": [
    "filter"
   ]
  },
  {
   "cell_type": "code",
   "execution_count": 7,
   "metadata": {},
   "outputs": [],
   "source": [
    "var oddNumbers = theArray.filter(function(d) {\n",
    "    return d % 2;\n",
    "})"
   ]
  },
  {
   "cell_type": "code",
   "execution_count": 8,
   "metadata": {},
   "outputs": [
    {
     "data": {
      "text/plain": [
       "[ 1, 3 ]"
      ]
     },
     "execution_count": 8,
     "metadata": {},
     "output_type": "execute_result"
    }
   ],
   "source": [
    "oddNumbers"
   ]
  },
  {
   "cell_type": "markdown",
   "metadata": {},
   "source": [
    "map"
   ]
  },
  {
   "cell_type": "markdown",
   "metadata": {},
   "source": [
    "The map method returns a new array, containing transformed elements from the original array."
   ]
  },
  {
   "cell_type": "code",
   "execution_count": 9,
   "metadata": {},
   "outputs": [],
   "source": [
    "var squareNumbers = theArray.map(function(d) {\n",
    "    return d * d;\n",
    "})"
   ]
  },
  {
   "cell_type": "code",
   "execution_count": 11,
   "metadata": {},
   "outputs": [
    {
     "data": {
      "text/plain": [
       "[ 1, 4, 9 ]"
      ]
     },
     "execution_count": 11,
     "metadata": {},
     "output_type": "execute_result"
    }
   ],
   "source": [
    "squareNumbers"
   ]
  },
  {
   "cell_type": "markdown",
   "metadata": {},
   "source": [
    "some"
   ]
  },
  {
   "cell_type": "markdown",
   "metadata": {},
   "source": [
    "The some method returns a Boolean value indicating whether at least one of the array elements caused the iteration function to return a truthy value."
   ]
  },
  {
   "cell_type": "code",
   "execution_count": 12,
   "metadata": {},
   "outputs": [],
   "source": [
    "var anyBiggerThan2 = theArray.some(function(d) {\n",
    "    return d > 2;\n",
    "})"
   ]
  },
  {
   "cell_type": "code",
   "execution_count": 13,
   "metadata": {},
   "outputs": [
    {
     "data": {
      "text/plain": [
       "true"
      ]
     },
     "execution_count": 13,
     "metadata": {},
     "output_type": "execute_result"
    }
   ],
   "source": [
    "anyBiggerThan2"
   ]
  },
  {
   "cell_type": "markdown",
   "metadata": {},
   "source": [
    "every"
   ]
  },
  {
   "cell_type": "markdown",
   "metadata": {},
   "source": [
    "The every method returns a Boolean value indicating whether every one of the array elements caused the iteration function to return a truthy value."
   ]
  },
  {
   "cell_type": "code",
   "execution_count": 14,
   "metadata": {},
   "outputs": [],
   "source": [
    "var onlyNumbers = theArray.every(function(d) {\n",
    "    return typeof d === 'number';\n",
    "})"
   ]
  },
  {
   "cell_type": "code",
   "execution_count": 15,
   "metadata": {},
   "outputs": [
    {
     "data": {
      "text/plain": [
       "true"
      ]
     },
     "execution_count": 15,
     "metadata": {},
     "output_type": "execute_result"
    }
   ],
   "source": [
    "onlyNumbers"
   ]
  },
  {
   "cell_type": "code",
   "execution_count": 16,
   "metadata": {},
   "outputs": [
    {
     "name": "stdout",
     "output_type": "stream",
     "text": [
      "0\n",
      "1\n",
      "2\n",
      "3\n",
      "4\n",
      "5\n",
      "6\n",
      "7\n",
      "8\n",
      "9\n"
     ]
    }
   ],
   "source": [
    "for(var i = 0; i < 10; i++) {\n",
    "    console.log(i);\n",
    "}"
   ]
  },
  {
   "cell_type": "code",
   "execution_count": 17,
   "metadata": {},
   "outputs": [
    {
     "name": "stdout",
     "output_type": "stream",
     "text": [
      "10\n",
      "20\n"
     ]
    }
   ],
   "source": [
    "var ob = {\"kadencho\": 10, \"sungbincho\": 20}\n",
    "for (key in ob){\n",
    "    console.log(ob[key]);\n",
    "}"
   ]
  },
  {
   "cell_type": "code",
   "execution_count": 19,
   "metadata": {},
   "outputs": [],
   "source": [
    "var theArray = [1, 2, 3, 4, 5]"
   ]
  },
  {
   "cell_type": "code",
   "execution_count": 21,
   "metadata": {},
   "outputs": [],
   "source": [
    "var d = 0;\n",
    "theArray.forEach(function(k) {\n",
    "    d += k;\n",
    "})"
   ]
  },
  {
   "cell_type": "code",
   "execution_count": 22,
   "metadata": {},
   "outputs": [
    {
     "data": {
      "text/plain": [
       "15"
      ]
     },
     "execution_count": 22,
     "metadata": {},
     "output_type": "execute_result"
    }
   ],
   "source": [
    "d"
   ]
  },
  {
   "cell_type": "code",
   "execution_count": 23,
   "metadata": {},
   "outputs": [
    {
     "name": "stdout",
     "output_type": "stream",
     "text": [
      "10\n",
      "9\n",
      "8\n",
      "7\n",
      "6\n",
      "5\n",
      "4\n",
      "3\n",
      "2\n",
      "1\n"
     ]
    },
    {
     "data": {
      "text/plain": [
       "1"
      ]
     },
     "execution_count": 23,
     "metadata": {},
     "output_type": "execute_result"
    }
   ],
   "source": [
    "var x = 10;\n",
    "while (x != 0) {\n",
    "    console.log(x);\n",
    "    x--;\n",
    "}"
   ]
  },
  {
   "cell_type": "markdown",
   "metadata": {},
   "source": [
    "## Layout"
   ]
  },
  {
   "cell_type": "markdown",
   "metadata": {},
   "source": [
    "## Semicolons"
   ]
  },
  {
   "cell_type": "code",
   "execution_count": 25,
   "metadata": {},
   "outputs": [],
   "source": [
    "var a = 1;\n"
   ]
  },
  {
   "cell_type": "markdown",
   "metadata": {},
   "source": [
    "## Curly Braces"
   ]
  },
  {
   "cell_type": "markdown",
   "metadata": {},
   "source": [
    "## Scope"
   ]
  },
  {
   "cell_type": "markdown",
   "metadata": {},
   "source": [
    "## Objects"
   ]
  },
  {
   "cell_type": "markdown",
   "metadata": {},
   "source": [
    "Unlike in VBA, objects can be craeted \"on the fly\" in JavaScript. Complex data structures can be created (and modified) by functions, or even imported from external text representations."
   ]
  },
  {
   "cell_type": "markdown",
   "metadata": {},
   "source": [
    "## JSON Examlples"
   ]
  },
  {
   "cell_type": "code",
   "execution_count": 27,
   "metadata": {},
   "outputs": [
    {
     "data": {
      "text/plain": [
       "150"
      ]
     },
     "execution_count": 27,
     "metadata": {},
     "output_type": "execute_result"
    }
   ],
   "source": [
    "var anObject = {};\n",
    "anObject.owner = \"bruce\";\n",
    "anObject.name = \"kadencho\";\n",
    "anObject.type = \"transport\";\n",
    "anObject.value = 150;"
   ]
  },
  {
   "cell_type": "code",
   "execution_count": 28,
   "metadata": {},
   "outputs": [
    {
     "data": {
      "text/plain": [
       "{ owner: 'bruce',\n",
       "  name: 'kadencho',\n",
       "  type: 'transport',\n",
       "  value: 150 }"
      ]
     },
     "execution_count": 28,
     "metadata": {},
     "output_type": "execute_result"
    }
   ],
   "source": [
    "anObject"
   ]
  },
  {
   "cell_type": "code",
   "execution_count": 29,
   "metadata": {},
   "outputs": [],
   "source": [
    "var jsonString = '{\"owner\":\"kadencho\", \"name\":\"kadensungbincho\"}';"
   ]
  },
  {
   "cell_type": "code",
   "execution_count": 30,
   "metadata": {},
   "outputs": [
    {
     "data": {
      "text/plain": [
       "'{\"owner\":\"kadencho\", \"name\":\"kadensungbincho\"}'"
      ]
     },
     "execution_count": 30,
     "metadata": {},
     "output_type": "execute_result"
    }
   ],
   "source": [
    "jsonString"
   ]
  },
  {
   "cell_type": "code",
   "execution_count": 31,
   "metadata": {},
   "outputs": [],
   "source": [
    "var jsonString = JSON.stringify(anObject);"
   ]
  },
  {
   "cell_type": "code",
   "execution_count": 32,
   "metadata": {},
   "outputs": [
    {
     "data": {
      "text/plain": [
       "'{\"owner\":\"bruce\",\"name\":\"kadencho\",\"type\":\"transport\",\"value\":150}'"
      ]
     },
     "execution_count": 32,
     "metadata": {},
     "output_type": "execute_result"
    }
   ],
   "source": [
    "jsonString"
   ]
  },
  {
   "cell_type": "code",
   "execution_count": 33,
   "metadata": {},
   "outputs": [],
   "source": [
    "var anObject = JSON.parse(jsonString)"
   ]
  },
  {
   "cell_type": "code",
   "execution_count": 34,
   "metadata": {},
   "outputs": [
    {
     "data": {
      "text/plain": [
       "{ owner: 'bruce',\n",
       "  name: 'kadencho',\n",
       "  type: 'transport',\n",
       "  value: 150 }"
      ]
     },
     "execution_count": 34,
     "metadata": {},
     "output_type": "execute_result"
    }
   ],
   "source": [
    "anObject"
   ]
  },
  {
   "cell_type": "markdown",
   "metadata": {},
   "source": [
    "## Classes"
   ]
  },
  {
   "cell_type": "markdown",
   "metadata": {},
   "source": [
    "There will be some coding examples in this section. If you don't already know how to use the Aps Script IDE, you may want to flip to \"The IDE\" on page 51 to see how to get started with it and come back here later."
   ]
  },
  {
   "cell_type": "markdown",
   "metadata": {},
   "source": [
    "Because JavaScript is a prototype-based language, there is no such thing as a class. Classes are an important elelment in properly constructed VBA projects, so let's look at some patters for creating pseudoclasses in JavaScript."
   ]
  },
  {
   "cell_type": "markdown",
   "metadata": {},
   "source": [
    "## Prototpyes and Constructors"
   ]
  },
  {
   "cell_type": "markdown",
   "metadata": {},
   "source": [
    "An object constructor is the function that initializes the newly-created object. Here's a constructor for an object that describes common properties of a mammal. The special variable this is a little like Me in VBA and refers to the current target function. "
   ]
  },
  {
   "cell_type": "code",
   "execution_count": 35,
   "metadata": {},
   "outputs": [],
   "source": [
    "var Mammal = function(name) {\n",
    "    this.vertebrate = true;\n",
    "    this.milk = true;\n",
    "    this.blood = 'warm';\n",
    "    this.legs = 4;\n",
    "    this.name = name;\n",
    "}"
   ]
  },
  {
   "cell_type": "code",
   "execution_count": 36,
   "metadata": {},
   "outputs": [
    {
     "data": {
      "text/plain": [
       "[Function]"
      ]
     },
     "execution_count": 36,
     "metadata": {},
     "output_type": "execute_result"
    }
   ],
   "source": [
    "Mammal"
   ]
  },
  {
   "cell_type": "code",
   "execution_count": 37,
   "metadata": {},
   "outputs": [],
   "source": [
    "Mammal.vertebrate"
   ]
  },
  {
   "cell_type": "code",
   "execution_count": 42,
   "metadata": {},
   "outputs": [],
   "source": [
    "Mammal.blood"
   ]
  },
  {
   "cell_type": "code",
   "execution_count": 45,
   "metadata": {},
   "outputs": [],
   "source": [
    "var camel = new Mammal('camel');"
   ]
  },
  {
   "cell_type": "code",
   "execution_count": 46,
   "metadata": {},
   "outputs": [
    {
     "data": {
      "text/plain": [
       "{ vertebrate: true,\n",
       "  milk: true,\n",
       "  blood: 'warm',\n",
       "  legs: 4,\n",
       "  name: 'camel' }"
      ]
     },
     "execution_count": 46,
     "metadata": {},
     "output_type": "execute_result"
    }
   ],
   "source": [
    "camel"
   ]
  },
  {
   "cell_type": "markdown",
   "metadata": {},
   "source": [
    "## Inheritance"
   ]
  },
  {
   "cell_type": "code",
   "execution_count": 47,
   "metadata": {},
   "outputs": [],
   "source": [
    "var Camels = function(name) {\n",
    "    this.value = true;\n",
    "    this.age = 20;\n",
    "    this.smell = 'bad';\n",
    "}"
   ]
  },
  {
   "cell_type": "code",
   "execution_count": 48,
   "metadata": {},
   "outputs": [],
   "source": [
    "var babyCamel = new Camels('kadencho');"
   ]
  },
  {
   "cell_type": "code",
   "execution_count": 49,
   "metadata": {},
   "outputs": [
    {
     "data": {
      "text/plain": [
       "{ value: true, age: 20, smell: 'bad' }"
      ]
     },
     "execution_count": 49,
     "metadata": {},
     "output_type": "execute_result"
    }
   ],
   "source": [
    "babyCamel"
   ]
  },
  {
   "cell_type": "markdown",
   "metadata": {},
   "source": [
    "Creating a new instance of Mammal caused its properties to be inherited in the new object, but it's also possible to create a constructor for a new object from another. The constructor for this new object inherits the properties of Mammal, but changes the legs property to 0."
   ]
  },
  {
   "cell_type": "code",
   "execution_count": 50,
   "metadata": {},
   "outputs": [],
   "source": [
    "var SeaMammal = function(name) {\n",
    "    Mammal.call (this, name);\n",
    "    this.legs = 0;\n",
    "}"
   ]
  },
  {
   "cell_type": "markdown",
   "metadata": {},
   "source": [
    "Now we need to create a new prototype for this object based on the Mammal prototype and set the constructor to the SeaMammal one just created. The reason that Mammal did not need this step when initailly defined is that it inherited the Object prototype by default. SeaMammal needs to inherit everything already defined for Mammal:"
   ]
  },
  {
   "cell_type": "code",
   "execution_count": 52,
   "metadata": {},
   "outputs": [
    {
     "data": {
      "text/plain": [
       "{ [Function] prototpye: {} }"
      ]
     },
     "execution_count": 52,
     "metadata": {},
     "output_type": "execute_result"
    }
   ],
   "source": [
    "SeaMammal.prototpye = Object.create(Mammal.prototype);\n",
    "SeaMammal.prototype.constructor = SeaMammal;"
   ]
  },
  {
   "cell_type": "code",
   "execution_count": 54,
   "metadata": {},
   "outputs": [
    {
     "data": {
      "text/plain": [
       "{ vertebrate: true,\n",
       "  milk: true,\n",
       "  blood: 'warm',\n",
       "  legs: 0,\n",
       "  name: 'whale' }"
      ]
     },
     "execution_count": 54,
     "metadata": {},
     "output_type": "execute_result"
    }
   ],
   "source": [
    "var whale = new SeaMammal('whale');\n",
    "whale"
   ]
  },
  {
   "cell_type": "code",
   "execution_count": 58,
   "metadata": {},
   "outputs": [
    {
     "name": "stdout",
     "output_type": "stream",
     "text": [
      "{\"vertebrate\":true,\"milk\":true,\"blood\":\"warm\",\"legs\":0,\"name\":\"whale\"}\n"
     ]
    }
   ],
   "source": [
    "console.log(JSON.stringify(whale));"
   ]
  },
  {
   "cell_type": "markdown",
   "metadata": {},
   "source": [
    "## Methods"
   ]
  },
  {
   "cell_type": "code",
   "execution_count": 59,
   "metadata": {},
   "outputs": [
    {
     "data": {
      "text/plain": [
       "[Function]"
      ]
     },
     "execution_count": 59,
     "metadata": {},
     "output_type": "execute_result"
    }
   ],
   "source": [
    "Mammal.prototype.move = function(fast) {\n",
    "    return fast ? 'run' : 'walk';\n",
    "}"
   ]
  },
  {
   "cell_type": "code",
   "execution_count": 60,
   "metadata": {},
   "outputs": [],
   "source": [
    "var Mammal = function(name) {\n",
    "    this.vertebrate = true;\n",
    "    this.milk = true;\n",
    "    this.blood = 'warm';\n",
    "    this.legs = 4;\n",
    "    this.name = name;\n",
    "    this.move = function(fast) {\n",
    "        return fast ? 'run' : 'walk';\n",
    "    }\n",
    "}"
   ]
  },
  {
   "cell_type": "code",
   "execution_count": 62,
   "metadata": {},
   "outputs": [
    {
     "name": "stdout",
     "output_type": "stream",
     "text": [
      "walk\n"
     ]
    }
   ],
   "source": [
    "var camel = new Mammal('camel');\n",
    "console.log(camel.move(false));"
   ]
  },
  {
   "cell_type": "markdown",
   "metadata": {},
   "source": [
    "## A Note on this"
   ]
  },
  {
   "cell_type": "markdown",
   "metadata": {},
   "source": [
    "this can change meaing depending on context. I never use this to refer to a target function (although I may be in the minorty) in order to avoid the unnecessary confusion that arieses when you use anonymous functions as arguments to another function. In those circumstances, this refers to the passed function, and it's easy to make unintended references. It's fairly advanced topic, and one that can confuse even experienced JavaScript developers. Here's where this can catch you out."
   ]
  },
  {
   "cell_type": "markdown",
   "metadata": {},
   "source": [
    "At first glance, these three pieces of code should produce the same result, but the useThis function retuns undefined, whereas the other two return 'Joe'. The reason is that this in the anonymous function passed to playAround refers not to the Person function, but to the function itself."
   ]
  },
  {
   "cell_type": "code",
   "execution_count": 64,
   "metadata": {},
   "outputs": [],
   "source": [
    "function myFunction() {\n",
    "    var person = new Person();\n",
    "    console.log(person.name);\n",
    "    console.log(person.funcName());\n",
    "    console.log(person.useThis());\n",
    "}\n",
    "\n",
    "var Person = function() {\n",
    "    this.name = 'Joe';\n",
    "    \n",
    "    this.funcName = function() {\n",
    "        return this.name;\n",
    "    }\n",
    "    \n",
    "    this.useThis = function() {\n",
    "        return playAround (function () {\n",
    "            return this.name; // here errors could happen \n",
    "        })\n",
    "    }\n",
    "\n",
    "    function playAround (func) {\n",
    "        return func();\n",
    "    }\n",
    "}"
   ]
  },
  {
   "cell_type": "code",
   "execution_count": 65,
   "metadata": {},
   "outputs": [],
   "source": [
    "function myFunction () {\n",
    "    var person = new Person();\n",
    "    console.log(person.useSelf());\n",
    "}"
   ]
  },
  {
   "cell_type": "code",
   "execution_count": 66,
   "metadata": {},
   "outputs": [],
   "source": [
    "var Person = function () {\n",
    "    var self = this;\n",
    "    this.name = 'kadencho';\n",
    "    \n",
    "    this.useSelf = function () {\n",
    "        return playAround (function () {\n",
    "            return self.name; // replaced this with self\n",
    "        })\n",
    "    }\n",
    "    \n",
    "    function playAround (func) {\n",
    "        return func();\n",
    "    }\n",
    "}"
   ]
  },
  {
   "cell_type": "markdown",
   "metadata": {},
   "source": [
    "Using self (sometimes people use that) throughout simply avoids the chance of making this kind of uninteded mistake."
   ]
  },
  {
   "cell_type": "markdown",
   "metadata": {},
   "source": [
    "Rewriting the Mammal constructor as follows, using the convention of self to refer to the target function, removes that confusion because self always refers to the function being defined, irrespective of changes in the reference target of this:"
   ]
  },
  {
   "cell_type": "code",
   "execution_count": 67,
   "metadata": {},
   "outputs": [],
   "source": [
    "var Mammal = function (name) {\n",
    "    var self = this;\n",
    "    \n",
    "    self.vertbrate = true;\n",
    "    self.milk = true;\n",
    "    self.blood = 'warm';\n",
    "    self.legs = 4;\n",
    "    self.name = name;\n",
    "    \n",
    "    self.move = function (fast) {\n",
    "        return fast ? 'run' : 'walk';\n",
    "    }\n",
    "}"
   ]
  },
  {
   "cell_type": "markdown",
   "metadata": {},
   "source": [
    "## Getters and Setters"
   ]
  },
  {
   "cell_type": "markdown",
   "metadata": {},
   "source": [
    "Getters and setters are functions that get or set properties of your object that you don't want to globally expose. In Apps Script servies, properties are rarely exposed directly but rather are provided so we can set them. This prevents the accidental compromise of values. In newer versions of ECMAScript, there are specific patterns for getters and setters, but in Apps Script we have traditionally written them as regular methods. Nowadays, Apps Script supports the Object.defineProperty style of property definition that was initially specified in ECMAScript v5.1."
   ]
  },
  {
   "cell_type": "markdown",
   "metadata": {},
   "source": [
    "In Apps Script services, these functions are normally named getPropertyName and setPropertyName. By convention (it's my convention and loosely follows the rule in Apps Script aht allows hiding of server-side fnuctions from client-side callers), variables considered to be private properties within an object have a trailing underscore. It's not a convention that you need to follow, but I like it."
   ]
  },
  {
   "cell_type": "code",
   "execution_count": 69,
   "metadata": {},
   "outputs": [],
   "source": [
    "var Mammal = function (name) {\n",
    "    var self = this;\n",
    "    \n",
    "    var vertebrate_ = true,\n",
    "        milk_ = true,\n",
    "        blood_ = 'warm',\n",
    "        legs_ = 4,\n",
    "        name_ = name;\n",
    "    \n",
    "    self.getLegs = function () {\n",
    "        return legs_;\n",
    "    }\n",
    "    \n",
    "    self.moveFast = function (fast) {\n",
    "        return fast ? 'run' : 'walk';\n",
    "    }\n",
    "}"
   ]
  },
  {
   "cell_type": "code",
   "execution_count": 70,
   "metadata": {},
   "outputs": [],
   "source": [
    "var SeaMammal = function (name) {\n",
    "    var self = this;\n",
    "    \n",
    "    Mammal.call (self, name);\n",
    "    self.setLegs (0);\n",
    "    \n",
    "    self.moveFast = function (fast) {\n",
    "        return fast ? 'race' : 'swim';\n",
    "    }\n",
    "}"
   ]
  },
  {
   "cell_type": "code",
   "execution_count": 71,
   "metadata": {},
   "outputs": [
    {
     "name": "stdout",
     "output_type": "stream",
     "text": [
      "run\n"
     ]
    }
   ],
   "source": [
    "var camel = new Mammal('camel');\n",
    "console.log(camel.moveFast(true));"
   ]
  },
  {
   "cell_type": "markdown",
   "metadata": {},
   "source": [
    "history"
   ]
  },
  {
   "cell_type": "markdown",
   "metadata": {},
   "source": [
    "## VBA Example"
   ]
  },
  {
   "cell_type": "markdown",
   "metadata": {},
   "source": [
    "Typically da VBA class will have a constructor, some private variables, some getters and setters, and various methods. "
   ]
  },
  {
   "cell_type": "markdown",
   "metadata": {},
   "source": [
    "## The SeaMammal  class"
   ]
  },
  {
   "cell_type": "markdown",
   "metadata": {},
   "source": [
    "## Using Object.create"
   ]
  },
  {
   "cell_type": "code",
   "execution_count": null,
   "metadata": {},
   "outputs": [],
   "source": [
    "var ob = Object.create(thePrototype, {specific properties})"
   ]
  },
  {
   "cell_type": "markdown",
   "metadata": {},
   "source": [
    "IF thePrototype aregument is null, the Object prototype will be used. "
   ]
  },
  {
   "cell_type": "markdown",
   "metadata": {},
   "source": [
    "Redoing a cut-down version of some of the previous examples will demonstrate how clean and powerful this new approach is. First, here's how to create an object that has a couple of properties defined that are common to all mammals, as well as a getter and a function which will be explained later:"
   ]
  },
  {
   "cell_type": "code",
   "execution_count": 2,
   "metadata": {},
   "outputs": [],
   "source": [
    "var Mammal = Object.create (null, {\n",
    "    warmBlooded : {\n",
    "        value:true, \n",
    "        enumerable:true\n",
    "    },\n",
    "    \n",
    "    vertebrate : {\n",
    "        value:true,\n",
    "        enumberable:true\n",
    "    },\n",
    "    \n",
    "    introduction : {\n",
    "        get:function () {\n",
    "            return 'Im a kind of ' + this.kind + \n",
    "                ' called a ' + this.name + ' and I eat ' + this.eats +\n",
    "                '. I' + (this.liesOnLand ? '' : \" don't\" ) +\n",
    "                ' live on land and I have ' + this.legs + ' limbs.';\n",
    "        }\n",
    "    },\n",
    "    \n",
    "    build: {\n",
    "        value: function (name, eats) {\n",
    "            this.name = name;\n",
    "            this.eats = eats;\n",
    "            return this;\n",
    "        }\n",
    "    }\n",
    "})"
   ]
  },
  {
   "cell_type": "code",
   "execution_count": 5,
   "metadata": {
    "collapsed": true
   },
   "outputs": [
    {
     "ename": "TypeError",
     "evalue": "JSON.stringifty is not a function",
     "output_type": "error",
     "traceback": [
      "TypeError: JSON.stringifty is not a function",
      "    at evalmachine.<anonymous>:1:18",
      "    at Object.exports.runInThisContext (vm.js:54:17)",
      "    at run ([eval]:1002:15)",
      "    at onRunRequest ([eval]:829:18)",
      "    at onMessage ([eval]:789:13)",
      "    at emitTwo (events.js:87:13)",
      "    at process.emit (events.js:172:7)",
      "    at handleMessage (internal/child_process.js:695:10)",
      "    at Pipe.channel.onread (internal/child_process.js:440:11)"
     ]
    }
   ],
   "source": [
    "console.log(JSON.stringifty(Mammal));"
   ]
  },
  {
   "cell_type": "markdown",
   "metadata": {},
   "source": [
    "** Using getters and setters **"
   ]
  },
  {
   "cell_type": "markdown",
   "metadata": {},
   "source": [
    "In Apps Script, there is a convention to use getPropertyName and setPropertyName to access properties of an object rather than accessing them directly. In ECMAScript 5, it become possible to define getters and setters, in a very similar way to Property Let, Get, and Set in VBA/"
   ]
  },
  {
   "cell_type": "code",
   "execution_count": 6,
   "metadata": {},
   "outputs": [
    {
     "ename": "SyntaxError",
     "evalue": "missing ) after argument list",
     "output_type": "error",
     "traceback": [
      "SyntaxError: missing ) after argument list",
      "    at Object.exports.runInThisContext (vm.js:53:16)",
      "    at run ([eval]:1002:15)",
      "    at onRunRequest ([eval]:829:18)",
      "    at onMessage ([eval]:789:13)",
      "    at emitTwo (events.js:87:13)",
      "    at process.emit (events.js:172:7)",
      "    at handleMessage (internal/child_process.js:695:10)",
      "    at Pipe.channel.onread (internal/child_process.js:440:11)"
     ]
    }
   ],
   "source": [
    "function combineChain(ob, obCombined) {\n",
    "    return ob ?\n",
    "        combineChain(\n",
    "            Object.getProtoypeOf(ob)\n",
    "            Object.keys(ob).reduce(function(p,c) {\n",
    "            if (!p.hasOwnProperty(c)) p[c] = ob[c];\n",
    "               return p;\n",
    "                }, obCombined || {})) : obCombined\n",
    "    }\n"
   ]
  },
  {
   "cell_type": "code",
   "execution_count": 7,
   "metadata": {},
   "outputs": [],
   "source": [
    "var arr = new Array('seoul', 'new york', 'ladarkh', 'pusan');"
   ]
  },
  {
   "cell_type": "code",
   "execution_count": 10,
   "metadata": {},
   "outputs": [],
   "source": [
    "function getRandomValueFromArray (arr) {\n",
    "    var index = Math.floor(arr.length * Math.random());\n",
    "    return arr[index];\n",
    "}"
   ]
  },
  {
   "cell_type": "code",
   "execution_count": 11,
   "metadata": {},
   "outputs": [
    {
     "name": "stdout",
     "output_type": "stream",
     "text": [
      "pusan\n"
     ]
    }
   ],
   "source": [
    "console.log(getRandomValueFromArray(arr));"
   ]
  },
  {
   "cell_type": "code",
   "execution_count": 12,
   "metadata": {},
   "outputs": [
    {
     "data": {
      "text/plain": [
       "[Function]"
      ]
     },
     "execution_count": 12,
     "metadata": {},
     "output_type": "execute_result"
    }
   ],
   "source": [
    "Array.prototype.random = function() {\n",
    "    var index = Math.floor(this.length * Math.random());\n",
    "    return this[index];\n",
    "}"
   ]
  },
  {
   "cell_type": "code",
   "execution_count": 13,
   "metadata": {},
   "outputs": [],
   "source": [
    "var randomarr = new Array('seoul', 'kadencho', 'pusan', 'new york');"
   ]
  },
  {
   "cell_type": "code",
   "execution_count": 15,
   "metadata": {},
   "outputs": [
    {
     "data": {
      "text/plain": [
       "'kadencho'"
      ]
     },
     "execution_count": 15,
     "metadata": {},
     "output_type": "execute_result"
    }
   ],
   "source": [
    "randomarr.random()"
   ]
  },
  {
   "cell_type": "code",
   "execution_count": 16,
   "metadata": {},
   "outputs": [
    {
     "data": {
      "text/plain": [
       "'pusan'"
      ]
     },
     "execution_count": 16,
     "metadata": {},
     "output_type": "execute_result"
    }
   ],
   "source": [
    "randomarr.random()"
   ]
  },
  {
   "cell_type": "markdown",
   "metadata": {},
   "source": [
    "## Namespaces and Libraries"
   ]
  },
  {
   "cell_type": "markdown",
   "metadata": {},
   "source": [
    "Code in a library is encapsulated in a namespace, known as the library ID. Just as with your own custom namespaces, this is a way of isolating what might otherwise be conflicting function or variable names."
   ]
  },
  {
   "cell_type": "code",
   "execution_count": 19,
   "metadata": {},
   "outputs": [],
   "source": [
    "function isObject(obj) {\n",
    "    return obj === Object(obj);\n",
    "}"
   ]
  },
  {
   "cell_type": "code",
   "execution_count": 20,
   "metadata": {},
   "outputs": [],
   "source": [
    "var key = {};"
   ]
  },
  {
   "cell_type": "code",
   "execution_count": 21,
   "metadata": {},
   "outputs": [
    {
     "data": {
      "text/plain": [
       "true"
      ]
     },
     "execution_count": 21,
     "metadata": {},
     "output_type": "execute_result"
    }
   ],
   "source": [
    "isObject(key)"
   ]
  },
  {
   "cell_type": "code",
   "execution_count": 22,
   "metadata": {},
   "outputs": [],
   "source": [
    "function isArray(arg) {\n",
    "    return Array.isArray (arg);\n",
    "}"
   ]
  },
  {
   "cell_type": "code",
   "execution_count": 23,
   "metadata": {},
   "outputs": [
    {
     "data": {
      "text/plain": [
       "true"
      ]
     },
     "execution_count": 23,
     "metadata": {},
     "output_type": "execute_result"
    }
   ],
   "source": [
    "a = new Array('seould', 'kadencho');\n",
    "isArray(a);"
   ]
  },
  {
   "cell_type": "code",
   "execution_count": 24,
   "metadata": {},
   "outputs": [],
   "source": [
    "function isUndefined(arg) {\n",
    "    return typeof arg === typeof undefined;\n",
    "}"
   ]
  },
  {
   "cell_type": "code",
   "execution_count": 25,
   "metadata": {},
   "outputs": [
    {
     "data": {
      "text/plain": [
       "false"
      ]
     },
     "execution_count": 25,
     "metadata": {},
     "output_type": "execute_result"
    }
   ],
   "source": [
    "a = 7;\n",
    "isUndefined(a);"
   ]
  },
  {
   "cell_type": "code",
   "execution_count": 28,
   "metadata": {},
   "outputs": [],
   "source": [
    "function fixOptional(arg, defaultValue) {\n",
    "    return isUndefined(arg) ?\n",
    "        defaultValue : arg;\n",
    "}"
   ]
  },
  {
   "cell_type": "code",
   "execution_count": 29,
   "metadata": {},
   "outputs": [],
   "source": [
    "function Asc(character) {\n",
    "    return character.charCodeAt(0);\n",
    "}"
   ]
  },
  {
   "cell_type": "code",
   "execution_count": 30,
   "metadata": {},
   "outputs": [
    {
     "data": {
      "text/plain": [
       "97"
      ]
     },
     "execution_count": 30,
     "metadata": {},
     "output_type": "execute_result"
    }
   ],
   "source": [
    "Asc(\"abc\");"
   ]
  },
  {
   "cell_type": "code",
   "execution_count": 31,
   "metadata": {},
   "outputs": [],
   "source": [
    "function Chr(code) {\n",
    "    return String.fromCharCode(code);\n",
    "}"
   ]
  },
  {
   "cell_type": "code",
   "execution_count": 33,
   "metadata": {},
   "outputs": [
    {
     "data": {
      "text/plain": [
       "'À'"
      ]
     },
     "execution_count": 33,
     "metadata": {},
     "output_type": "execute_result"
    }
   ],
   "source": [
    "Chr(192);"
   ]
  },
  {
   "cell_type": "code",
   "execution_count": 34,
   "metadata": {},
   "outputs": [],
   "source": [
    "function InStr(start, stringToLookin, stringToLookFor, compareMethod) {\n",
    "    // need a hack to identify whether the start argument is actually present\n",
    "    // see implementation notes for what's going on here\n",
    "    if (typeof start === 'number') {\n",
    "        start = start || 1;\n",
    "        var lookFor = (stringToLookFor || '').toString();\n",
    "        var lookIn = (stringToLookin || '').toString();\n",
    "    }\n",
    "    else {\n",
    "        // it wasn't so shuffle them along\n",
    "        var lookFor = (stringToLookin || '').toString();\n",
    "        var lookIn = (start || '').toString();\n",
    "        start = 1;\n",
    "    }\n",
    "    \n",
    "    return (start > 1 ?\n",
    "           lookIn.slice (start - 1) : lookIn).indexOf(lookFor) + start;\n",
    "}"
   ]
  },
  {
   "cell_type": "code",
   "execution_count": 35,
   "metadata": {},
   "outputs": [
    {
     "data": {
      "text/plain": [
       "2"
      ]
     },
     "execution_count": 35,
     "metadata": {},
     "output_type": "execute_result"
    }
   ],
   "source": [
    "InStr(1, 'abcdef', 'bc')"
   ]
  },
  {
   "cell_type": "code",
   "execution_count": 36,
   "metadata": {},
   "outputs": [
    {
     "data": {
      "text/plain": [
       "7"
      ]
     },
     "execution_count": 36,
     "metadata": {},
     "output_type": "execute_result"
    }
   ],
   "source": [
    "7 || 1"
   ]
  },
  {
   "cell_type": "code",
   "execution_count": 37,
   "metadata": {},
   "outputs": [
    {
     "data": {
      "text/plain": [
       "'kadencho'"
      ]
     },
     "execution_count": 37,
     "metadata": {},
     "output_type": "execute_result"
    }
   ],
   "source": [
    "'kadencho' || ''"
   ]
  },
  {
   "cell_type": "markdown",
   "metadata": {},
   "source": [
    "InStrRev"
   ]
  },
  {
   "cell_type": "markdown",
   "metadata": {},
   "source": [
    "The InStrRev function returns the position of the first occurence of one string within another, starting from the right side of the string."
   ]
  },
  {
   "cell_type": "code",
   "execution_count": 38,
   "metadata": {},
   "outputs": [],
   "source": [
    "function InStrRev(stringToLookin, stringToLookFor, start, compareMethod) {\n",
    "    var lookFor = (stringToLookFor || '').toString();\n",
    "    var lookIn = (stringToLookin || '').toString();\n",
    "    var start = (start || -1) === -1 ? lookIn.length : start;\n",
    "    \n",
    "    return (start < lookIn.length ?\n",
    "           lookIn.slice(0, start) : lookIn).lastIndexOf(lookFor) + 1;\n",
    "}"
   ]
  },
  {
   "cell_type": "code",
   "execution_count": 39,
   "metadata": {},
   "outputs": [
    {
     "data": {
      "text/plain": [
       "7"
      ]
     },
     "execution_count": 39,
     "metadata": {},
     "output_type": "execute_result"
    }
   ],
   "source": [
    "InStrRev('abcdefbcx', 'bc');"
   ]
  },
  {
   "cell_type": "markdown",
   "metadata": {},
   "source": [
    "Join"
   ]
  },
  {
   "cell_type": "code",
   "execution_count": 40,
   "metadata": {},
   "outputs": [],
   "source": [
    "function Join(sourceArray, delimiter) {\n",
    "    return sourceArray.join (fixOptional (delimiter, ' '));\n",
    "}"
   ]
  },
  {
   "cell_type": "code",
   "execution_count": 41,
   "metadata": {},
   "outputs": [
    {
     "data": {
      "text/plain": [
       "'quick brown fox'"
      ]
     },
     "execution_count": 41,
     "metadata": {},
     "output_type": "execute_result"
    }
   ],
   "source": [
    "Join(['quick', 'brown', 'fox']);"
   ]
  },
  {
   "cell_type": "markdown",
   "metadata": {},
   "source": [
    "LCase"
   ]
  },
  {
   "cell_type": "code",
   "execution_count": 42,
   "metadata": {},
   "outputs": [],
   "source": [
    "function LCase(theString) {\n",
    "    return theString.toString().toLowerCase();\n",
    "}"
   ]
  },
  {
   "cell_type": "code",
   "execution_count": 43,
   "metadata": {},
   "outputs": [
    {
     "data": {
      "text/plain": [
       "'how the high and mighty have fallen'"
      ]
     },
     "execution_count": 43,
     "metadata": {},
     "output_type": "execute_result"
    }
   ],
   "source": [
    "LCase('HOW THE HIGH AND MIGHTY HAVE FALLEN');"
   ]
  },
  {
   "cell_type": "markdown",
   "metadata": {},
   "source": [
    "Left"
   ]
  },
  {
   "cell_type": "code",
   "execution_count": 47,
   "metadata": {},
   "outputs": [],
   "source": [
    "/**\n",
    " * gets the leftmost poertion of an item\n",
    "* @param {string} theString the item\n",
    "* @param {number} length length of result\n",
    "* @return {string} The left portion of the string\n",
    "*/\n",
    "function Left(theString, length) {\n",
    "    return theString.toString().slice(0, length);\n",
    "}"
   ]
  },
  {
   "cell_type": "code",
   "execution_count": 48,
   "metadata": {},
   "outputs": [
    {
     "data": {
      "text/plain": [
       "'Too much agreement'"
      ]
     },
     "execution_count": 48,
     "metadata": {},
     "output_type": "execute_result"
    }
   ],
   "source": [
    "Left('Too much agreement kills a chat', 18);"
   ]
  },
  {
   "cell_type": "markdown",
   "metadata": {},
   "source": [
    "Len"
   ]
  },
  {
   "cell_type": "code",
   "execution_count": 49,
   "metadata": {},
   "outputs": [],
   "source": [
    "function Len(theString) {\n",
    "    return theString.toString().length;\n",
    "}"
   ]
  },
  {
   "cell_type": "code",
   "execution_count": 50,
   "metadata": {},
   "outputs": [
    {
     "data": {
      "text/plain": [
       "32"
      ]
     },
     "execution_count": 50,
     "metadata": {},
     "output_type": "execute_result"
    }
   ],
   "source": [
    "Len('We grow small trying to be great');"
   ]
  },
  {
   "cell_type": "markdown",
   "metadata": {},
   "source": [
    "LTrim"
   ]
  },
  {
   "cell_type": "markdown",
   "metadata": {},
   "source": [
    "LTrim returns a string containing a copy of a specified string with no leading spaces."
   ]
  },
  {
   "cell_type": "code",
   "execution_count": 52,
   "metadata": {},
   "outputs": [],
   "source": [
    "/**\n",
    " * Removes leading whitespace\n",
    " * @param {string} theString the item to bew trimmed\n",
    " * @return {string} The trimmed result\n",
    " */\n",
    "function LTrimg(theString) {\n",
    "    return theString.toString().replace(/^\\s+/, \"\");\n",
    "}"
   ]
  },
  {
   "cell_type": "code",
   "execution_count": 53,
   "metadata": {},
   "outputs": [
    {
     "data": {
      "text/plain": [
       "'I don\\'t do much to keep in trim'"
      ]
     },
     "execution_count": 53,
     "metadata": {},
     "output_type": "execute_result"
    }
   ],
   "source": [
    "LTrimg(\" I don't do much to keep in trim\");"
   ]
  },
  {
   "cell_type": "markdown",
   "metadata": {},
   "source": [
    "Mid"
   ]
  },
  {
   "cell_type": "code",
   "execution_count": 54,
   "metadata": {},
   "outputs": [],
   "source": [
    "/** \n",
    " * gets and extract from a string\n",
    " * @param {string} theString the item\n",
    " * @param {number} start start position(base 1) of extract\n",
    " * @param {number} [length] Number of characters (default all remaining)\n",
    " * @return {string} The extracted string\n",
    " */\n",
    "function Mid(theString, start, length) {\n",
    "    var s = theString.toString();\n",
    "    start --;\n",
    "    \n",
    "    length = fixOptional(length, s.length - start);\n",
    "    return s.slice(start, length + start);\n",
    "}"
   ]
  },
  {
   "cell_type": "code",
   "execution_count": 55,
   "metadata": {},
   "outputs": [
    {
     "data": {
      "text/plain": [
       "'mid term'"
      ]
     },
     "execution_count": 55,
     "metadata": {},
     "output_type": "execute_result"
    }
   ],
   "source": [
    "Mid('I have to take care of the short term, mid term and the long term', 40, 8);"
   ]
  },
  {
   "cell_type": "markdown",
   "metadata": {},
   "source": [
    "Right"
   ]
  },
  {
   "cell_type": "markdown",
   "metadata": {},
   "source": [
    "The Right function retunrs a string containing the specified number of characters from the right side of a string."
   ]
  },
  {
   "cell_type": "code",
   "execution_count": 57,
   "metadata": {},
   "outputs": [],
   "source": [
    "function Right(theString, length) {\n",
    "    return theString.toString().slice(-length);\n",
    "}"
   ]
  },
  {
   "cell_type": "code",
   "execution_count": 58,
   "metadata": {},
   "outputs": [
    {
     "data": {
      "text/plain": [
       "'kills a chat'"
      ]
     },
     "execution_count": 58,
     "metadata": {},
     "output_type": "execute_result"
    }
   ],
   "source": [
    "Right('Too much agreement kills a chat', 12);"
   ]
  },
  {
   "cell_type": "code",
   "execution_count": 59,
   "metadata": {},
   "outputs": [],
   "source": [
    "function Now() {\n",
    "    return new Date();\n",
    "}"
   ]
  },
  {
   "cell_type": "code",
   "execution_count": 60,
   "metadata": {},
   "outputs": [
    {
     "data": {
      "text/plain": [
       "Sun Apr 29 2018 00:52:22 GMT+0900 (KST)"
      ]
     },
     "execution_count": 60,
     "metadata": {},
     "output_type": "execute_result"
    }
   ],
   "source": [
    "Now()"
   ]
  },
  {
   "cell_type": "code",
   "execution_count": 61,
   "metadata": {},
   "outputs": [
    {
     "data": {
      "text/plain": [
       "Sun Apr 29 2018 00:52:25 GMT+0900 (KST)"
      ]
     },
     "execution_count": 61,
     "metadata": {},
     "output_type": "execute_result"
    }
   ],
   "source": [
    "new Date()"
   ]
  },
  {
   "cell_type": "code",
   "execution_count": 62,
   "metadata": {},
   "outputs": [],
   "source": [
    "function DateNow() {\n",
    "    return DateValue(new Date());\n",
    "}"
   ]
  },
  {
   "cell_type": "code",
   "execution_count": 64,
   "metadata": {},
   "outputs": [],
   "source": [
    "function Time() {\n",
    "    return TimeValue(new Date());\n",
    "}"
   ]
  },
  {
   "cell_type": "markdown",
   "metadata": {},
   "source": [
    "Value"
   ]
  },
  {
   "cell_type": "code",
   "execution_count": 66,
   "metadata": {},
   "outputs": [],
   "source": [
    "function DateValue(dateTime) {\n",
    "    return ['Hours', 'Minutes',\n",
    "           'Seconds', 'Milliseconds']\n",
    "            .reduce(function(p, c) {\n",
    "        p['set'+c](0);\n",
    "        return p;\n",
    "    }, new Date(dateTime));\n",
    "}\n"
   ]
  },
  {
   "cell_type": "code",
   "execution_count": 67,
   "metadata": {},
   "outputs": [],
   "source": [
    "function Year(dateTime) {\n",
    "    return DatePart(\"yyyy\", dateTime);\n",
    "}"
   ]
  },
  {
   "cell_type": "code",
   "execution_count": 68,
   "metadata": {},
   "outputs": [
    {
     "data": {
      "text/plain": [
       "Sun Apr 29 2018 01:01:02 GMT+0900 (KST)"
      ]
     },
     "execution_count": 68,
     "metadata": {},
     "output_type": "execute_result"
    }
   ],
   "source": [
    "new Date();"
   ]
  },
  {
   "cell_type": "code",
   "execution_count": 69,
   "metadata": {},
   "outputs": [
    {
     "data": {
      "text/plain": [
       "Sun Apr 29 2018 01:01:08 GMT+0900 (KST)"
      ]
     },
     "execution_count": 69,
     "metadata": {},
     "output_type": "execute_result"
    }
   ],
   "source": [
    "a = new Date();"
   ]
  },
  {
   "cell_type": "code",
   "execution_count": 70,
   "metadata": {},
   "outputs": [
    {
     "ename": "ReferenceError",
     "evalue": "DatePart is not defined",
     "output_type": "error",
     "traceback": [
      "ReferenceError: DatePart is not defined",
      "    at Year (evalmachine.<anonymous>:2:12)",
      "    at evalmachine.<anonymous>:1:1",
      "    at Object.exports.runInThisContext (vm.js:54:17)",
      "    at run ([eval]:1002:15)",
      "    at onRunRequest ([eval]:829:18)",
      "    at onMessage ([eval]:789:13)",
      "    at emitTwo (events.js:87:13)",
      "    at process.emit (events.js:172:7)",
      "    at handleMessage (internal/child_process.js:695:10)",
      "    at Pipe.channel.onread (internal/child_process.js:440:11)"
     ]
    }
   ],
   "source": []
  },
  {
   "cell_type": "markdown",
   "metadata": {},
   "source": [
    "## Testing for undefined"
   ]
  },
  {
   "cell_type": "code",
   "execution_count": 72,
   "metadata": {},
   "outputs": [],
   "source": [
    "function placeToEat(options) {\n",
    "    var town = options.town || \"london\";\n",
    "    var shop = options.shop || \"nandos\";\n",
    "    var street = options.street || \"regent street\";\n",
    "}"
   ]
  },
  {
   "cell_type": "code",
   "execution_count": 73,
   "metadata": {},
   "outputs": [],
   "source": [
    "placeToEat( {\n",
    "    town:\"new york\",\n",
    "    street: \"broadway\"\n",
    "})"
   ]
  },
  {
   "cell_type": "markdown",
   "metadata": {},
   "source": [
    "## Handling Errors"
   ]
  },
  {
   "cell_type": "markdown",
   "metadata": {},
   "source": [
    "Dealing with erros in VBA is like stepping back in coding time 20 years, as it encourages the developer to do bad things like ignore errors, and forces interruptions to the logic flow by jumping around the code."
   ]
  },
  {
   "cell_type": "markdown",
   "metadata": {},
   "source": [
    "## JavaScript try/catch"
   ]
  },
  {
   "cell_type": "markdown",
   "metadata": {},
   "source": [
    "If there is no handling, then JavaScrip will throw an exception.  try/catch block is used to encapsulate code that might otherwise throw an exception. \n",
    "An optional finally block is available that will run after the try(and the catch if there was as error) blocks have been executed. The finally block is seldom used in most of the code I've seen, but it does allow emulation of the VBA Resume Next pattern."
   ]
  },
  {
   "cell_type": "code",
   "execution_count": 75,
   "metadata": {},
   "outputs": [
    {
     "ename": "string",
     "evalue": "'someErrors'",
     "output_type": "error",
     "traceback": ""
    }
   ],
   "source": [
    "throw 'someErrors';"
   ]
  },
  {
   "cell_type": "code",
   "execution_count": 76,
   "metadata": {},
   "outputs": [
    {
     "ename": "Error",
     "evalue": "some error message",
     "output_type": "error",
     "traceback": [
      "Error: some error message",
      "    at evalmachine.<anonymous>:1:7",
      "    at Object.exports.runInThisContext (vm.js:54:17)",
      "    at run ([eval]:1002:15)",
      "    at onRunRequest ([eval]:829:18)",
      "    at onMessage ([eval]:789:13)",
      "    at emitTwo (events.js:87:13)",
      "    at process.emit (events.js:172:7)",
      "    at handleMessage (internal/child_process.js:695:10)",
      "    at Pipe.channel.onread (internal/child_process.js:440:11)"
     ]
    }
   ],
   "source": [
    "throw new Error('some error message');"
   ]
  },
  {
   "cell_type": "code",
   "execution_count": 77,
   "metadata": {},
   "outputs": [
    {
     "name": "stdout",
     "output_type": "stream",
     "text": [
      "{}\n"
     ]
    }
   ],
   "source": [
    "try {\n",
    "    throw new Error(\"some error message\");\n",
    "}\n",
    "catch(err) {\n",
    "    console.log(JSON.stringify(err));\n",
    "}\n"
   ]
  },
  {
   "cell_type": "code",
   "execution_count": null,
   "metadata": {},
   "outputs": [],
   "source": []
  }
 ],
 "metadata": {
  "kernelspec": {
   "display_name": "Javascript (Node.js)",
   "language": "javascript",
   "name": "javascript"
  },
  "language_info": {
   "file_extension": ".js",
   "mimetype": "application/javascript",
   "name": "javascript",
   "version": "4.4.0"
  }
 },
 "nbformat": 4,
 "nbformat_minor": 2
}
