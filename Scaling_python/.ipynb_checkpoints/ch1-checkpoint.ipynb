{
 "cells": [
  {
   "cell_type": "markdown",
   "metadata": {},
   "source": [
    "This book concentrates on methods, technologies, and practice that allow one to make applications fast and able to grow in order to handle more jobs"
   ]
  },
  {
   "cell_type": "markdown",
   "metadata": {},
   "source": [
    "Building scalabel applications implies that you distribute the workload across multiple workers using multiple processing units."
   ]
  },
  {
   "cell_type": "markdown",
   "metadata": {},
   "source": [
    "- Write a single-threaded application : easy, slow, limited\n",
    "- Write a multi-threaded application : error-prone, fewer failure scenarios that multi-nodes\n",
    "- Write network distributed applications : most complicated, no limit"
   ]
  },
  {
   "cell_type": "markdown",
   "metadata": {},
   "source": [
    "## 1.1 Across CPUs"
   ]
  },
  {
   "cell_type": "markdown",
   "metadata": {},
   "source": [
    "- Usually done with multithreading\n",
    "- Threads are contained in a single process. Since they run in parallel, that means they can be executed on separate processosrs even if they are contained in a single process. "
   ]
  },
  {
   "cell_type": "markdown",
   "metadata": {},
   "source": [
    "- Should know GIL (global interpreter lock), a lock that must be acquired each time CPython needs to execute byte-code.\n",
    "- The reason taht the GIL is required in the first place is that it makes sure that some basic Python objects are thread-safe. "
   ]
  },
  {
   "cell_type": "code",
   "execution_count": 8,
   "metadata": {},
   "outputs": [
    {
     "name": "stdout",
     "output_type": "stream",
     "text": [
      "[1]\n"
     ]
    }
   ],
   "source": [
    "import threading\n",
    "x = []\n",
    "\n",
    "def append_two(l):\n",
    "    l.append(2)\n",
    "    \n",
    "threading.Thread(target=append_two, args=(x,)).start\n",
    "\n",
    "x.append(1)\n",
    "print(x)"
   ]
  },
  {
   "cell_type": "markdown",
   "metadata": {},
   "source": [
    "- list.append is atomic\n",
    "- This phenomenon happens because only one thread is allowed to execute a bytecode instruction at a time. That also means that if your threads run a lot of bytecodes, there are many contentions to acquire the GIL, and therefore your program cannot be faster than a single-threaded version - or it could even be slower."
   ]
  },
  {
   "cell_type": "code",
   "execution_count": null,
   "metadata": {},
   "outputs": [],
   "source": []
  }
 ],
 "metadata": {
  "kernelspec": {
   "display_name": "Python 3",
   "language": "python",
   "name": "python3"
  },
  "language_info": {
   "codemirror_mode": {
    "name": "ipython",
    "version": 3
   },
   "file_extension": ".py",
   "mimetype": "text/x-python",
   "name": "python",
   "nbconvert_exporter": "python",
   "pygments_lexer": "ipython3",
   "version": "3.6.4"
  }
 },
 "nbformat": 4,
 "nbformat_minor": 2
}
