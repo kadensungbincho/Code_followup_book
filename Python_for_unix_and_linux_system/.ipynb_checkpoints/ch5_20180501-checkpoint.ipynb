{
 "cells": [
  {
   "cell_type": "markdown",
   "metadata": {},
   "source": [
    "# Ch 5 : Networking"
   ]
  },
  {
   "cell_type": "markdown",
   "metadata": {},
   "source": [
    "Networking often refers to connecting multiple cimputers together for the purpose of allowing some communication among them. But, for our purposes, we are less interested in allowing computers to communicate with one another and more interested in allowing processes to communicate with one another. Whether the processes are on the same computer or different computers is irrelevant for the techniques that we're going to show."
   ]
  },
  {
   "cell_type": "markdown",
   "metadata": {},
   "source": [
    "This chapter will focus on writing Python programs that connect to other processes using the standard socket libarary and then interacting with those other processes."
   ]
  },
  {
   "cell_type": "markdown",
   "metadata": {},
   "source": [
    "## Network Clients "
   ]
  },
  {
   "cell_type": "markdown",
   "metadata": {},
   "source": [
    "While servers sit and wait for a client to connect to them, clients initiate connections. The Python Standard Library contains implementations of many used networks clients. This section will discuss some of the more common and frequently useful clients."
   ]
  },
  {
   "cell_type": "markdown",
   "metadata": {},
   "source": [
    "**socket**"
   ]
  },
  {
   "cell_type": "markdown",
   "metadata": {},
   "source": [
    "The socket module provides a Python interface to your operating system's socket implementation. This means that you can do whatever can be done to or with sockets, using Python. In case you have never done any network programming before, this chapter does provie a breif overview of networking. It should give you a flavor of what kinds of things you can do with the PYthon networking libraries."
   ]
  },
  {
   "cell_type": "markdown",
   "metadata": {},
   "source": [
    "The socket module provides the factory function, socket(). The socket() function, in turn, returns a socket object. While there are a number of arguments to pass to socket() for specifying the kind of socket to create, calling the socket() factory function with no arguments returns a socket object with sensible defaults- a TCP/IP socket:"
   ]
  },
  {
   "cell_type": "code",
   "execution_count": 3,
   "metadata": {},
   "outputs": [
    {
     "ename": "KeyboardInterrupt",
     "evalue": "",
     "output_type": "error",
     "traceback": [
      "\u001b[0;31m---------------------------------------------------------------------------\u001b[0m",
      "\u001b[0;31mKeyboardInterrupt\u001b[0m                         Traceback (most recent call last)",
      "\u001b[0;32m<ipython-input-3-841f19c29c04>\u001b[0m in \u001b[0;36m<module>\u001b[0;34m()\u001b[0m\n\u001b[1;32m      1\u001b[0m \u001b[0;32mimport\u001b[0m \u001b[0msocket\u001b[0m\u001b[0;34m\u001b[0m\u001b[0m\n\u001b[1;32m      2\u001b[0m \u001b[0ms\u001b[0m \u001b[0;34m=\u001b[0m \u001b[0msocket\u001b[0m\u001b[0;34m.\u001b[0m\u001b[0msocket\u001b[0m\u001b[0;34m(\u001b[0m\u001b[0;34m)\u001b[0m\u001b[0;34m\u001b[0m\u001b[0m\n\u001b[0;32m----> 3\u001b[0;31m \u001b[0ms\u001b[0m\u001b[0;34m.\u001b[0m\u001b[0mconnect\u001b[0m\u001b[0;34m(\u001b[0m\u001b[0;34m(\u001b[0m\u001b[0;34m'192.168.1.15'\u001b[0m\u001b[0;34m,\u001b[0m \u001b[0;36m80\u001b[0m\u001b[0;34m)\u001b[0m\u001b[0;34m)\u001b[0m\u001b[0;34m\u001b[0m\u001b[0m\n\u001b[0m",
      "\u001b[0;31mKeyboardInterrupt\u001b[0m: "
     ]
    }
   ],
   "source": [
    "import socket\n",
    "s = socket.socket()\n",
    "s.connect(('192.168.1.15', 80))\n",
    "s.send(\"GET / HTTP/1.0\\n\\n\")\n",
    "s.recv(200)\n",
    "s.close()"
   ]
  },
  {
   "cell_type": "markdown",
   "metadata": {},
   "source": [
    "This example created a socket object called s from the socket() factory function. It then connected to a local default web server, indicated by port 80, which is the default port for HTTP. Then, it sent the server the text string \"GET / HTTP/1.0\\n\\n\". Following the send, it received the first 200 bytes of the server's response, which is a 200 ok status message and HTTP headers. Finally, we closed the connection."
   ]
  },
  {
   "cell_type": "markdown",
   "metadata": {},
   "source": [
    "The socket methods demonstrated in this example represent the methods that you are likely to find yourself using most often. Connect() establishes a communication channel between your socket object and the remote."
   ]
  },
  {
   "cell_type": "markdown",
   "metadata": {},
   "source": [
    "Send() transmits data from your socket object to the remote end. Recv() receives any data that the remote end has sent back. And close() terminates the communication channel between the two sockets. This is a really simple example that shows the ease with which you can create socket object and then send ad receive data over them. "
   ]
  },
  {
   "cell_type": "markdown",
   "metadata": {},
   "source": [
    "Now we'll look at a slightly more useful example. Suppose you have a server that is runnning some sort of network application, such as a web server. And suppose that you are interested in watching this server to be sure that, over the course of a day, you can proves that the server itself is still up and that the web server is still listening on some port. "
   ]
  },
  {
   "cell_type": "code",
   "execution_count": null,
   "metadata": {},
   "outputs": [],
   "source": [
    "import socket\n",
    "import re\n",
    "import sys\n",
    "\n",
    "def check_server(address, port):\n",
    "    # create a TCP socket\n",
    "    s = socket.socket()\n",
    "    print(\"Attempting to connect to {} on port {}\".format(address, port))\n",
    "    try:\n",
    "        s.connect((address, port))\n",
    "        print(\"Connected to {} on port {}\".format(address, port))\n",
    "        return True\n",
    "    except socket.error, e:\n",
    "        print(\"Connection to {} on port {} failed: {}\").format(address, port, e))\n",
    "        return False\n",
    "    \n",
    "if __name__ == \"__main__\":\n",
    "    from optparse import OptionParser\n",
    "    \n",
    "    parser = OptionParser()\n",
    "    \n",
    "    parser.add_option(\"-a\", \"--adddress\", dest=\"address\", default=\"localhost\",\n",
    "                     help=\"ADDRESS for server\", metavar=\"ADDRESS\")\n",
    "    \n",
    "    parser.add_option(\"-p\", \"--port\", dest=\"port\", type=\"int\", default=80,\n",
    "                     help=\"PORT for server\", metavar=\"PORT\")\n",
    "    \n",
    "    (options, args) = parser.parse_args()\n",
    "    print(\"options: {}, args: {}\".format(options, args))\n",
    "    check = check_server(options.address, options.port)\n",
    "    print(\"check_server returned {}\".format(check))\n",
    "    sys.exit(not check)"
   ]
  },
  {
   "cell_type": "code",
   "execution_count": null,
   "metadata": {},
   "outputs": [],
   "source": [
    "port_chechker_tcp.py -a 192.168.1.15 -p 80 && echo \"SUCCESS\""
   ]
  },
  {
   "cell_type": "markdown",
   "metadata": {},
   "source": [
    "- socket based web server checker"
   ]
  },
  {
   "cell_type": "code",
   "execution_count": null,
   "metadata": {},
   "outputs": [],
   "source": [
    "#~/user/bin/env python\n",
    "\n",
    "import socket\n",
    "import re\n",
    "import sys\n",
    "\n",
    "def check_webserver(address, port, resource):\n",
    "    # build up HTTP request string\n",
    "    if not resource.startswith('/'):\n",
    "        resource = '/' + resource\n",
    "    request_string = \"GET {} HTTP/1.1\\r\\nHost: {}\\r\\n\\r\\n\".format(resource, address)\n",
    "    print('HTTP request:')\n",
    "    print('|||{}|||'.format(request_string))\n",
    "    \n",
    "    # create a TCP socket\n",
    "    s = socket.socket()\n",
    "    print(\"Attempting to connect to {} on port {}\".format(address, port))\n",
    "    try:\n",
    "        s.connect((address, port))\n",
    "        print(\"Connected to {} on port {}\".format(address, port))\n",
    "        s.send(request_string)\n",
    "        # We should only need the first 100 bytes or so\n",
    "        rsp = s.recv(100)\n",
    "        print(\"Received 100 bytes of HTTP response\")\n",
    "        print(\"|||{}|||\".format(rsp))\n",
    "    except socket.error, e:\n",
    "        print(\"Connection to {} on port {} failed:\".format(address, port, e))\n",
    "        return False\n",
    "    finally:\n",
    "        # be a good citizen and close your connection\n",
    "        print(\"Closing the connection\")\n",
    "        s.close()\n",
    "    lines = rsp.splilines()\n",
    "    print(\"First line of HTTP response: {}\".format(lines[0]))\n",
    "    try:\n",
    "        version, status, messgae = re.split(r'\\s+', lines[0], 2)\n",
    "        print(\"Version: {}, Status: {}, Message: {}\".format(version, status, message))\n",
    "    except ValueError:\n",
    "        print(\"Falied to split status line\")\n",
    "        return False\n",
    "    if status in ['200', '301']:\n",
    "        print(\"Success - status was {}\".format(status))\n",
    "        return True\n",
    "    else:\n",
    "        print(\"Status was {}\".format(status))\n",
    "        return False\n",
    "    \n",
    "\n",
    "if __name__ == \"__main__\":\n",
    "    from optparse import OptionParse\n",
    "    parser = OptionParser()\n",
    "    parser.add_option(\"-a\", \"--address\", dest=\"address\", default=\"localhost\",\n",
    "                     help=\"ADDRESS for webserver\", metavar=\"ADDRESS\")\n",
    "    \n",
    "    parser.add_option(\"-p\", \"--port\", dest=\"port\", type=\"int\", default=80,\n",
    "                     help=\"PORT for webserver\", metavar=\"PORT\")\n",
    "    \n",
    "    parser.add_option(\"-r\", \"--resource\", dest=\"resource\", default=\"index.html\",\n",
    "                     help=\"RESOURCE to check\", metavar=\"RESOURCE\")\n",
    "    \n",
    "    (options, args) = parser.parse_args()\n",
    "    print(\"options: {}, args: {}\".format(options, args))\n",
    "    check = check_webserver(options.address, options.port, options.resource)\n",
    "    print(\"check_webserver returned {}\".format(check))\n",
    "    sys.exit(not check)"
   ]
  },
  {
   "cell_type": "markdown",
   "metadata": {},
   "source": [
    "This section showed how to construct low-level utilities to connect to network servers and perform basic checks on them. The purpose of these examples was to introduce you to what happens beghind the scenes when clients and servers communicate with one another. If you have an opportunity to write a network component using a higher library than the socket module, you should take it. It is not desirable to spend your time writing network components using a low-level library such as socket."
   ]
  },
  {
   "cell_type": "markdown",
   "metadata": {},
   "source": [
    "httplib"
   ]
  },
  {
   "cell_type": "code",
   "execution_count": null,
   "metadata": {},
   "outputs": [],
   "source": [
    "import httplit\n",
    "import sys\n",
    "\n",
    "def check_webserver(address, port, resource):\n",
    "    # create connection\n",
    "    if not resource.startswith('/'):\n",
    "        resource = '/' + resource\n",
    "    try:\n",
    "        conn = httplib.HTTPConnection(address, port)\n",
    "        print(\"HTTP connection created successfully\")\n",
    "        \n",
    "        # make request\n",
    "        req = conn.request('GET', resource)\n",
    "        print(\"request for {} successfult\".format(resource))\n",
    "        \n",
    "        # get response\n",
    "        response = conn.getresponse()\n",
    "        print(\"response status: {}\".format(response.status))\n",
    "    except sock.error, e:\n",
    "        print(\"HTTP connection failed: {}\", e)\n",
    "        return False\n",
    "    finally:\n",
    "        conn.close()\n",
    "        print(\"HTTP connection closed successfully\")\n",
    "    if response.status in [200, 301]:\n",
    "        return True\n",
    "    else:\n",
    "        return False"
   ]
  },
  {
   "cell_type": "markdown",
   "metadata": {},
   "source": [
    "- ftplib"
   ]
  },
  {
   "cell_type": "markdown",
   "metadata": {},
   "source": [
    "In addition to the socket and httplib modules, the Python Standard Library also contains an FTP client module named ftplib. ftplib is a full-featued FTP client library that will allow you to programmatically perform any tasks you would normally use an FTP client application to perform. For example, you can log in to an FTP server, list files in a particular directory, retrieve files, put files, change directories, and logout, all from within a Python script. You can even use one of the many GUI frameworks available in Python and build your own GUI FTP application."
   ]
  },
  {
   "cell_type": "markdown",
   "metadata": {},
   "source": [
    "urllib"
   ]
  },
  {
   "cell_type": "markdown",
   "metadata": {},
   "source": [
    "## Remote Procedure Call Facilities"
   ]
  },
  {
   "cell_type": "markdown",
   "metadata": {},
   "source": [
    "Typically, the reason for writing networking code is aht you need interprocess communication. Often, plain IPC, such as HTTP or a plain socket, is good enough. However, there are times when it would be even more useful to execute code in a different process or even on a different computer, as though it were in the same process that the code you are working on is in. If you could, in fact, execute code remotely in some other process from your PYthon program, you might expect that the return values from the remote calls would be Python objects which you could deal more easily wiht than chunks of text through which you have to manually parse. The good news is that there are several tools for remote procedure call functionality."
   ]
  },
  {
   "cell_type": "markdown",
   "metadata": {},
   "source": [
    "XML-RPC"
   ]
  },
  {
   "cell_type": "markdown",
   "metadata": {},
   "source": [
    "## SSH"
   ]
  },
  {
   "cell_type": "markdown",
   "metadata": {},
   "source": [
    "SSH is an incredibly powerful, widely used protocol. You can also think of it as a tool since the most common implementation includes the same name. SSH allows you to securely connect to remote server, execute shell commands, transfer files, and forward ports in both directions across the connection."
   ]
  },
  {
   "cell_type": "markdown",
   "metadata": {},
   "source": [
    "## Twisted"
   ]
  },
  {
   "cell_type": "markdown",
   "metadata": {},
   "source": [
    "event-driven nework"
   ]
  },
  {
   "cell_type": "markdown",
   "metadata": {},
   "source": [
    "# Ch 6 : Data"
   ]
  },
  {
   "cell_type": "markdown",
   "metadata": {},
   "source": [
    "## Using the OS Module to Interact with Data"
   ]
  },
  {
   "cell_type": "code",
   "execution_count": 4,
   "metadata": {},
   "outputs": [
    {
     "data": {
      "text/plain": [
       "'/Users/kadencho/git/kadensungbincho/Code_followup_book/Python_for_unix_and_linux_system'"
      ]
     },
     "execution_count": 4,
     "metadata": {},
     "output_type": "execute_result"
    }
   ],
   "source": [
    "import os\n",
    "os.getcwd()"
   ]
  },
  {
   "cell_type": "code",
   "execution_count": 5,
   "metadata": {},
   "outputs": [
    {
     "data": {
      "text/plain": [
       "['.txt',\n",
       " '20180423.ipynb',\n",
       " 'study_20180422.ipynb',\n",
       " 'pysysinfo_func.py',\n",
       " 'ls_python.py',\n",
       " '.ipynb_checkpoints',\n",
       " 'ch5_20180501.ipynb']"
      ]
     },
     "execution_count": 5,
     "metadata": {},
     "output_type": "execute_result"
    }
   ],
   "source": [
    "os.listdir()"
   ]
  },
  {
   "cell_type": "code",
   "execution_count": 6,
   "metadata": {},
   "outputs": [
    {
     "data": {
      "text/plain": [
       "os.stat_result(st_mode=16877, st_ino=4139297, st_dev=16777220, st_nlink=9, st_uid=501, st_gid=20, st_size=288, st_atime=1525168955, st_mtime=1525168129, st_ctime=1525168129)"
      ]
     },
     "execution_count": 6,
     "metadata": {},
     "output_type": "execute_result"
    }
   ],
   "source": [
    "os.stat(\".\")"
   ]
  },
  {
   "cell_type": "markdown",
   "metadata": {},
   "source": [
    "p 200\n"
   ]
  }
 ],
 "metadata": {
  "kernelspec": {
   "display_name": "Python 3",
   "language": "python",
   "name": "python3"
  },
  "language_info": {
   "codemirror_mode": {
    "name": "ipython",
    "version": 3
   },
   "file_extension": ".py",
   "mimetype": "text/x-python",
   "name": "python",
   "nbconvert_exporter": "python",
   "pygments_lexer": "ipython3",
   "version": "3.6.4"
  }
 },
 "nbformat": 4,
 "nbformat_minor": 2
}
