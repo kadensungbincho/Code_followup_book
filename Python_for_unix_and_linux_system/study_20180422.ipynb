{
 "cells": [
  {
   "cell_type": "markdown",
   "metadata": {},
   "source": [
    "## Tab Completion"
   ]
  },
  {
   "cell_type": "markdown",
   "metadata": {},
   "source": [
    "Another of the incredibly useful data-entry features of IPython is tab completion by default. "
   ]
  },
  {
   "cell_type": "markdown",
   "metadata": {},
   "source": [
    "## Magic Edit"
   ]
  },
  {
   "cell_type": "markdown",
   "metadata": {},
   "source": [
    "The last basic input and output topic we will cover is the \"magic\" edit function. Strictly line-oriented user interaction with a shell has tremendous, but limited, usefulness. Since that statement sounds like a contradiction, we'll unpack it. Typing commands into a shell one line at a time is very useful. You type in a command; the shell goes off and does its thing; you sometimes sit and wait for it to return; you type in your next command. This is not a bad cycle. In fact, it's quite effective. Bu sometimes it would be nice to work with a block of lines all at the same time. And it would be nice to work with them in your text editor of choice, although realine support in IPython does improve its usefulness, in this respect. We are aware of using a text editor to create PYthon moduels, but that isn't what we're talking about here. We're talking about more of a compromise between line-oriented input and ext editor input to feed commnads to the shell. If we can say that adding support for working with blocks of lines of commnads would be better, then we can say that a stictly line-oriented interface is limited. So, we can say that a strictly line-oriented interface is exceptionally useful but limited at the same time."
   ]
  },
  {
   "cell_type": "markdown",
   "metadata": {},
   "source": [
    "The magic edit function acts as the compromise we just mentioned between pure command-line interaction with the PYthon shell and power of both environments at your fingertips. You have the benefit of the full-featured power of your text editor of choice. You can easily edit blocks of code and change lines of code around within a loop or a method or function. Plus, you have the nimbleness and agility that comes from directly interating with the shell. When you combine these two approaches to working with code, a synergistic benefit emerges. You are able to maintain the environment you were working in directly from within your shell, and you can pause, edit, and execute code from within an editor. When you resume working within your shell, you will see the changes you just made in your editor."
   ]
  },
  {
   "cell_type": "markdown",
   "metadata": {},
   "source": [
    "## Configuring IPython"
   ]
  },
  {
   "cell_type": "markdown",
   "metadata": {},
   "source": [
    "The final \"basic\" information you need to know in order to begin is how to configure IPython. If you didn't assign a different location when you ran IPython the .ipython directory is a file called ipy\\_user\\_conf.py. This user fil is simply a confituration file that uses Python syntax. In order to help you give IPython the look and feel that you want it to have, the config file contains a wide variety of elements that you can customize. For example, you can choose the colors used in the shell, the components of the shell prompt, and the text editor that will automatically be used use when you %edit text. We won't go into any more detail than that here. Just know that the config file exists, and it is worth looking through to see if there are some elements you need to or want to configure."
   ]
  },
  {
   "cell_type": "code",
   "execution_count": 1,
   "metadata": {},
   "outputs": [
    {
     "data": {
      "application/json": {
       "cell": {
        "!": "OSMagics",
        "HTML": "Other",
        "SVG": "Other",
        "bash": "Other",
        "capture": "ExecutionMagics",
        "debug": "ExecutionMagics",
        "file": "Other",
        "html": "DisplayMagics",
        "javascript": "DisplayMagics",
        "js": "DisplayMagics",
        "latex": "DisplayMagics",
        "markdown": "DisplayMagics",
        "perl": "Other",
        "prun": "ExecutionMagics",
        "pypy": "Other",
        "python": "Other",
        "python2": "Other",
        "python3": "Other",
        "ruby": "Other",
        "script": "ScriptMagics",
        "sh": "Other",
        "svg": "DisplayMagics",
        "sx": "OSMagics",
        "system": "OSMagics",
        "time": "ExecutionMagics",
        "timeit": "ExecutionMagics",
        "writefile": "OSMagics"
       },
       "line": {
        "alias": "OSMagics",
        "alias_magic": "BasicMagics",
        "autocall": "AutoMagics",
        "automagic": "AutoMagics",
        "autosave": "KernelMagics",
        "bookmark": "OSMagics",
        "cat": "Other",
        "cd": "OSMagics",
        "clear": "KernelMagics",
        "colors": "BasicMagics",
        "config": "ConfigMagics",
        "connect_info": "KernelMagics",
        "cp": "Other",
        "debug": "ExecutionMagics",
        "dhist": "OSMagics",
        "dirs": "OSMagics",
        "doctest_mode": "BasicMagics",
        "ed": "Other",
        "edit": "KernelMagics",
        "env": "OSMagics",
        "gui": "BasicMagics",
        "hist": "Other",
        "history": "HistoryMagics",
        "killbgscripts": "ScriptMagics",
        "ldir": "Other",
        "less": "KernelMagics",
        "lf": "Other",
        "lk": "Other",
        "ll": "Other",
        "load": "CodeMagics",
        "load_ext": "ExtensionMagics",
        "loadpy": "CodeMagics",
        "logoff": "LoggingMagics",
        "logon": "LoggingMagics",
        "logstart": "LoggingMagics",
        "logstate": "LoggingMagics",
        "logstop": "LoggingMagics",
        "ls": "Other",
        "lsmagic": "BasicMagics",
        "lx": "Other",
        "macro": "ExecutionMagics",
        "magic": "BasicMagics",
        "man": "KernelMagics",
        "matplotlib": "PylabMagics",
        "mkdir": "Other",
        "more": "KernelMagics",
        "mv": "Other",
        "notebook": "BasicMagics",
        "page": "BasicMagics",
        "pastebin": "CodeMagics",
        "pdb": "ExecutionMagics",
        "pdef": "NamespaceMagics",
        "pdoc": "NamespaceMagics",
        "pfile": "NamespaceMagics",
        "pinfo": "NamespaceMagics",
        "pinfo2": "NamespaceMagics",
        "pip": "BasicMagics",
        "popd": "OSMagics",
        "pprint": "BasicMagics",
        "precision": "BasicMagics",
        "profile": "BasicMagics",
        "prun": "ExecutionMagics",
        "psearch": "NamespaceMagics",
        "psource": "NamespaceMagics",
        "pushd": "OSMagics",
        "pwd": "OSMagics",
        "pycat": "OSMagics",
        "pylab": "PylabMagics",
        "qtconsole": "KernelMagics",
        "quickref": "BasicMagics",
        "recall": "HistoryMagics",
        "rehashx": "OSMagics",
        "reload_ext": "ExtensionMagics",
        "rep": "Other",
        "rerun": "HistoryMagics",
        "reset": "NamespaceMagics",
        "reset_selective": "NamespaceMagics",
        "rm": "Other",
        "rmdir": "Other",
        "run": "ExecutionMagics",
        "save": "CodeMagics",
        "sc": "OSMagics",
        "set_env": "OSMagics",
        "store": "StoreMagics",
        "sx": "OSMagics",
        "system": "OSMagics",
        "tb": "ExecutionMagics",
        "time": "ExecutionMagics",
        "timeit": "ExecutionMagics",
        "unalias": "OSMagics",
        "unload_ext": "ExtensionMagics",
        "who": "NamespaceMagics",
        "who_ls": "NamespaceMagics",
        "whos": "NamespaceMagics",
        "xdel": "NamespaceMagics",
        "xmode": "BasicMagics"
       }
      },
      "text/plain": [
       "Available line magics:\n",
       "%alias  %alias_magic  %autocall  %automagic  %autosave  %bookmark  %cat  %cd  %clear  %colors  %config  %connect_info  %cp  %debug  %dhist  %dirs  %doctest_mode  %ed  %edit  %env  %gui  %hist  %history  %killbgscripts  %ldir  %less  %lf  %lk  %ll  %load  %load_ext  %loadpy  %logoff  %logon  %logstart  %logstate  %logstop  %ls  %lsmagic  %lx  %macro  %magic  %man  %matplotlib  %mkdir  %more  %mv  %notebook  %page  %pastebin  %pdb  %pdef  %pdoc  %pfile  %pinfo  %pinfo2  %popd  %pprint  %precision  %profile  %prun  %psearch  %psource  %pushd  %pwd  %pycat  %pylab  %qtconsole  %quickref  %recall  %rehashx  %reload_ext  %rep  %rerun  %reset  %reset_selective  %rm  %rmdir  %run  %save  %sc  %set_env  %store  %sx  %system  %tb  %time  %timeit  %unalias  %unload_ext  %who  %who_ls  %whos  %xdel  %xmode\n",
       "\n",
       "Available cell magics:\n",
       "%%!  %%HTML  %%SVG  %%bash  %%capture  %%debug  %%file  %%html  %%javascript  %%js  %%latex  %%markdown  %%perl  %%prun  %%pypy  %%python  %%python2  %%python3  %%ruby  %%script  %%sh  %%svg  %%sx  %%system  %%time  %%timeit  %%writefile\n",
       "\n",
       "Automagic is ON, % prefix IS NOT needed for line magics."
      ]
     },
     "execution_count": 1,
     "metadata": {},
     "output_type": "execute_result"
    }
   ],
   "source": [
    "lsmagic"
   ]
  },
  {
   "cell_type": "code",
   "execution_count": 4,
   "metadata": {},
   "outputs": [],
   "source": [
    "%page"
   ]
  },
  {
   "cell_type": "code",
   "execution_count": 5,
   "metadata": {},
   "outputs": [
    {
     "name": "stdout",
     "output_type": "stream",
     "text": [
      "Object `?` not found\n"
     ]
    }
   ],
   "source": [
    "%page ?"
   ]
  },
  {
   "cell_type": "code",
   "execution_count": 6,
   "metadata": {},
   "outputs": [
    {
     "name": "stdout",
     "output_type": "stream",
     "text": [
      "Interactive namespace is empty.\n"
     ]
    }
   ],
   "source": [
    "%who"
   ]
  },
  {
   "cell_type": "markdown",
   "metadata": {},
   "source": [
    "## Unix Shell"
   ]
  },
  {
   "cell_type": "markdown",
   "metadata": {},
   "source": [
    "Woring in a Unix shell certainly has tis benefits, but it's nice for us to be able to add a touch of Python to this old friend. IPython has some features that make briging the two very . valuuable"
   ]
  },
  {
   "cell_type": "markdown",
   "metadata": {},
   "source": [
    "### alias"
   ]
  },
  {
   "cell_type": "code",
   "execution_count": 14,
   "metadata": {},
   "outputs": [],
   "source": [
    "alias nss netstat -lptn"
   ]
  },
  {
   "cell_type": "code",
   "execution_count": 15,
   "metadata": {},
   "outputs": [
    {
     "name": "stdout",
     "output_type": "stream",
     "text": [
      "netstat: tn: unknown or uninstrumented protocol\r\n"
     ]
    }
   ],
   "source": [
    "nss"
   ]
  },
  {
   "cell_type": "code",
   "execution_count": 16,
   "metadata": {},
   "outputs": [],
   "source": [
    "alias nss top"
   ]
  },
  {
   "cell_type": "code",
   "execution_count": 17,
   "metadata": {},
   "outputs": [
    {
     "name": "stdout",
     "output_type": "stream",
     "text": [
      "\u001b[?1l\u001b>  KeychainSync 0.0  00:00.04 2     1    61    1408K  0B     0B   661  1\u001b[24;1H\u001b[2J\u001b[?47l\u001b82H77\u001b[5;25H4\u001b[5;39H4\u001b[6;7H69\u001b[7;22H86/5383\u001b[7;37H20/3834\u001b[8;30H2\u001b[11;19H2.6\u001b[11;31H3\u001b[13;21H0\u001b[13;31H8\u001b[14;20H7.9 01:38.15 16/1\u001b[15;21H8\u001b[15;31H3\u001b[16;21H1H23+   2260\u001b[12;46H \u001b[12;55H \u001b[13;46H \u001b[6C \u001b[14;19H4.4\u001b[14;31H5\u001b[14;46H \u001b[15;19H12.1\u001b[7C16\u001b[15;47H \u001b[16;21H5\u001b[16;46H \u001b[6C \u001b[17;47H   65M \u001b[18;46H \u001b[18;55H  96K \u001b[19;46H \u001b[19;55H \u001b[20;46H \u001b[20;55H \u001b[21;46H \u001b[7C \u001b[22;46H \u001b[22;55H \u001b[23;46H \u001b[23;55H \u001b[24;46H \u001b[24;55H  16K \u001b[14C\u001b[1;79H3\u001b[2;42H7\u001b[2;54H30\u001b[2;66H95\u001b[7;22H36/5363\u001b[7;37H75/3815\u001b[11;19H2\u001b[11;31H5\u001b[11;46H    2272\u001b[14;19H5.7\u001b[14;30H71\u001b[15;19H7.4 \u001b[7C24\u001b[16;21H4\u001b[16;31H1\u001b[17;21H4\u001b[17;30H90\u001b[24;75H\u001b[1;23H4\u001b[1;36H2\u001b[1;50H5\u001b[28C4\u001b[2;40H11.95% user, 6.82% sys, 81.21% idle\u001b[5;13H9\u001b[5;25H5\u001b[5;39H3\u001b[7;22H43/5366\u001b[7;37H81/3817\u001b[8;30H9\u001b[11;21H5\u001b[11;31H8\u001b[11;55H \u001b[14;21H9\u001b[14;31H7\u001b[14;53H \u001b[15;19H20.9\u001b[7C46 16/1\u001b[16;21H3\u001b[11\u001b[24;75H\u001b[1;23H3\u001b[1;36H3\u001b[42C5\u001b[2;41H0.6\u001b[2;55H77\u001b[2;65H2.56\u001b[5;12H80\u001b[5;25H6\u001b[5;39H1\u001b[7;23H9/5369\u001b[7;38H7/3820\u001b[11;21H8\u001b[11;30H31\u001b[11;52H80K+\u001b[13;21H3\u001b[13;31H1\u001b[13;53H+\u001b[14;30H83\u001b[15;19H14.5\u001b[7C61 16  \u001b[15;52H3\u001b[16;21H2\u001b[12\u001b[24;75H\u001b[1;23H2\u001b[1;36H4\u001b[1;50H4\u001b[28C6\u001b[2;13H95, 1.69, 1.71\u001b[2;40H3.14% user, 2.89% sys, 93.9\u001b[1P\u001b[7;22H56/5372\u001b[7;37H93/3823\u001b[11;21H7\u001b[11;31H4\u001b[11;55H \u001b[13;21H0\u001b[13;53H \u001b[14;21H2\u001b[14;31H9\u001b[15;19H4.5 \u001b[15;31H5\u001b[16;21H3\u001b[16;31H2\u001b[17;21H1\u001b[24;75H\u001b[1;49H48\u001b[28C7\u001b[2;40H8.6% user, 6.35% sys, 85.57\u001b[1P\u001b[5;25H7\u001b[7;22H65/5375\u001b[7C900/3826\u001b[8;28H871/470\u001b[11;21H6\u001b[11;31H6\u001b[14;21H7\u001b[14;30H95\u001b[15;19H13.3\u001b[7C79\u001b[16;21H2\u001b[12\u001b[17;31H1\u001b[24;75H\u001b[1;50H9\u001b[28C8\u001b[2;40H11.27% user, 7.43% sys, 81.29% idle\u001b[5;13H1\u001b[5;39H0\u001b[7;22H71/5378\u001b[7;38H6/3829\u001b[11;19H3.8\u001b[11;30H40\u001b[14;19H6.4\u001b[6C2.01\u001b[14;53H+\u001b[15;20H6.6\u001b[7C96\u001b[24;75H"
     ]
    }
   ],
   "source": [
    "nss"
   ]
  },
  {
   "cell_type": "code",
   "execution_count": 19,
   "metadata": {},
   "outputs": [
    {
     "ename": "SyntaxError",
     "evalue": "invalid syntax (<ipython-input-19-940c3cbd8f20>, line 1)",
     "output_type": "error",
     "traceback": [
      "\u001b[0;36m  File \u001b[0;32m\"<ipython-input-19-940c3cbd8f20>\"\u001b[0;36m, line \u001b[0;32m1\u001b[0m\n\u001b[0;31m    ps aux\u001b[0m\n\u001b[0m         ^\u001b[0m\n\u001b[0;31mSyntaxError\u001b[0m\u001b[0;31m:\u001b[0m invalid syntax\n"
     ]
    }
   ],
   "source": [
    "ps aux"
   ]
  },
  {
   "cell_type": "code",
   "execution_count": 20,
   "metadata": {},
   "outputs": [],
   "source": [
    "alias achoo echo \"|%l|\""
   ]
  },
  {
   "cell_type": "code",
   "execution_count": 21,
   "metadata": {},
   "outputs": [
    {
     "name": "stdout",
     "output_type": "stream",
     "text": [
      "|these are args|\r\n"
     ]
    }
   ],
   "source": [
    "achoo these are args"
   ]
  },
  {
   "cell_type": "code",
   "execution_count": 22,
   "metadata": {},
   "outputs": [],
   "source": [
    "alias achoo echo first: \"|%s|\", second \"|%s|\""
   ]
  },
  {
   "cell_type": "code",
   "execution_count": 23,
   "metadata": {},
   "outputs": [
    {
     "name": "stdout",
     "output_type": "stream",
     "text": [
      "first: |foo|, second |bar|\r\n"
     ]
    }
   ],
   "source": [
    "achoo foo bar"
   ]
  },
  {
   "cell_type": "code",
   "execution_count": 24,
   "metadata": {},
   "outputs": [
    {
     "name": "stderr",
     "output_type": "stream",
     "text": [
      "UsageError: Alias <achoo> requires 2 arguments, 1 given.\n"
     ]
    }
   ],
   "source": [
    "achoo foo"
   ]
  },
  {
   "cell_type": "markdown",
   "metadata": {},
   "source": [
    "## Shell Execute"
   ]
  },
  {
   "cell_type": "markdown",
   "metadata": {},
   "source": [
    "Another, and possibly easier, way of executing a shell command is to place an exclamation point (!) in front of it:"
   ]
  },
  {
   "cell_type": "code",
   "execution_count": 25,
   "metadata": {},
   "outputs": [
    {
     "name": "stdout",
     "output_type": "stream",
     "text": [
      "kadencho           541   0.0  0.0  4296240   1764 s000  S     7:43PM   0:00.35 -bash\n",
      "kadencho           779   0.0  0.0  4276968    716 s001  S+    9:24PM   0:00.00 grep bash\n",
      "kadencho           776   0.0  0.0  4269360    972 s001  Ss+   9:24PM   0:00.01 /bin/sh -c ps aux | grep kadencho | grep bash\n"
     ]
    }
   ],
   "source": [
    "user = \"kadencho\"\n",
    "process = \"bash\"\n",
    "!ps aux | grep $user | grep $process"
   ]
  },
  {
   "cell_type": "markdown",
   "metadata": {},
   "source": [
    "## rehash"
   ]
  },
  {
   "cell_type": "markdown",
   "metadata": {},
   "source": [
    "There is another option for aliasing and/or executing shell commands from IPython: rehashing. Technically, this is creating an alias for shell commands, but it doesn't really feel like that is what you're doing. The rehash \"magic\" function updates the \"alias table\" with everything that is on your PATH. You may be asking, \"What is the alias table?\". When you create an alias, IPython has to map the alias name to the shell command with which you wanted it to be associated. The alias table is where that mapping occurs."
   ]
  },
  {
   "cell_type": "code",
   "execution_count": 28,
   "metadata": {},
   "outputs": [
    {
     "ename": "NameError",
     "evalue": "name '_ip' is not defined",
     "output_type": "error",
     "traceback": [
      "\u001b[0;31m---------------------------------------------------------------------------\u001b[0m",
      "\u001b[0;31mNameError\u001b[0m                                 Traceback (most recent call last)",
      "\u001b[0;32m<ipython-input-28-4b6341f637cd>\u001b[0m in \u001b[0;36m<module>\u001b[0;34m()\u001b[0m\n\u001b[0;32m----> 1\u001b[0;31m \u001b[0m_ip\u001b[0m\u001b[0;34m\u001b[0m\u001b[0m\n\u001b[0m",
      "\u001b[0;31mNameError\u001b[0m: name '_ip' is not defined"
     ]
    }
   ],
   "source": [
    "_ip"
   ]
  },
  {
   "cell_type": "markdown",
   "metadata": {},
   "source": [
    "## dhist"
   ]
  },
  {
   "cell_type": "markdown",
   "metadata": {},
   "source": [
    "In the cd example above, we show a list of the directories we had visited. Now we'll show you how to view that list. The magic command is dhidt, which not only saves the session list, but also saves the list of directories across IPython sessions. Here is what heppens when you run dhist with no arguments."
   ]
  },
  {
   "cell_type": "code",
   "execution_count": 29,
   "metadata": {},
   "outputs": [
    {
     "name": "stdout",
     "output_type": "stream",
     "text": [
      "Directory history (kept in _dh)\n",
      "0: /Users/kadencho/git/kadensungbincho/Code_followup_book/Python_for_unix_and_linux_system\n"
     ]
    }
   ],
   "source": [
    "dhist"
   ]
  },
  {
   "cell_type": "code",
   "execution_count": 30,
   "metadata": {},
   "outputs": [
    {
     "data": {
      "text/plain": [
       "'/Users/kadencho/git/kadensungbincho/Code_followup_book/Python_for_unix_and_linux_system'"
      ]
     },
     "execution_count": 30,
     "metadata": {},
     "output_type": "execute_result"
    }
   ],
   "source": [
    "pwd"
   ]
  },
  {
   "cell_type": "code",
   "execution_count": 31,
   "metadata": {},
   "outputs": [
    {
     "name": "stderr",
     "output_type": "stream",
     "text": [
      "UsageError: %cd -: No previous directory to change to.\n"
     ]
    }
   ],
   "source": [
    "cd -"
   ]
  },
  {
   "cell_type": "code",
   "execution_count": 32,
   "metadata": {},
   "outputs": [
    {
     "name": "stderr",
     "output_type": "stream",
     "text": [
      "UsageError: Bookmark '' not found.  Use '%bookmark -l' to see your bookmarks.\n"
     ]
    }
   ],
   "source": [
    "cd -b"
   ]
  },
  {
   "cell_type": "code",
   "execution_count": 33,
   "metadata": {},
   "outputs": [
    {
     "name": "stdout",
     "output_type": "stream",
     "text": [
      "Current bookmarks:\n"
     ]
    }
   ],
   "source": [
    "bookmark -l"
   ]
  },
  {
   "cell_type": "code",
   "execution_count": 34,
   "metadata": {},
   "outputs": [
    {
     "data": {
      "text/plain": [
       "'/Users/kadencho/git/kadensungbincho/Code_followup_book/Python_for_unix_and_linux_system'"
      ]
     },
     "execution_count": 34,
     "metadata": {},
     "output_type": "execute_result"
    }
   ],
   "source": [
    "pwd"
   ]
  },
  {
   "cell_type": "markdown",
   "metadata": {},
   "source": [
    "## variable expansion"
   ]
  },
  {
   "cell_type": "markdown",
   "metadata": {},
   "source": [
    "The previous eight or so IPython features are definitely helpful and necessary, but the next three features will give great joy to power users. The first of these is variable expansion. Up to this point, we've mostly kept shell stuff with shell stuff and Python stuff with Python stuff. But now, we're going to cross the line and mingle the two fo them. That is, we're going to take a value that we get from Python and hand it to the shell:"
   ]
  },
  {
   "cell_type": "code",
   "execution_count": 37,
   "metadata": {},
   "outputs": [
    {
     "name": "stdout",
     "output_type": "stream",
     "text": [
      "/bin/sh: /bin/sh.txt: Operation not permitted\r\n"
     ]
    }
   ],
   "source": [
    "for i in range(10):\n",
    "    !date > ${i}.txt"
   ]
  },
  {
   "cell_type": "markdown",
   "metadata": {},
   "source": [
    "## String Processing"
   ]
  },
  {
   "cell_type": "code",
   "execution_count": 40,
   "metadata": {},
   "outputs": [
    {
     "data": {
      "text/plain": [
       "[]"
      ]
     },
     "execution_count": 40,
     "metadata": {},
     "output_type": "execute_result"
    }
   ],
   "source": [
    "ps = !ps aux\n",
    "ps.grep('lighttpd')"
   ]
  },
  {
   "cell_type": "code",
   "execution_count": 41,
   "metadata": {},
   "outputs": [
    {
     "data": {
      "text/plain": [
       "['USER               PID  %CPU %MEM      VSZ    RSS   TT  STAT STARTED      TIME COMMAND',\n",
       " 'kadencho           727   7.1  2.3  5316340 196556   ??  R     8:56PM   2:47.33 /Applications/Google Chrome.app/Contents/Versions/66.0.3359.117/Google Chrome Helper.app/Contents/MacOS/Google Chrome Helper --type=renderer --field-trial-handle=13743856143471476175,6633202752984092555,131072 --service-pipe-token=4B4E8B0F2E22C4218CD6C8D949663486 --lang=en-US --enable-offline-auto-reload --enable-offline-auto-reload-visible-only --num-raster-threads=2 --enable-zero-copy --enable-gpu-memory-buffer-compositor-resources --enable-main-frame-before-activation --enable-compositor-image-animations --service-request-channel-token=4B4E8B0F2E22C4218CD6C8D949663486 --renderer-client-id=21',\n",
       " 'kadencho           339   2.6  2.7  4992564 225228   ??  S     7:22PM   2:31.18 /Applications/Google Chrome.app/Contents/MacOS/Google Chrome',\n",
       " '_windowserver      169   1.1  0.9  5548036  78904   ??  Ss    7:22PM   3:17.49 /System/Library/PrivateFrameworks/SkyLight.framework/Resources/WindowServer -daemon',\n",
       " 'kadencho           380   0.4  1.6  4700548 132436   ??  S     7:22PM   0:40.69 /Applications/Google Chrome.app/Contents/Versions/66.0.3359.117/Google Chrome Helper.app/Contents/MacOS/Google Chrome Helper --type=gpu-process --field-trial-handle=13743856143471476175,6633202752984092555,131072 --gpu-preferences=KAAAAAAAAACAAAAAAQAAAAAAAAAAAGAAEAAAAAAAAAAAAAAAAAAAADgBAAAmAAAAMAEAAAAAAAA4AQAAAAAAAEABAAAAAAAASAEAAAAAAABQAQAAAAAAAFgBAAAAAAAAYAEAAAAAAABoAQAAAAAAAHABAAAAAAAAeAEAAAAAAACAAQAAAAAAAIgBAAAAAAAAkAEAAAAAAACYAQAAAAAAAKABAAAAAAAAqAEAAAAAAACwAQAAAAAAALgBAAAAAAAAwAEAAAAAAADIAQAAAAAAANABAAAAAAAA2AEAAAAAAADgAQAAAAAAAOgBAAAAAAAA8AEAAAAAAAD4AQAAAAAAAAACAAAAAAAACAIAAAAAAAAQAgAAAAAAABgCAAAAAAAAIAIAAAAAAAAoAgAAAAAAADACAAAAAAAAOAIAAAAAAABAAgAAAAAAAEgCAAAAAAAAUAIAAAAAAABYAgAAAAAAABAAAAAAAAAAAAAAAAUAAAAQAAAAAAAAAAAAAAALAAAAEAAAAAAAAAAAAAAADAAAABAAAAAAAAAAAAAAAA0AAAAQAAAAAAAAAAAAAAAPAAAAEAAAAAAAAAAAAAAAEAAAABAAAAAAAAAAAAAAABIAAAAQAAAAAAAAAAAAAAATAAAAEAAAAAAAAAABAAAABQAAABAAAAAAAAAAAQAAAAsAAAAQAAAAAAAAAAEAAAAMAAAAEAAAAAAAAAABAAAADQAAABAAAAAAAAAAAQAAAA8AAAAQAAAAAAAAAAEAAAAQAAAAEAAAAAAAAAABAAAAEgAAABAAAAAAAAAAAQAAABMAAAAQAAAAAAAAAAMAAAAFAAAAEAAAAAAAAAADAAAACwAAABAAAAAAAAAAAwAAAAwAAAAQAAAAAAAAAAMAAAANAAAAEAAAAAAAAAADAAAADwAAABAAAAAAAAAAAwAAABAAAAAQAAAAAAAAAAMAAAASAAAAEAAAAAAAAAADAAAAEwAAABAAAAAAAAAABQAAAAUAAAAQAAAAAAAAAAUAAAALAAAAEAAAAAAAAAAFAAAADQAAABAAAAAAAAAABQAAAA8AAAAQAAAAAAAAAAUAAAAQAAAAEAAAAAAAAAAFAAAAEgAAABAAAAAAAAAABQAAABMAAAAQAAAAAAAAAAYAAAAFAAAAEAAAAAAAAAAGAAAACwAAABAAAAAAAAAABgAAAA0AAAAQAAAAAAAAAAYAAAAPAAAAEAAAAAAAAAAGAAAAEAAAABAAAAAAAAAABgAAABIAAAAQAAAAAAAAAAYAAAATAAAA --service-request-channel-token=32FC2246E1E04CEF3527319A67830245',\n",
       " 'kadencho           880   0.2  1.7  5272448 140612   ??  S     9:49PM   0:24.89 /Applications/Google Chrome.app/Contents/Versions/66.0.3359.117/Google Chrome Helper.app/Contents/MacOS/Google Chrome Helper --type=renderer --field-trial-handle=13743856143471476175,6633202752984092555,131072 --service-pipe-token=5569F95FA0E62786192E57E96EF21B81 --lang=en-US --enable-offline-auto-reload --enable-offline-auto-reload-visible-only --num-raster-threads=2 --enable-zero-copy --enable-gpu-memory-buffer-compositor-resources --enable-main-frame-before-activation --enable-compositor-image-animations --service-request-channel-token=5569F95FA0E62786192E57E96EF21B81 --renderer-client-id=23',\n",
       " 'kadencho           415   0.1  0.1  4331516   9620   ??  S     7:22PM   0:04.76 /System/Library/PrivateFrameworks/ViewBridge.framework/Versions/A/XPCServices/ViewBridgeAuxiliary.xpc/Contents/MacOS/ViewBridgeAuxiliary',\n",
       " '_hidd               98   0.1  0.1  4334516   7948   ??  Ss    7:21PM   0:46.44 /usr/libexec/hidd',\n",
       " 'kadencho           396   0.1  0.3  4340816  21696   ??  S     7:22PM   0:05.83 /System/Library/CoreServices/Siri.app/Contents/MacOS/Siri launchd',\n",
       " 'kadencho           803   0.0  0.4  4367664  35720   ??  S     9:36PM   0:00.36 /System/Library/Frameworks/CoreServices.framework/Frameworks/Metadata.framework/Versions/A/Support/mdworker -s mdworker -c MDSImporterWorker -m com.apple.mdworker.shared',\n",
       " 'kadencho           747   0.0  0.6  4367508  51992   ??  S     9:06PM   0:01.42 /System/Library/Frameworks/CoreServices.framework/Frameworks/Metadata.framework/Versions/A/Support/mdworker -s mdworker -c MDSImporterWorker -m com.apple.mdworker.shared',\n",
       " 'kadencho           731   0.0  0.7  4324260  56376   ??  Ss    8:56PM   0:02.91 /Users/kadencho/anaconda3/bin/python -m ipykernel_launcher -f /Users/kadencho/Library/Jupyter/runtime/kernel-16ec94cf-71ed-45d9-9a7a-a52fce5cb7c3.json',\n",
       " 'kadencho           722   0.0  0.9  4319260  72384 s000  S+    8:56PM   0:05.47 /Users/kadencho/anaconda3/bin/python /Users/kadencho/anaconda3/bin/jupyter-notebook',\n",
       " 'kadencho           719   0.0  2.0  5283484 165580   ??  S     8:56PM   1:43.83 /Applications/Google Chrome.app/Contents/Versions/66.0.3359.117/Google Chrome Helper.app/Contents/MacOS/Google Chrome Helper --type=renderer --field-trial-handle=13743856143471476175,6633202752984092555,131072 --service-pipe-token=FB6986A4484D5E3A23FCC8D01B9EA851 --lang=en-US --enable-offline-auto-reload --enable-offline-auto-reload-visible-only --num-raster-threads=2 --enable-zero-copy --enable-gpu-memory-buffer-compositor-resources --enable-main-frame-before-activation --enable-compositor-image-animations --service-request-channel-token=FB6986A4484D5E3A23FCC8D01B9EA851 --renderer-client-id=20',\n",
       " 'kadencho           698   0.0  0.3  4339620  21624   ??  S     8:44PM   0:00.30 /System/Library/PrivateFrameworks/ContactsDonation.framework/Versions/A/Support/contactsdonationagent',\n",
       " 'kadencho           682   0.0  0.3  4406264  24496   ??  S     8:33PM   0:00.31 /System/Library/Frameworks/CoreServices.framework/Frameworks/Metadata.framework/Versions/A/Support/corespotlightd',\n",
       " '_spotlight         674   0.0  0.1  4312088  11592   ??  S     8:33PM   0:00.07 /System/Library/Frameworks/CoreServices.framework/Frameworks/Metadata.framework/Versions/A/Support/mdworker -s mdworker -c MDSImporterWorker -m com.apple.mdworker.shared',\n",
       " 'kadencho           673   0.0  0.1  4304416   4932   ??  Ss    8:33PM   0:00.03 /System/Library/PrivateFrameworks/IMFoundation.framework/XPCServices/IMRemoteURLConnectionAgent.xpc/Contents/MacOS/IMRemoteURLConnectionAgent',\n",
       " '_netbios           672   0.0  0.1  4332688  11640   ??  SNs   8:33PM   0:00.15 /usr/sbin/netbiosd',\n",
       " '_captiveagent      670   0.0  0.1  4306676   7004   ??  Ss    8:33PM   0:00.11 /usr/libexec/captiveagent',\n",
       " 'kadencho           662   0.0  0.1  4304596   8928   ??  S     8:31PM   0:00.03 /System/Library/PrivateFrameworks/CoreFollowUp.framework/Versions/A/Support/followupd',\n",
       " 'kadencho           661   0.0  0.1  4304564   9860   ??  S     8:31PM   0:00.05 /System/Library/Frameworks/Security.framework/Versions/A/Resources/KeychainSyncingOverIDSProxy.bundle/Contents/MacOS/KeychainSyncingOverIDSProxy',\n",
       " 'kadencho           627   0.0  0.5  4622316  38920   ??  S     8:14PM   0:00.74 /System/Library/Services/AppleSpell.service/Contents/MacOS/AppleSpell',\n",
       " 'kadencho           602   0.0  0.1  4305024   5536   ??  S     8:06PM   0:00.03 /System/Library/Frameworks/ColorSync.framework/Support/colorsync.useragent',\n",
       " 'root               559   0.0  0.1  4295696   4868   ??  Ss    7:48PM   0:00.04 /usr/libexec/taskgated -s',\n",
       " 'kadencho           541   0.0  0.0  4296240   1764 s000  S     7:43PM   0:00.35 -bash',\n",
       " 'root               540   0.0  0.1  4304432   5988 s000  Ss    7:43PM   0:00.03 login -pf kadencho',\n",
       " 'kadencho           539   0.0  0.6  4468620  47104   ??  S     7:43PM   0:14.26 /Applications/Utilities/Terminal.app/Contents/MacOS/Terminal',\n",
       " 'kadencho           536   0.0  0.1  4304888   4336   ??  S     7:43PM   0:00.02 /System/Library/PrivateFrameworks/StoreXPCServices.framework/Versions/A/XPCServices/com.apple.appstore.PluginXPCService.xpc/Contents/MacOS/com.apple.appstore.PluginXPCService',\n",
       " 'kadencho           533   0.0  0.2  4344964  18904   ??  S     7:43PM   0:00.39 /System/Library/PrivateFrameworks/CommerceKit.framework/Versions/A/Resources/storeuid.app/Contents/MacOS/storeuid',\n",
       " 'root               531   0.0  0.0  4331048   2244   ??  Ss    7:43PM   0:00.01 /System/Library/Frameworks/CoreMediaIO.framework/Versions/A/XPCServices/com.apple.cmio.registerassistantservice.xpc/Contents/MacOS/com.apple.cmio.registerassistantservice',\n",
       " 'kadencho           530   0.0  0.2  4334048  15308   ??  S     7:43PM   0:00.08 /System/Library/PrivateFrameworks/CommerceKit.framework/Versions/A/Resources/storedownloadd',\n",
       " 'kadencho           497   0.0  0.4  4358748  32984   ??  S     7:24PM   0:00.22 /System/Library/PrivateFrameworks/PhotoAnalysis.framework/Versions/A/Support/photoanalysisd',\n",
       " 'kadencho           496   0.0  0.3  4358440  25008   ??  Ss    7:24PM   0:00.14 /System/Library/PrivateFrameworks/PhotoLibraryPrivate.framework/Versions/A/Frameworks/PhotoLibraryServices.framework/Versions/A/XPCServices/com.apple.photomoments.xpc/Contents/MacOS/com.apple.photomoments',\n",
       " 'kadencho           495   0.0  0.3  4367376  23100   ??  S     7:24PM   0:00.43 /System/Library/PrivateFrameworks/PhotoLibraryPrivate.framework/Versions/A/Support/photolibraryd',\n",
       " 'kadencho           493   0.0  0.2  4331020  20844   ??  S     7:24PM   0:00.16 /System/Library/PrivateFrameworks/CloudPhotoServices.framework/Versions/A/Frameworks/CloudPhotosConfigurationXPC.framework/Versions/A/XPCServices/com.apple.CloudPhotosConfiguration.xpc/Contents/MacOS/com.apple.CloudPhotosConfiguration',\n",
       " 'kadencho           492   0.0  0.4  4372716  31096   ??  S     7:24PM   0:00.71 /System/Library/CoreServices/cloudphotosd.app/Contents/MacOS/cloudphotosd',\n",
       " '_applepay          491   0.0  0.1  4331460   7272   ??  Ss    7:24PM   0:00.05 /usr/libexec/nfcd',\n",
       " 'kadencho           490   0.0  0.4  4367596  33988   ??  S     7:24PM   0:00.65 /System/Library/PrivateFrameworks/CoreSuggestions.framework/Versions/A/Support/suggestd',\n",
       " 'kadencho           489   0.0  0.4  4345632  33372   ??  S     7:24PM   0:01.24 /System/Library/PrivateFrameworks/GameCenterFoundation.framework/Versions/A/gamed',\n",
       " 'kadencho           488   0.0  0.3  4335296  26932   ??  S     7:24PM   0:02.62 /System/Library/CoreServices/SafariSupport.bundle/Contents/MacOS/SafariBookmarksSyncAgent',\n",
       " 'kadencho           487   0.0  0.2  4330728  13500   ??  S     7:24PM   0:00.05 /System/Library/PrivateFrameworks/AskPermission.framework/Versions/A/Resources/askpermissiond',\n",
       " 'kadencho           486   0.0  0.2  4331492  18936   ??  S     7:24PM   0:00.07 /usr/libexec/siriknowledged',\n",
       " 'kadencho           485   0.0  0.2  4335572  18740   ??  S     7:24PM   0:00.10 /System/Library/PrivateFrameworks/CallHistory.framework/Support/CallHistorySyncHelper',\n",
       " 'kadencho           484   0.0  0.3  4338836  27576   ??  S     7:24PM   0:00.31 /System/Library/PrivateFrameworks/PassKitCore.framework/passd',\n",
       " 'kadencho           483   0.0  0.2  4335800  14816   ??  S     7:24PM   0:00.10 /usr/libexec/keyboardservicesd',\n",
       " 'kadencho           482   0.0  0.2  4331512  14868   ??  S     7:24PM   0:00.09 /System/Library/CoreServices/mapspushd',\n",
       " 'kadencho           480   0.0  0.5  4407128  42564   ??  Ss    7:23PM   0:04.62 /System/Library/CoreServices/Siri.app/Contents/XPCServices/SiriNCService.xpc/Contents/MacOS/SiriNCService',\n",
       " '_spotlight         478   0.0  0.0  4305588   2828   ??  S     7:23PM   0:00.06 /usr/sbin/distnoted agent',\n",
       " 'kadencho           473   0.0  0.1  4306304   7156   ??  S     7:23PM   0:00.22 /System/Library/CoreServices/ScopedBookmarkAgent',\n",
       " 'kadencho           472   0.0  0.1  4305084   6092   ??  S     7:23PM   0:00.03 /System/Library/Frameworks/CoreServices.framework/Frameworks/Metadata.framework/Versions/A/Support/mdwrite',\n",
       " 'kadencho           471   0.0  0.1  4304968   4980   ??  S     7:23PM   0:00.32 /System/Library/Frameworks/ApplicationServices.framework/Versions/A/Frameworks/HIServices.framework/Versions/A/XPCServices/com.apple.hiservices-xpcservice.xpc/Contents/MacOS/com.apple.hiservices-xpcservice',\n",
       " 'kadencho           470   0.0  0.2  4336128  12804   ??  Ss    7:23PM   0:00.05 /System/Library/PrivateFrameworks/XprotectFramework.framework/Versions/A/XPCServices/XprotectService.xpc/Contents/MacOS/XprotectService',\n",
       " 'kadencho           469   0.0  1.1  4604640  89876   ??  S     7:23PM   1:25.98 /Applications/Preview.app/Contents/MacOS/Preview -psn_0_184365',\n",
       " '_spotlight         466   0.0  0.1  4334232   8136   ??  S     7:23PM   0:00.12 /usr/libexec/trustd --agent',\n",
       " 'kadencho           463   0.0  0.2  4371176  12908   ??  Ss    7:23PM   0:00.46 /System/Library/PrivateFrameworks/IMFoundation.framework/XPCServices/IMRemoteURLConnectionAgent.xpc/Contents/MacOS/IMRemoteURLConnectionAgent',\n",
       " 'kadencho           462   0.0  0.1  4304928   4748   ??  S     7:23PM   0:00.03 /System/Library/Frameworks/CoreServices.framework/Versions/A/Frameworks/DictionaryServices.framework/Versions/A/XPCServices/com.apple.DictionaryServiceHelper.xpc/Contents/MacOS/com.apple.DictionaryServiceHelper',\n",
       " 'kadencho           457   0.0  0.7  4376184  60132   ??  S     7:22PM   0:02.46 /System/Library/Frameworks/CoreServices.framework/Frameworks/Metadata.framework/Versions/A/Support/mdworker -s mdworker -c MDSImporterWorker -m com.apple.mdworker.shared',\n",
       " 'kadencho           450   0.0  0.2  4340756  18172   ??  S     7:22PM   0:00.37 /System/Library/PrivateFrameworks/CommerceKit.framework/Resources/LaterAgent.app/Contents/MacOS/LaterAgent',\n",
       " 'kadencho           445   0.0  0.2  4333432  19024   ??  S     7:22PM   0:00.37 /System/Library/PrivateFrameworks/CommerceKit.framework/Versions/A/Resources/storeassetd',\n",
       " 'kadencho           444   0.0  0.2  4331828  14932   ??  S     7:22PM   0:00.06 /System/Library/PrivateFrameworks/CommerceKit.framework/Versions/A/Resources/storelegacy',\n",
       " 'root               442   0.0  0.1  4296484   9328   ??  Ss    7:22PM   0:00.03 /System/Library/CoreServices/Software Update.app/Contents/Resources/suhelperd',\n",
       " '_softwareupdate    441   0.0  0.3  5411480  21604   ??  Ss    7:22PM   0:00.42 /System/Library/CoreServices/Software Update.app/Contents/Resources/softwareupdated',\n",
       " 'kadencho           440   0.0  0.1  4305640  10844   ??  S     7:22PM   0:00.04 /System/Library/CoreServices/Software Update.app/Contents/Resources/softwareupdate_notify_agent',\n",
       " 'kadencho           437   0.0  0.1  4304964   8400   ??  Ss    7:22PM   0:00.02 /System/Library/Frameworks/AudioToolbox.framework/XPCServices/com.apple.audio.SandboxHelper.xpc/Contents/MacOS/com.apple.audio.SandboxHelper',\n",
       " 'kadencho           436   0.0  0.2  4336036  14208   ??  Ss    7:22PM   0:00.12 /Library/Frameworks/iTunesLibrary.framework/Versions/A/XPCServices/com.apple.iTunesLibraryService.xpc/Contents/MacOS/com.apple.iTunesLibraryService',\n",
       " 'kadencho           433   0.0  0.1  4333312   7712   ??  S     7:22PM   0:00.10 /System/Library/PrivateFrameworks/CacheDelete.framework/deleted',\n",
       " 'kadencho           432   0.0  0.1  4332528   8652   ??  S     7:22PM   0:00.22 /System/Library/Frameworks/AudioToolbox.framework/AudioComponentRegistrar',\n",
       " 'kadencho           431   0.0  0.2  4340776  13944   ??  S     7:22PM   0:00.47 /System/Library/CoreServices/CoreLocationAgent.app/Contents/MacOS/CoreLocationAgent',\n",
       " 'kadencho           430   0.0  0.2  4304972  16288   ??  S     7:22PM   0:00.43 /System/Library/PrivateFrameworks/ContactsAgent.framework/Executables/ContactsAgent',\n",
       " 'kadencho           429   0.0  0.2  4368540  19088   ??  S     7:22PM   0:00.50 /System/Library/PrivateFrameworks/AuthKit.framework/Versions/A/Support/akd',\n",
       " 'kadencho           428   0.0  0.5  4385788  45168   ??  Ss    7:22PM   0:00.09 /System/Library/PrivateFrameworks/AssistantServices.framework/Versions/A/XPCServices/media-indexer.xpc/Contents/MacOS/media-indexer',\n",
       " 'kadencho           427   0.0  0.1  4305580   5288   ??  S     7:22PM   0:00.02 /usr/libexec/spindump_agent',\n",
       " 'kadencho           423   0.0  0.1  4334672   7204   ??  S     7:22PM   0:00.08 /System/Library/CoreServices/pbs',\n",
       " 'kadencho           418   0.0  0.1  4331316  10376   ??  S     7:22PM   0:00.13 /usr/libexec/videosubscriptionsd',\n",
       " 'kadencho           410   0.0  0.3  4491180  23548   ??  S     7:22PM   0:00.63 /Library/PrivilegedHelperTools/ChromeRemoteDesktopHost.bundle/Contents/MacOS/remoting_me2me_host --host-config=/Library/PrivilegedHelperTools/org.chromium.chromoting.json --ssh-auth-sockname=/tmp/chromoting.kadencho.ssh_auth_sock',\n",
       " 'kadencho           408   0.0  0.2  4363076  16096   ??  S     7:22PM   0:00.47 /System/Library/CoreServices/Menu Extras/TextInput.menu/Contents/SharedSupport/TISwitcher.app/Contents/MacOS/TISwitcher',\n",
       " 'kadencho           405   0.0  0.2  4332432  15196   ??  S     7:22PM   0:00.27 /System/Library/CoreServices/diagnostics_agent',\n",
       " 'kadencho           404   0.0  0.2  4340768  17236   ??  S     7:22PM   0:00.40 /System/Library/PrivateFrameworks/Noticeboard.framework/Versions/A/Resources/nbagent.app/Contents/MacOS/nbagent',\n",
       " 'kadencho           403   0.0  0.2  4332216  19500   ??  S     7:22PM   0:00.20 /System/Library/CoreServices/cloudpaird',\n",
       " 'kadencho           402   0.0  0.2  4337260  19656   ??  S     7:22PM   0:00.23 /usr/libexec/knowledge-agent',\n",
       " 'kadencho           401   0.0  0.2  4337572  13360   ??  S     7:22PM   0:00.39 /System/Library/CoreServices/AirPlayUIAgent.app/Contents/MacOS/AirPlayUIAgent --launchd',\n",
       " 'kadencho           399   0.0  0.0  4279600   1160   ??  S     7:22PM   0:00.01 /bin/sh /Library/PrivilegedHelperTools/org.chromium.chromoting.me2me.sh --run-from-launchd',\n",
       " 'kadencho           398   0.0  0.2  4339296  20420   ??  S     7:22PM   0:00.21 /System/Library/CoreServices/AppleIDAuthAgent',\n",
       " 'kadencho           397   0.0  0.2  4332008  15128   ??  S     7:22PM   0:00.18 /System/Library/Image Capture/Support/icdd',\n",
       " 'kadencho           393   0.0  0.1  4330708  10876   ??  S     7:22PM   0:00.05 /System/Library/CoreServices/SocialPushAgent.app/Contents/MacOS/SocialPushAgent',\n",
       " 'kadencho           391   0.0  0.2  4332264  13812   ??  S     7:22PM   0:00.11 /usr/sbin/ckkeyrolld',\n",
       " 'kadencho           390   0.0  0.1  4305248  10260   ??  S     7:22PM   0:00.08 /System/Library/PrivateFrameworks/FileProvider.framework/Support/fileproviderd',\n",
       " 'kadencho           389   0.0  0.2  4288100  17092   ??  S     7:22PM   0:00.04 /System/Library/PrivateFrameworks/CoreSpeech.framework/corespeechd',\n",
       " 'kadencho           388   0.0  0.4  4349576  34000   ??  S     7:22PM   0:00.69 /System/Library/PrivateFrameworks/AssistantServices.framework/assistantd',\n",
       " 'kadencho           387   0.0  0.1  4332560   8140   ??  S     7:22PM   0:00.08 /usr/libexec/swcd',\n",
       " 'kadencho           385   0.0  0.1  4331768   6904   ??  Ss    7:22PM   0:00.05 /System/Library/Frameworks/VideoToolbox.framework/Versions/A/XPCServices/VTDecoderXPCService.xpc/Contents/MacOS/VTDecoderXPCService',\n",
       " 'kadencho           384   0.0  0.1  4296232   5536   ??  S     7:22PM   0:00.02 /System/Library/PrivateFrameworks/MediaRemote.framework/Support/mediaremoteagent',\n",
       " 'kadencho           383   0.0  0.2  4332732  20452   ??  S     7:22PM   0:00.21 /usr/libexec/fmfd',\n",
       " 'kadencho           382   0.0  0.1  4296808   8676   ??  Ss    7:22PM   0:00.03 /Applications/Google Chrome.app/Contents/Versions/66.0.3359.117/Google Chrome Framework.framework/Versions/A/XPCServices/AlertNotificationService.xpc/Contents/MacOS/AlertNotificationService',\n",
       " 'kadencho           381   0.0  0.1  4304932   5196   ??  S     7:22PM   0:00.02 /System/Library/CoreServices/APFSUserAgent',\n",
       " 'kadencho           379   0.0  0.2  4338000  13492   ??  S     7:22PM   0:00.39 /System/Library/CoreServices/WiFiAgent.app/Contents/MacOS/WiFiAgent',\n",
       " 'root               377   0.0  0.1  4304388   5308   ??  Ss    7:22PM   0:00.02 /System/Library/CoreServices/CrashReporterSupportHelper server-init',\n",
       " 'kadencho           376   0.0  0.2  4331240  16044   ??  S     7:22PM   0:00.05 /System/Library/PrivateFrameworks/CallHistory.framework/Support/CallHistoryPluginHelper',\n",
       " 'kadencho           375   0.0  0.4  4338092  32540   ??  S     7:22PM   0:00.76 /usr/libexec/routined LAUNCHED_BY_LAUNCHD',\n",
       " 'kadencho           374   0.0  0.4  4352988  30932   ??  S     7:22PM   0:00.50 /System/Library/PrivateFrameworks/MessagesKit.framework/Resources/soagent.app/Contents/MacOS/soagent',\n",
       " 'kadencho           373   0.0  0.4  4338088  29620   ??  Ss    7:22PM   0:00.73 /System/Library/PrivateFrameworks/CalendarNotification.framework/Versions/A/XPCServices/CalNCService.xpc/Contents/MacOS/CalNCService',\n",
       " 'kadencho           372   0.0  0.2  4306216  14884   ??  S     7:22PM   0:00.07 /System/Library/PrivateFrameworks/CommerceKit.framework/Versions/A/Resources/storeaccountd',\n",
       " 'kadencho           371   0.0  0.2  4304488  15104   ??  S     7:22PM   0:00.15 /System/Library/Frameworks/AddressBook.framework/Executables/ContactsAccountsService',\n",
       " 'kadencho           370   0.0  0.1  4304876   6624   ??  S     7:22PM   0:00.06 /System/Library/Frameworks/Security.framework/Versions/A/Resources/CloudKeychainProxy.bundle/Contents/MacOS/CloudKeychainProxy',\n",
       " 'kadencho           369   0.0  0.1  4304420  11896   ??  S     7:22PM   0:00.05 /System/Library/PrivateFrameworks/CoreCDP.framework/Versions/A/Resources/cdpd',\n",
       " 'kadencho           368   0.0  0.1  4305652  11640   ??  S     7:22PM   0:00.07 /usr/libexec/rapportd',\n",
       " 'kadencho           367   0.0  0.2  4340624  14096   ??  Ss    7:22PM   0:01.01 /System/Library/Input Methods/PressAndHold.app/Contents/PlugIns/PAH_Extension.appex/Contents/MacOS/PAH_Extension',\n",
       " 'kadencho           366   0.0  0.2  4354284  15316   ??  Ss    7:22PM   0:00.68 /System/Library/Input Methods/KoreanIM.app/Contents/PlugIns/KIM_Extension.appex/Contents/MacOS/KIM_Extension',\n",
       " 'kadencho           365   0.0  0.5  4366880  39472   ??  S     7:22PM   0:02.03 /System/Library/PrivateFrameworks/CalendarAgent.framework/Executables/CalendarAgent',\n",
       " 'kadencho           364   0.0  0.2  4333312  13540   ??  S     7:22PM   0:00.21 /usr/libexec/networkserviceproxy',\n",
       " 'kadencho           363   0.0  0.2  4305356  15832   ??  S     7:22PM   0:00.13 /System/Library/PrivateFrameworks/IMDPersistence.framework/XPCServices/IMDPersistenceAgent.xpc/Contents/MacOS/IMDPersistenceAgent',\n",
       " 'kadencho           362   0.0  0.2  4344484  15228   ??  S     7:22PM   0:00.43 /System/Library/CoreServices/CoreServicesUIAgent.app/Contents/MacOS/CoreServicesUIAgent',\n",
       " 'kadencho           360   0.0  0.3  4332548  21544   ??  S     7:22PM   0:00.31 /System/Library/PrivateFrameworks/IMCore.framework/imagent.app/Contents/MacOS/imagent',\n",
       " 'kadencho           359   0.0  0.2  4332844  13364   ??  S     7:22PM   0:00.34 /usr/libexec/secinitd',\n",
       " 'kadencho           358   0.0  0.2  4372508  13216   ??  S     7:22PM   0:00.46 /System/Library/PrivateFrameworks/GeoServices.framework/Versions/A/XPCServices/com.apple.geod.xpc/Contents/MacOS/com.apple.geod',\n",
       " 'kadencho           357   0.0  0.2  4334908  17736   ??  S     7:22PM   0:00.16 /System/Library/PrivateFrameworks/CommerceKit.framework/Versions/A/Resources/commerce',\n",
       " 'kadencho           356   0.0  0.3  4333436  23696   ??  S     7:22PM   0:00.50 /System/Library/PrivateFrameworks/CoreParsec.framework/parsecd',\n",
       " 'root               355   0.0  0.2  4331792  18892   ??  Ss    7:22PM   0:00.12 /usr/libexec/findmydeviced',\n",
       " 'kadencho           353   0.0  0.1  4334312  12252   ??  S     7:22PM   0:00.35 /System/Library/Frameworks/InputMethodKit.framework/Resources/imklaunchagent',\n",
       " 'kadencho           351   0.0  0.4  4349280  36112   ??  S     7:22PM   0:01.36 /System/Library/PrivateFrameworks/IDS.framework/identityservicesd.app/Contents/MacOS/identityservicesd',\n",
       " 'kadencho           350   0.0  0.2  4331440  13060   ??  Ss    7:22PM   0:00.82 /System/Library/PrivateFrameworks/CoreWLANKit.framework/Versions/A/XPCServices/WiFiProxy.xpc/Contents/MacOS/WiFiProxy',\n",
       " 'root               349   0.0  0.2  4331448  17324   ??  Ss    7:22PM   0:00.10 /usr/sbin/WirelessRadioManagerd',\n",
       " 'kadencho           348   0.0  0.4  4338384  30164   ??  S     7:22PM   0:00.56 /System/Library/PrivateFrameworks/TelephonyUtilities.framework/callservicesd',\n",
       " 'kadencho           346   0.0  0.1  4330808   9248   ??  S     7:22PM   0:00.03 /System/Library/Frameworks/LocalAuthentication.framework/Support/coreauthd',\n",
       " 'root               345   0.0  0.1  4332276   8560   ??  Ss    7:22PM   0:00.14 /usr/sbin/wirelessproxd',\n",
       " 'kadencho           344   0.0  0.1  4307768   8780   ??  S     7:22PM   0:00.03 /Applications/Google Chrome.app/Contents/Versions/66.0.3359.117/Google Chrome Framework.framework/Helpers/crashpad_handler --monitor-self-annotation=ptype=crashpad-handler --database=/Users/kadencho/Library/Application Support/Google/Chrome/Crashpad --metrics-dir=/Users/kadencho/Library/Application Support/Google/Chrome --url=https://clients2.google.com/cr/report --annotation=channel= --annotation=plat=OS X --annotation=prod=Chrome_Mac --annotation=ver=66.0.3359.117 --handshake-fd=8',\n",
       " '_gamecontrollerd   342   0.0  0.1  4305060   9276   ??  Ss    7:22PM   0:00.64 /usr/libexec/gamecontrollerd',\n",
       " 'kadencho           341   0.0  0.5  4442264  45188   ??  S     7:22PM   0:01.32 /System/Library/CoreServices/Spotlight.app/Contents/MacOS/Spotlight',\n",
       " 'kadencho           340   0.0  0.5  4344396  42660   ??  S     7:22PM   0:03.55 /System/Library/Frameworks/Accounts.framework/Versions/A/Support/accountsd',\n",
       " 'kadencho           338   0.0  0.1  4330792   8688   ??  S     7:22PM   0:00.28 /Applications/iTunes.app/Contents/MacOS/iTunesHelper.app/Contents/MacOS/iTunesHelper',\n",
       " 'kadencho           337   0.0  0.4  4346684  37640   ??  S     7:22PM   0:01.55 /usr/libexec/sharingd',\n",
       " 'kadencho           336   0.0  0.1  4332860  10276   ??  S     7:22PM   0:00.50 /usr/libexec/nsurlstoraged',\n",
       " 'kadencho           335   0.0  0.1  4306216   9896   ??  S     7:22PM   0:00.04 /System/Library/Frameworks/CryptoTokenKit.framework/ctkd -tw',\n",
       " 'kadencho           334   0.0  0.1  4331860   8252   ??  S     7:22PM   0:00.13 /System/Library/CoreServices/backgroundtaskmanagementagent',\n",
       " 'kadencho           333   0.0  0.1  4305708   9704   ??  S     7:22PM   0:00.04 /System/Library/Frameworks/CryptoTokenKit.framework/ctkahp.bundle/Contents/MacOS/ctkahp',\n",
       " 'kadencho           332   0.0  0.5  4420036  44088   ??  S     7:22PM   0:01.68 /System/Library/CoreServices/NotificationCenter.app/Contents/MacOS/NotificationCenter',\n",
       " 'root               331   0.0  0.1  4308028   5992   ??  Ss    7:22PM   0:00.04 /usr/sbin/filecoordinationd',\n",
       " 'kadencho           330   0.0  0.3  4344764  24772   ??  Ss    7:22PM   0:00.80 /System/Library/CoreServices/Dock.app/Contents/XPCServices/com.apple.dock.extra.xpc/Contents/MacOS/com.apple.dock.extra',\n",
       " 'kadencho           328   0.0  0.1  4339224   9928   ??  S     7:22PM   0:00.11 /System/Library/CoreServices/iconservicesagent',\n",
       " 'kadencho           327   0.0  0.1  4333220  11932   ??  S     7:22PM   0:00.43 /usr/sbin/usernoted',\n",
       " 'kadencho           326   0.0  0.1  4333496  10372   ??  S     7:22PM   0:00.72 /System/Library/PrivateFrameworks/UserActivity.framework/Agents/useractivityd',\n",
       " 'kadencho           324   0.0  0.2  4365436  12912   ??  S     7:22PM   0:02.01 /System/Library/Frameworks/ApplicationServices.framework/Frameworks/ATS.framework/Support/fontd',\n",
       " 'kadencho           323   0.0  0.2  4376632  18180   ??  S     7:22PM   0:00.74 /usr/libexec/nsurlsessiond',\n",
       " 'kadencho           320   0.0  0.1  4336088  10552   ??  S     7:22PM   0:00.34 /System/Library/PrivateFrameworks/TCC.framework/Resources/tccd',\n",
       " 'kadencho           317   0.0  0.2  4334312  13132   ??  S     7:22PM   0:01.10 /usr/libexec/pkd',\n",
       " 'kadencho           316   0.0  0.1  4331880   7732   ??  S     7:22PM   0:00.26 /System/Library/CoreServices/sharedfilelistd',\n",
       " 'kadencho           314   0.0  0.1  4305540   6732   ??  S     7:22PM   0:00.29 /usr/libexec/pboard',\n",
       " 'kadencho           311   0.0  0.2  4331776  15052   ??  S     7:22PM   0:00.14 /System/Library/PrivateFrameworks/CloudDocsDaemon.framework/Versions/A/Support/bird',\n",
       " 'kadencho           310   0.0  0.4  4384392  30720   ??  S     7:22PM   0:01.71 /System/Library/PrivateFrameworks/CloudKitDaemon.framework/Support/cloudd',\n",
       " 'kadencho           309   0.0  0.2  4335964  18492   ??  S     7:22PM   0:01.47 /usr/libexec/secd',\n",
       " 'kadencho           308   0.0  0.1  4334456   8776   ??  S     7:22PM   0:00.31 /usr/libexec/lsd',\n",
       " 'kadencho           307   0.0  0.9  4505392  72816   ??  S     7:22PM   0:03.97 /System/Library/CoreServices/Finder.app/Contents/MacOS/Finder',\n",
       " 'kadencho           306   0.0  0.2  4337920  13628   ??  S     7:22PM   0:02.12 /usr/libexec/trustd --agent',\n",
       " 'kadencho           305   0.0  0.8  4517356  67392   ??  S     7:22PM   0:42.49 /System/Library/CoreServices/SystemUIServer.app/Contents/MacOS/SystemUIServer',\n",
       " 'kadencho           304   0.0  0.2  4338708  12952   ??  S     7:22PM   0:00.41 /System/Library/CoreServices/talagent',\n",
       " 'kadencho           303   0.0  0.5  4481868  41540   ??  S     7:22PM   0:05.64 /System/Library/CoreServices/Dock.app/Contents/MacOS/Dock',\n",
       " 'kadencho           302   0.0  0.4  4343980  29744   ??  S     7:22PM   0:02.52 /System/Library/Frameworks/CoreTelephony.framework/Support/CommCenter -L',\n",
       " 'kadencho           301   0.0  0.1  4336432  11752   ??  S     7:22PM   0:00.86 /usr/sbin/universalaccessd launchd -s',\n",
       " 'kadencho           300   0.0  0.1  4306112   4996   ??  S     7:22PM   0:01.34 /usr/sbin/distnoted agent',\n",
       " 'kadencho           298   0.0  0.4  4337576  29576   ??  S     7:22PM   0:01.57 /usr/libexec/UserEventAgent (Aqua)',\n",
       " 'root               297   0.0  0.1  4304628  10264   ??  Ss    7:22PM   0:00.08 /System/Library/CoreServices/SubmitDiagInfo server-init',\n",
       " 'root               296   0.0  0.6  4359896  53592   ??  Ss    7:22PM   0:01.10 /usr/sbin/spindump',\n",
       " 'kadencho           293   0.0  0.1  4311860   9876   ??  S     7:22PM   0:01.35 /usr/sbin/cfprefsd agent',\n",
       " 'root               292   0.0  0.1  4306132   5708   ??  Ss    7:22PM   0:00.11 /usr/libexec/securityd_service',\n",
       " 'root               282   0.0  0.1  4297000   4348   ??  Ss    7:22PM   0:00.01 /System/Library/Frameworks/GSS.framework/Helpers/GSSCred',\n",
       " '_fpsd              279   0.0  0.1  4308668   8544   ??  Ss    7:22PM   0:00.15 /System/Library/PrivateFrameworks/CoreADI.framework/adid',\n",
       " 'root               278   0.0  0.1  4332152   7836   ??  Ss    7:22PM   0:00.08 /System/Library/PrivateFrameworks/AuthKit.framework/Versions/A/Support/akd',\n",
       " 'root               277   0.0  0.1  4331856   9740   ??  Ss    7:22PM   0:00.17 /System/Library/PrivateFrameworks/AmbientDisplay.framework/Versions/A/XPCServices/com.apple.AmbientDisplayAgent.xpc/Contents/MacOS/com.apple.AmbientDisplayAgent',\n",
       " 'root               274   0.0  0.1  4304704   8300   ??  Ss    7:22PM   0:00.02 /System/Library/Frameworks/AudioToolbox.framework/XPCServices/com.apple.audio.SandboxHelper.xpc/Contents/MacOS/com.apple.audio.SandboxHelper',\n",
       " 'root               273   0.0  0.5  4412840  39876   ??  Ss    7:22PM   0:00.51 /System/Library/Frameworks/ApplicationServices.framework/Frameworks/SpeechSynthesis.framework/Resources/com.apple.speech.speechsynthesisd',\n",
       " 'root               271   0.0  0.1  4331952   7260   ??  Ss    7:22PM   0:00.12 /System/Library/CoreServices/sharedfilelistd',\n",
       " 'root               263   0.0  0.1  4304788   9396   ??  Ss    7:22PM   0:00.05 /System/Library/Frameworks/LocalAuthentication.framework/Support/coreauthd',\n",
       " 'root               260   0.0  0.1  4304936   4700   ??  Ss    7:22PM   0:00.02 /System/Library/PrivateFrameworks/AccountPolicy.framework/XPCServices/com.apple.AccountPolicyHelper.xpc/Contents/MacOS/com.apple.AccountPolicyHelper',\n",
       " 'root               258   0.0  0.1  4304952   4428   ??  Ss    7:22PM   0:00.02 /System/Library/PrivateFrameworks/SignpostNotification.framework/Versions/A/XPCServices/signpost_notificationd.xpc/Contents/MacOS/signpost_notificationd',\n",
       " 'root               257   0.0  0.1  4331912   7332   ??  Ss    7:22PM   0:00.05 /System/Library/PrivateFrameworks/TCC.framework/Resources/tccd system',\n",
       " 'root               256   0.0  0.1  4335460   8960   ??  Ss    7:22PM   0:00.12 /usr/sbin/systemsoundserverd',\n",
       " 'root               248   0.0  0.1  4305708   9700   ??  Ss    7:22PM   0:00.04 /System/Library/Frameworks/CryptoTokenKit.framework/ctkahp.bundle/Contents/MacOS/ctkahp -d',\n",
       " 'root               242   0.0  0.1  4305368  10208   ??  Ss    7:22PM   0:00.03 /usr/libexec/bootinstalld',\n",
       " 'root               237   0.0  0.1  4306328   7436   ??  Ss    7:22PM   0:00.15 /System/Library/Frameworks/Security.framework/Versions/A/XPCServices/com.apple.CodeSigningHelper.xpc/Contents/MacOS/com.apple.CodeSigningHelper',\n",
       " 'root               235   0.0  0.1  4305352   5744   ??  Ss    7:22PM   0:00.03 /usr/libexec/colorsyncd',\n",
       " 'root               227   0.0  0.1  4304508   5780   ??  Ss    7:22PM   0:00.05 /usr/libexec/colorsync.displayservices',\n",
       " 'root               226   0.0  0.0  4330492   2648   ??  Ss    7:22PM   0:00.03 /System/Library/Frameworks/OpenGL.framework/Versions/A/Libraries/CVMServer',\n",
       " 'root               224   0.0  0.2  4332760  12620   ??  Ss    7:22PM   0:00.12 /usr/libexec/secinitd',\n",
       " 'root               222   0.0  0.1  4296280  10340   ??  Ss    7:22PM   0:00.02 /usr/libexec/thermald',\n",
       " 'root               221   0.0  1.2  5234636 101616   ??  Ss    7:22PM   0:05.66 /System/Library/Frameworks/CoreServices.framework/Frameworks/Metadata.framework/Versions/A/Support/mds_stores',\n",
       " 'root               220   0.0  0.1  4297228   4320   ??  Ss    7:22PM   0:00.11 /usr/libexec/watchdogd',\n",
       " 'root               217   0.0  0.2  4339456  18108   ??  Ss    7:22PM   0:01.18 /usr/libexec/syspolicyd',\n",
       " '_networkd          216   0.0  0.1  4338768  10860   ??  Ss    7:22PM   0:00.78 /usr/libexec/symptomsd',\n",
       " '_cmiodalassistants   215   0.0  0.1  4305984   8348   ??  Ss    7:22PM   0:00.05 /Library/CoreMediaIO/Plug-Ins/DAL/AppleCamera.plugin/Contents/Resources/AppleCameraAssistant',\n",
       " 'root               210   0.0  0.1  4307204   5888   ??  Ss    7:22PM   0:00.08 /System/Library/PrivateFrameworks/CoreSymbolication.framework/coresymbolicationd',\n",
       " 'root               203   0.0  0.1  4332864   9840   ??  S     7:22PM   0:00.08 /usr/sbin/systemstats --logger-helper /var/db/systemstats',\n",
       " 'root               190   0.0  0.1  4304664   4720   ??  Ss    7:22PM   0:00.55 /usr/libexec/sysmond',\n",
       " 'root               188   0.0  0.1  4333624   8740   ??  Ss    7:22PM   0:02.80 /System/Library/PrivateFrameworks/PerformanceAnalysis.framework/Versions/A/XPCServices/com.apple.PerformanceAnalysis.animationperfd.xpc/Contents/MacOS/com.apple.PerformanceAnalysis.animationperfd',\n",
       " 'root               187   0.0  0.1  4304476   8788   ??  Ss    7:22PM   0:00.03 /System/Library/CryptoTokenKit/com.apple.ifdreader.slotd/Contents/MacOS/com.apple.ifdreader',\n",
       " 'root               185   0.0  0.1  4331396   7420   ??  Ss    7:22PM   0:00.36 /usr/libexec/powerlogd',\n",
       " 'root               184   0.0  0.1  4331788  10160   ??  Ss    7:22PM   0:00.10 /usr/libexec/usbd',\n",
       " 'root               181   0.0  0.1  4304408   5028   ??  Ss    7:22PM   0:00.03 /usr/libexec/apfsd',\n",
       " 'root               178   0.0  0.1  4332824   9132   ??  Ss    7:22PM   0:00.47 /usr/sbin/cupsd -l',\n",
       " '_nsurlstoraged     171   0.0  0.1  4331132   6556   ??  Ss    7:22PM   0:00.15 /usr/libexec/nsurlstoraged --privileged',\n",
       " '_analyticsd        165   0.0  0.1  4331952   9224   ??  Ss    7:22PM   0:00.35 /System/Library/PrivateFrameworks/CoreAnalytics.framework/Support/analyticsd',\n",
       " 'root               164   0.0  0.1  4331828   8116   ??  Ss    7:22PM   0:00.15 /System/Library/PrivateFrameworks/WirelessDiagnostics.framework/Support/awdd',\n",
       " '_coreaudiod        156   0.0  0.1  4304704   8340   ??  Ss    7:22PM   0:00.02 /System/Library/Frameworks/AudioToolbox.framework/XPCServices/com.apple.audio.SandboxHelper.xpc/Contents/MacOS/com.apple.audio.SandboxHelper',\n",
       " 'root               155   0.0  0.1  4331632   6204   ??  Ss    7:22PM   0:00.58 /usr/sbin/mDNSResponderHelper',\n",
       " 'root               154   0.0  0.1  4306140   7472   ??  Ss    7:22PM   0:00.07 /System/Library/Frameworks/AudioToolbox.framework/AudioComponentRegistrar -daemon',\n",
       " 'root               153   0.0  0.1  4333628   8340   ??  Ss    7:22PM   0:00.25 /usr/libexec/lsd runAsRoot',\n",
       " '_mdnsresponder     152   0.0  0.1  4333408   8340   ??  Ss    7:22PM   0:00.86 /usr/sbin/mDNSResponder',\n",
       " '_nsurlsessiond     138   0.0  0.2  4334704  14432   ??  Ss    7:22PM   0:00.29 /usr/libexec/nsurlsessiond --privileged',\n",
       " '_coreaudiod        136   0.0  0.1  4331088   6852   ??  Ss    7:22PM   0:00.28 /System/Library/Frameworks/CoreAudio.framework/Versions/A/XPCServices/com.apple.audio.DriverHelper.xpc/Contents/MacOS/com.apple.audio.DriverHelper',\n",
       " 'root               132   0.0  0.1  4333952  12308   ??  Ss    7:22PM   0:00.59 /usr/libexec/mobileassetd',\n",
       " '_ctkd              131   0.0  0.1  4306196   9528   ??  Ss    7:22PM   0:00.04 /System/Library/Frameworks/CryptoTokenKit.framework/ctkd -s',\n",
       " 'root               128   0.0  0.1  4335908  11476   ??  Ss    7:22PM   0:03.12 /usr/libexec/trustd',\n",
       " 'root               127   0.0  0.1  4304992   8180   ??  Ss    7:22PM   0:00.03 /System/Library/Frameworks/PCSC.framework/Versions/A/XPCServices/com.apple.ctkpcscd.xpc/Contents/MacOS/com.apple.ctkpcscd',\n",
       " '_coreaudiod        125   0.0  0.2  4342056  17396   ??  Ss    7:22PM   0:00.92 /usr/sbin/coreaudiod',\n",
       " 'root               123   0.0  0.3  4343060  23540   ??  Ss    7:22PM   0:31.09 /usr/libexec/airportd',\n",
       " 'root               122   0.0  0.1  4335024   8796   ??  Ss    7:22PM   0:00.11 /usr/libexec/nehelper',\n",
       " 'root               112   0.0  0.1  4332836   9108   ??  Ss    7:22PM   0:00.72 /usr/libexec/sandboxd',\n",
       " 'root               109   0.0  0.1  4304984   4636   ??  Ss    7:22PM   0:00.04 aslmanager',\n",
       " 'root               108   0.0  0.1  4344704  10756   ??  Ss    7:22PM   0:01.69 /System/Library/CoreServices/coreservicesd',\n",
       " 'root               106   0.0  0.1  4335536  11708   ??  Ss    7:21PM   0:00.50 /usr/libexec/amfid',\n",
       " 'root               105   0.0  0.1  4334188  10052   ??  Ss    7:21PM   0:00.38 /System/Library/Frameworks/Security.framework/Versions/A/XPCServices/authd.xpc/Contents/MacOS/authd',\n",
       " 'root               103   0.0  0.0  4304912   3492   ??  Ss    7:21PM   0:01.40 /usr/sbin/cfprefsd daemon',\n",
       " '_distnote          102   0.0  0.0  4305588   3868   ??  Ss    7:21PM   0:00.55 /usr/sbin/distnoted daemon',\n",
       " 'root               101   0.0  0.0  4305216   1888   ??  Ss    7:21PM   0:04.37 /usr/sbin/notifyd',\n",
       " 'root               100   0.0  0.1  4332328  12528   ??  Ss    7:21PM   0:00.27 /usr/libexec/AirPlayXPCHelper',\n",
       " 'root                99   0.0  0.2  4338072  18372   ??  Ss    7:21PM   0:00.17 /usr/libexec/corebrightnessd --launchd',\n",
       " 'root                97   0.0  0.1  4335628  10948   ??  Ss    7:21PM   0:00.78 /usr/sbin/bluetoothd',\n",
       " 'root                95   0.0  0.1  4304656   4296   ??  Ss    7:21PM   0:00.03 /usr/sbin/KernelEventAgent',\n",
       " 'root                94   0.0  0.1  4333320   8300   ??  Ss    7:21PM   0:00.16 /System/Library/PrivateFrameworks/GenerationalStorage.framework/Versions/A/Support/revisiond',\n",
       " 'root                93   0.0  0.1  4304496   5828   ??  Ss    7:21PM   0:00.07 /System/Library/CoreServices/logind',\n",
       " 'kadencho            92   0.0  0.6  4454396  47468   ??  Ss    7:21PM   0:02.36 /System/Library/CoreServices/loginwindow.app/Contents/MacOS/loginwindow console',\n",
       " '_mysql              91   0.0  2.1  4685412 172736   ??  Ss    7:21PM   0:02.93 /usr/local/mysql/bin/mysqld --user=_mysql --basedir=/usr/local/mysql --datadir=/usr/local/mysql/data --plugin-dir=/usr/local/mysql/lib/plugin --log-error=/usr/local/mysql/data/mysqld.local.err --pid-file=/usr/local/mysql/data/mysqld.local.pid --keyring-file-data=/usr/local/mysql/keyring/keyring --early-plugin-load=keyring_file=keyring_file.so',\n",
       " 'root                88   0.0  0.1  4332604   7932   ??  Ss    7:21PM   0:00.20 /System/Library/PrivateFrameworks/Heimdal.framework/Helpers/kdc',\n",
       " 'root                87   0.0  0.1  4336524  11460   ??  Ss    7:21PM   0:01.83 /usr/libexec/dasd',\n",
       " '_displaypolicyd     85   0.0  0.1  4308076   9268   ??  Ss    7:21PM   0:00.07 /usr/libexec/displaypolicyd -k 1',\n",
       " 'root                84   0.0  0.1  4304628   4856   ??  Ss    7:21PM   0:00.03 autofsd',\n",
       " '_locationd          83   0.0  0.2  4337940  13768   ??  Ss    7:21PM   0:02.51 /usr/libexec/locationd',\n",
       " '_usbmuxd            81   0.0  0.1  4331240   5776   ??  Ss    7:21PM   0:00.06 /System/Library/PrivateFrameworks/MobileDevice.framework/Versions/A/Resources/usbmuxd -launchd',\n",
       " 'root                80   0.0  0.1  4333252   9636   ??  Ss    7:21PM   0:01.55 /usr/sbin/securityd -i',\n",
       " '_timed              79   0.0  0.1  4330864   6300   ??  Ss    7:21PM   0:00.12 /usr/libexec/timed',\n",
       " 'root                78   0.0  0.1  4333564   9440   ??  Ss    7:21PM   0:03.52 /System/Library/CoreServices/launchservicesd',\n",
       " 'root                77   0.0  0.1  4305288   5676   ??  Ss    7:21PM   0:00.03 /System/Library/PrivateFrameworks/Noticeboard.framework/Versions/A/Resources/nbstated',\n",
       " 'root                76   0.0  0.3  4340612  23228   ??  Ss    7:21PM   0:01.35 /System/Library/PrivateFrameworks/ApplePushService.framework/apsd',\n",
       " 'root                74   0.0  0.2  4350928  17684   ??  Ss    7:21PM   0:06.33 /usr/libexec/opendirectoryd',\n",
       " 'root                71   0.0  0.4  4343944  32048   ??  Ss    7:21PM   0:03.69 /usr/libexec/coreduetd',\n",
       " 'root                70   0.0  0.3  4331296  25580   ??  Ss    7:21PM   0:00.23 /System/Library/CoreServices/backupd.bundle/Contents/Resources/backupd-helper -launchd',\n",
       " 'root                66   0.0  0.1  4330640   6360   ??  Ss    7:21PM   0:00.33 /usr/libexec/diskarbitrationd',\n",
       " 'root                65   0.0  0.1  4310044   8308   ??  Ss    7:21PM   0:00.15 /System/Library/CoreServices/iconservicesagent',\n",
       " '_iconservices       64   0.0  0.1  4306136   6028   ??  Ss    7:21PM   0:00.04 /System/Library/CoreServices/iconservicesd',\n",
       " 'root                63   0.0  0.5  4414780  43136   ??  Ss    7:21PM   0:07.36 /System/Library/Frameworks/CoreServices.framework/Frameworks/Metadata.framework/Support/mds',\n",
       " 'root                62   0.0  0.1  4334036  12276   ??  SNs   7:21PM   0:00.39 /usr/libexec/warmd',\n",
       " 'root                57   0.0  0.1  4305060   4432   ??  Ss    7:21PM   0:00.04 /usr/libexec/keybagd -t 15',\n",
       " 'root                56   0.0  0.1  4374320  12200   ??  Ss    7:21PM   0:02.10 /usr/libexec/logd',\n",
       " 'root                53   0.0  0.1  4331136  10020   ??  Ss    7:21PM   0:06.25 /System/Library/CoreServices/powerd.bundle/powerd',\n",
       " 'root                52   0.0  0.1  4336320  11560   ??  Ss    7:21PM   0:01.94 /usr/libexec/configd',\n",
       " 'root                50   0.0  0.2  4336436  14660   ??  Ss    7:21PM   0:01.53 /usr/sbin/systemstats --daemon',\n",
       " '_appleevents        49   0.0  0.1  4332288   8164   ??  Ss    7:21PM   0:00.32 /System/Library/CoreServices/appleeventsd --server',\n",
       " 'root                47   0.0  0.2  4331908  18896   ??  Ss    7:21PM   0:00.15 /System/Library/PrivateFrameworks/MediaRemote.framework/Support/mediaremoted',\n",
       " 'root                45   0.0  0.1  4311356   9532   ??  Ss    7:21PM   0:03.72 /System/Library/Frameworks/CoreServices.framework/Versions/A/Frameworks/FSEvents.framework/Versions/A/Support/fseventsd',\n",
       " 'root                44   0.0  0.3  4349364  22516   ??  Ss    7:21PM   0:04.33 /usr/libexec/kextd',\n",
       " 'root                43   0.0  0.1  4304724   8356   ??  Ss    7:21PM   0:00.42 /System/Library/PrivateFrameworks/Uninstall.framework/Resources/uninstalld',\n",
       " 'root                41   0.0  0.2  4338256  16872   ??  Ss    7:21PM   0:04.03 /usr/libexec/UserEventAgent (System)',\n",
       " 'root                40   0.0  0.0  4305276   1836   ??  Ss    7:21PM   0:01.58 /usr/sbin/syslogd',\n",
       " 'root               895   0.0  0.0  4267948   1000   ??  R     9:58PM   0:00.01 ps aux',\n",
       " 'root                 1   0.0  0.2  4326984  13632   ??  Ss    7:21PM   0:16.05 /sbin/launchd',\n",
       " 'root               894   0.0  0.1  4333264   6532   ??  Ss    9:58PM   0:00.06 /System/Library/PrivateFrameworks/MobileAccessoryUpdater.framework/Support/fud 30',\n",
       " 'kadencho           831   0.0  0.2  4350644  16300   ??  S     9:45PM   0:02.86 /Applications/VirtualBox.app/Contents/MacOS/VBoxSVC --auto-shutdown',\n",
       " 'kadencho           829   0.0  0.1  4286856  10248   ??  S     9:45PM   0:00.89 /Applications/VirtualBox.app/Contents/MacOS/VBoxXPCOMIPCD',\n",
       " 'kadencho           827   0.0  1.0  4478680  87088   ??  S     9:45PM   0:02.97 /Applications/VirtualBox.app/Contents/MacOS/VirtualBox',\n",
       " 'kadencho           812   0.0  0.0  4296240   1668 s001  S+    9:41PM   0:00.03 -bash',\n",
       " 'root               811   0.0  0.1  4304432   5984 s001  Ss    9:41PM   0:00.03 login -pf kadencho',\n",
       " 'kadencho           804   0.0  0.5  4367984  41356   ??  S     9:36PM   0:00.65 /System/Library/Frameworks/CoreServices.framework/Frameworks/Metadata.framework/Versions/A/Support/mdworker -s mdworker -c MDSImporterWorker -m com.apple.mdworker.shared']"
      ]
     },
     "execution_count": 41,
     "metadata": {},
     "output_type": "execute_result"
    }
   ],
   "source": [
    "ps.grep('Mar07', prune=True)"
   ]
  },
  {
   "cell_type": "code",
   "execution_count": 42,
   "metadata": {},
   "outputs": [
    {
     "data": {
      "text/plain": [
       "['ls_python.py', 'pysysinfo_func.py', 'study_20180422.ipynb']"
      ]
     },
     "execution_count": 42,
     "metadata": {},
     "output_type": "execute_result"
    }
   ],
   "source": [
    "import os\n",
    "file_list = !ls\n",
    "file_list"
   ]
  },
  {
   "cell_type": "code",
   "execution_count": 43,
   "metadata": {},
   "outputs": [
    {
     "data": {
      "text/plain": [
       "['ls_python.py', 'pysysinfo_func.py', 'study_20180422.ipynb']"
      ]
     },
     "execution_count": 43,
     "metadata": {},
     "output_type": "execute_result"
    }
   ],
   "source": [
    "file_list.grep(os.path.isfile)"
   ]
  },
  {
   "cell_type": "code",
   "execution_count": 45,
   "metadata": {
    "collapsed": true
   },
   "outputs": [
    {
     "data": {
      "text/plain": [
       "['USER PID STARTED',\n",
       " 'kadencho 727 8:56PM',\n",
       " 'kadencho 339 7:22PM',\n",
       " '_windowserver 169 7:22PM',\n",
       " 'kadencho 380 7:22PM',\n",
       " 'kadencho 880 9:49PM',\n",
       " 'kadencho 415 7:22PM',\n",
       " '_hidd 98 7:21PM',\n",
       " 'kadencho 396 7:22PM',\n",
       " 'kadencho 803 9:36PM',\n",
       " 'kadencho 747 9:06PM',\n",
       " 'kadencho 731 8:56PM',\n",
       " 'kadencho 722 8:56PM',\n",
       " 'kadencho 719 8:56PM',\n",
       " 'kadencho 698 8:44PM',\n",
       " 'kadencho 682 8:33PM',\n",
       " '_spotlight 674 8:33PM',\n",
       " 'kadencho 673 8:33PM',\n",
       " '_netbios 672 8:33PM',\n",
       " '_captiveagent 670 8:33PM',\n",
       " 'kadencho 662 8:31PM',\n",
       " 'kadencho 661 8:31PM',\n",
       " 'kadencho 627 8:14PM',\n",
       " 'kadencho 602 8:06PM',\n",
       " 'root 559 7:48PM',\n",
       " 'kadencho 541 7:43PM',\n",
       " 'root 540 7:43PM',\n",
       " 'kadencho 539 7:43PM',\n",
       " 'kadencho 536 7:43PM',\n",
       " 'kadencho 533 7:43PM',\n",
       " 'root 531 7:43PM',\n",
       " 'kadencho 530 7:43PM',\n",
       " 'kadencho 497 7:24PM',\n",
       " 'kadencho 496 7:24PM',\n",
       " 'kadencho 495 7:24PM',\n",
       " 'kadencho 493 7:24PM',\n",
       " 'kadencho 492 7:24PM',\n",
       " '_applepay 491 7:24PM',\n",
       " 'kadencho 490 7:24PM',\n",
       " 'kadencho 489 7:24PM',\n",
       " 'kadencho 488 7:24PM',\n",
       " 'kadencho 487 7:24PM',\n",
       " 'kadencho 486 7:24PM',\n",
       " 'kadencho 485 7:24PM',\n",
       " 'kadencho 484 7:24PM',\n",
       " 'kadencho 483 7:24PM',\n",
       " 'kadencho 482 7:24PM',\n",
       " 'kadencho 480 7:23PM',\n",
       " '_spotlight 478 7:23PM',\n",
       " 'kadencho 473 7:23PM',\n",
       " 'kadencho 472 7:23PM',\n",
       " 'kadencho 471 7:23PM',\n",
       " 'kadencho 470 7:23PM',\n",
       " 'kadencho 469 7:23PM',\n",
       " '_spotlight 466 7:23PM',\n",
       " 'kadencho 463 7:23PM',\n",
       " 'kadencho 462 7:23PM',\n",
       " 'kadencho 457 7:22PM',\n",
       " 'kadencho 450 7:22PM',\n",
       " 'kadencho 445 7:22PM',\n",
       " 'kadencho 444 7:22PM',\n",
       " 'root 442 7:22PM',\n",
       " '_softwareupdate 441 7:22PM',\n",
       " 'kadencho 440 7:22PM',\n",
       " 'kadencho 437 7:22PM',\n",
       " 'kadencho 436 7:22PM',\n",
       " 'kadencho 433 7:22PM',\n",
       " 'kadencho 432 7:22PM',\n",
       " 'kadencho 431 7:22PM',\n",
       " 'kadencho 430 7:22PM',\n",
       " 'kadencho 429 7:22PM',\n",
       " 'kadencho 428 7:22PM',\n",
       " 'kadencho 427 7:22PM',\n",
       " 'kadencho 423 7:22PM',\n",
       " 'kadencho 418 7:22PM',\n",
       " 'kadencho 410 7:22PM',\n",
       " 'kadencho 408 7:22PM',\n",
       " 'kadencho 405 7:22PM',\n",
       " 'kadencho 404 7:22PM',\n",
       " 'kadencho 403 7:22PM',\n",
       " 'kadencho 402 7:22PM',\n",
       " 'kadencho 401 7:22PM',\n",
       " 'kadencho 399 7:22PM',\n",
       " 'kadencho 398 7:22PM',\n",
       " 'kadencho 397 7:22PM',\n",
       " 'kadencho 393 7:22PM',\n",
       " 'kadencho 391 7:22PM',\n",
       " 'kadencho 390 7:22PM',\n",
       " 'kadencho 389 7:22PM',\n",
       " 'kadencho 388 7:22PM',\n",
       " 'kadencho 387 7:22PM',\n",
       " 'kadencho 385 7:22PM',\n",
       " 'kadencho 384 7:22PM',\n",
       " 'kadencho 383 7:22PM',\n",
       " 'kadencho 382 7:22PM',\n",
       " 'kadencho 381 7:22PM',\n",
       " 'kadencho 379 7:22PM',\n",
       " 'root 377 7:22PM',\n",
       " 'kadencho 376 7:22PM',\n",
       " 'kadencho 375 7:22PM',\n",
       " 'kadencho 374 7:22PM',\n",
       " 'kadencho 373 7:22PM',\n",
       " 'kadencho 372 7:22PM',\n",
       " 'kadencho 371 7:22PM',\n",
       " 'kadencho 370 7:22PM',\n",
       " 'kadencho 369 7:22PM',\n",
       " 'kadencho 368 7:22PM',\n",
       " 'kadencho 367 7:22PM',\n",
       " 'kadencho 366 7:22PM',\n",
       " 'kadencho 365 7:22PM',\n",
       " 'kadencho 364 7:22PM',\n",
       " 'kadencho 363 7:22PM',\n",
       " 'kadencho 362 7:22PM',\n",
       " 'kadencho 360 7:22PM',\n",
       " 'kadencho 359 7:22PM',\n",
       " 'kadencho 358 7:22PM',\n",
       " 'kadencho 357 7:22PM',\n",
       " 'kadencho 356 7:22PM',\n",
       " 'root 355 7:22PM',\n",
       " 'kadencho 353 7:22PM',\n",
       " 'kadencho 351 7:22PM',\n",
       " 'kadencho 350 7:22PM',\n",
       " 'root 349 7:22PM',\n",
       " 'kadencho 348 7:22PM',\n",
       " 'kadencho 346 7:22PM',\n",
       " 'root 345 7:22PM',\n",
       " 'kadencho 344 7:22PM',\n",
       " '_gamecontrollerd 342 7:22PM',\n",
       " 'kadencho 341 7:22PM',\n",
       " 'kadencho 340 7:22PM',\n",
       " 'kadencho 338 7:22PM',\n",
       " 'kadencho 337 7:22PM',\n",
       " 'kadencho 336 7:22PM',\n",
       " 'kadencho 335 7:22PM',\n",
       " 'kadencho 334 7:22PM',\n",
       " 'kadencho 333 7:22PM',\n",
       " 'kadencho 332 7:22PM',\n",
       " 'root 331 7:22PM',\n",
       " 'kadencho 330 7:22PM',\n",
       " 'kadencho 328 7:22PM',\n",
       " 'kadencho 327 7:22PM',\n",
       " 'kadencho 326 7:22PM',\n",
       " 'kadencho 324 7:22PM',\n",
       " 'kadencho 323 7:22PM',\n",
       " 'kadencho 320 7:22PM',\n",
       " 'kadencho 317 7:22PM',\n",
       " 'kadencho 316 7:22PM',\n",
       " 'kadencho 314 7:22PM',\n",
       " 'kadencho 311 7:22PM',\n",
       " 'kadencho 310 7:22PM',\n",
       " 'kadencho 309 7:22PM',\n",
       " 'kadencho 308 7:22PM',\n",
       " 'kadencho 307 7:22PM',\n",
       " 'kadencho 306 7:22PM',\n",
       " 'kadencho 305 7:22PM',\n",
       " 'kadencho 304 7:22PM',\n",
       " 'kadencho 303 7:22PM',\n",
       " 'kadencho 302 7:22PM',\n",
       " 'kadencho 301 7:22PM',\n",
       " 'kadencho 300 7:22PM',\n",
       " 'kadencho 298 7:22PM',\n",
       " 'root 297 7:22PM',\n",
       " 'root 296 7:22PM',\n",
       " 'kadencho 293 7:22PM',\n",
       " 'root 292 7:22PM',\n",
       " 'root 282 7:22PM',\n",
       " '_fpsd 279 7:22PM',\n",
       " 'root 278 7:22PM',\n",
       " 'root 277 7:22PM',\n",
       " 'root 274 7:22PM',\n",
       " 'root 273 7:22PM',\n",
       " 'root 271 7:22PM',\n",
       " 'root 263 7:22PM',\n",
       " 'root 260 7:22PM',\n",
       " 'root 258 7:22PM',\n",
       " 'root 257 7:22PM',\n",
       " 'root 256 7:22PM',\n",
       " 'root 248 7:22PM',\n",
       " 'root 242 7:22PM',\n",
       " 'root 237 7:22PM',\n",
       " 'root 235 7:22PM',\n",
       " 'root 227 7:22PM',\n",
       " 'root 226 7:22PM',\n",
       " 'root 224 7:22PM',\n",
       " 'root 222 7:22PM',\n",
       " 'root 221 7:22PM',\n",
       " 'root 220 7:22PM',\n",
       " 'root 217 7:22PM',\n",
       " '_networkd 216 7:22PM',\n",
       " '_cmiodalassistants 215 7:22PM',\n",
       " 'root 210 7:22PM',\n",
       " 'root 203 7:22PM',\n",
       " 'root 190 7:22PM',\n",
       " 'root 188 7:22PM',\n",
       " 'root 187 7:22PM',\n",
       " 'root 185 7:22PM',\n",
       " 'root 184 7:22PM',\n",
       " 'root 181 7:22PM',\n",
       " 'root 178 7:22PM',\n",
       " '_nsurlstoraged 171 7:22PM',\n",
       " '_analyticsd 165 7:22PM',\n",
       " 'root 164 7:22PM',\n",
       " '_coreaudiod 156 7:22PM',\n",
       " 'root 155 7:22PM',\n",
       " 'root 154 7:22PM',\n",
       " 'root 153 7:22PM',\n",
       " '_mdnsresponder 152 7:22PM',\n",
       " '_nsurlsessiond 138 7:22PM',\n",
       " '_coreaudiod 136 7:22PM',\n",
       " 'root 132 7:22PM',\n",
       " '_ctkd 131 7:22PM',\n",
       " 'root 128 7:22PM',\n",
       " 'root 127 7:22PM',\n",
       " '_coreaudiod 125 7:22PM',\n",
       " 'root 123 7:22PM',\n",
       " 'root 122 7:22PM',\n",
       " 'root 112 7:22PM',\n",
       " 'root 109 7:22PM',\n",
       " 'root 108 7:22PM',\n",
       " 'root 106 7:21PM',\n",
       " 'root 105 7:21PM',\n",
       " 'root 103 7:21PM',\n",
       " '_distnote 102 7:21PM',\n",
       " 'root 101 7:21PM',\n",
       " 'root 100 7:21PM',\n",
       " 'root 99 7:21PM',\n",
       " 'root 97 7:21PM',\n",
       " 'root 95 7:21PM',\n",
       " 'root 94 7:21PM',\n",
       " 'root 93 7:21PM',\n",
       " 'kadencho 92 7:21PM',\n",
       " '_mysql 91 7:21PM',\n",
       " 'root 88 7:21PM',\n",
       " 'root 87 7:21PM',\n",
       " '_displaypolicyd 85 7:21PM',\n",
       " 'root 84 7:21PM',\n",
       " '_locationd 83 7:21PM',\n",
       " '_usbmuxd 81 7:21PM',\n",
       " 'root 80 7:21PM',\n",
       " '_timed 79 7:21PM',\n",
       " 'root 78 7:21PM',\n",
       " 'root 77 7:21PM',\n",
       " 'root 76 7:21PM',\n",
       " 'root 74 7:21PM',\n",
       " 'root 71 7:21PM',\n",
       " 'root 70 7:21PM',\n",
       " 'root 66 7:21PM',\n",
       " 'root 65 7:21PM',\n",
       " '_iconservices 64 7:21PM',\n",
       " 'root 63 7:21PM',\n",
       " 'root 62 7:21PM',\n",
       " 'root 57 7:21PM',\n",
       " 'root 56 7:21PM',\n",
       " 'root 53 7:21PM',\n",
       " 'root 52 7:21PM',\n",
       " 'root 50 7:21PM',\n",
       " '_appleevents 49 7:21PM',\n",
       " 'root 47 7:21PM',\n",
       " 'root 45 7:21PM',\n",
       " 'root 44 7:21PM',\n",
       " 'root 43 7:21PM',\n",
       " 'root 41 7:21PM',\n",
       " 'root 40 7:21PM',\n",
       " 'root 895 9:58PM',\n",
       " 'root 1 7:21PM',\n",
       " 'root 894 9:58PM',\n",
       " 'kadencho 831 9:45PM',\n",
       " 'kadencho 829 9:45PM',\n",
       " 'kadencho 827 9:45PM',\n",
       " 'kadencho 812 9:41PM',\n",
       " 'root 811 9:41PM',\n",
       " 'kadencho 804 9:36PM']"
      ]
     },
     "execution_count": 45,
     "metadata": {},
     "output_type": "execute_result"
    }
   ],
   "source": [
    "ps.grep('Mar07', prune=True).fields(0, 1, 8)"
   ]
  },
  {
   "cell_type": "markdown",
   "metadata": {},
   "source": [
    "## sh profile"
   ]
  },
  {
   "cell_type": "code",
   "execution_count": 46,
   "metadata": {},
   "outputs": [],
   "source": [
    "import os"
   ]
  },
  {
   "cell_type": "code",
   "execution_count": 47,
   "metadata": {},
   "outputs": [
    {
     "data": {
      "text/plain": [
       "'/Users/kadencho/anaconda3/bin:/Users/kadencho/anaconda3/bin:/usr/local/bin:/usr/bin:/bin:/usr/sbin:/sbin'"
      ]
     },
     "execution_count": 47,
     "metadata": {},
     "output_type": "execute_result"
    }
   ],
   "source": [
    "os.environ['PATH']"
   ]
  },
  {
   "cell_type": "code",
   "execution_count": 48,
   "metadata": {},
   "outputs": [
    {
     "name": "stdout",
     "output_type": "stream",
     "text": [
      "env: PATH+=:/appended\n"
     ]
    }
   ],
   "source": [
    "env PATH+=:/appended"
   ]
  },
  {
   "cell_type": "code",
   "execution_count": 49,
   "metadata": {},
   "outputs": [
    {
     "data": {
      "text/plain": [
       "'/Users/kadencho/anaconda3/bin:/Users/kadencho/anaconda3/bin:/usr/local/bin:/usr/bin:/bin:/usr/sbin:/sbin'"
      ]
     },
     "execution_count": 49,
     "metadata": {},
     "output_type": "execute_result"
    }
   ],
   "source": [
    "os.environ['PATH']"
   ]
  },
  {
   "cell_type": "code",
   "execution_count": 50,
   "metadata": {},
   "outputs": [
    {
     "data": {
      "text/plain": [
       "{'Apple_PubSub_Socket_Render': '/private/tmp/com.apple.launchd.l2bJvzaG15/Render',\n",
       " 'CLICOLOR': '1',\n",
       " 'GIT_PAGER': 'cat',\n",
       " 'HOME': '/Users/kadencho',\n",
       " 'JAVA_HOME': '/Library/Java/JavaVirtualMachines/jdk-10.jdk/Contents/Home',\n",
       " 'JPY_PARENT_PID': '722',\n",
       " 'LC_CTYPE': 'euc-kr',\n",
       " 'LOGNAME': 'kadencho',\n",
       " 'LSCOLORS': 'GxFxCxDxBxegedabagaced',\n",
       " 'MPLBACKEND': 'module://ipykernel.pylab.backend_inline',\n",
       " 'OLDPWD': '/Users/kadencho/git/kadensungbincho/Code_followup_book/Python_for_unix_and_linux_system',\n",
       " 'PAGER': 'cat',\n",
       " 'PATH': '/Users/kadencho/anaconda3/bin:/Users/kadencho/anaconda3/bin:/usr/local/bin:/usr/bin:/bin:/usr/sbin:/sbin',\n",
       " 'PATH+': ':/appended',\n",
       " 'PWD': '/Users/kadencho/git/kadensungbincho/Code_followup_book',\n",
       " 'SHELL': '/bin/bash',\n",
       " 'SHLVL': '1',\n",
       " 'SSH_AUTH_SOCK': '/private/tmp/com.apple.launchd.yrh3QvUe4O/Listeners',\n",
       " 'TERM': 'xterm-color',\n",
       " 'TERM_PROGRAM': 'Apple_Terminal',\n",
       " 'TERM_PROGRAM_VERSION': '400',\n",
       " 'TERM_SESSION_ID': 'CC1FE57B-7967-4A51-AAB9-F4953D8D51BF',\n",
       " 'TMPDIR': '/var/folders/yj/j6456qr57q5fkk3vhyjk99f00000gn/T/',\n",
       " 'USER': 'kadencho',\n",
       " 'XPC_FLAGS': '0x0',\n",
       " 'XPC_SERVICE_NAME': '0',\n",
       " '_': '/Users/kadencho/anaconda3/bin/jupyter'}"
      ]
     },
     "execution_count": 50,
     "metadata": {},
     "output_type": "execute_result"
    }
   ],
   "source": [
    "env"
   ]
  },
  {
   "cell_type": "code",
   "execution_count": 51,
   "metadata": {},
   "outputs": [
    {
     "name": "stderr",
     "output_type": "stream",
     "text": [
      "UsageError: Environment does not have key: -p\n"
     ]
    }
   ],
   "source": [
    "env -p"
   ]
  },
  {
   "cell_type": "markdown",
   "metadata": {},
   "source": [
    "## Information gathering"
   ]
  },
  {
   "cell_type": "markdown",
   "metadata": {},
   "source": [
    "- page"
   ]
  },
  {
   "cell_type": "code",
   "execution_count": 52,
   "metadata": {},
   "outputs": [],
   "source": [
    "p = !ps aux"
   ]
  },
  {
   "cell_type": "code",
   "execution_count": 53,
   "metadata": {},
   "outputs": [],
   "source": [
    "page p"
   ]
  },
  {
   "cell_type": "code",
   "execution_count": 54,
   "metadata": {},
   "outputs": [],
   "source": [
    "page -r p"
   ]
  },
  {
   "cell_type": "markdown",
   "metadata": {},
   "source": [
    "- pdef"
   ]
  },
  {
   "cell_type": "code",
   "execution_count": 55,
   "metadata": {},
   "outputs": [],
   "source": [
    "def myfunc(a, b, c, d):\n",
    "    \"\"\"return something by using a, b, c, d to do something\"\"\"\n",
    "    return a, b, c, d"
   ]
  },
  {
   "cell_type": "code",
   "execution_count": 56,
   "metadata": {},
   "outputs": [
    {
     "name": "stdout",
     "output_type": "stream",
     "text": [
      " \u001b[0mmyfunc\u001b[0m\u001b[0;34m(\u001b[0m\u001b[0ma\u001b[0m\u001b[0;34m,\u001b[0m \u001b[0mb\u001b[0m\u001b[0;34m,\u001b[0m \u001b[0mc\u001b[0m\u001b[0;34m,\u001b[0m \u001b[0md\u001b[0m\u001b[0;34m)\u001b[0m\u001b[0;34m\u001b[0m\u001b[0m\n",
      " "
     ]
    }
   ],
   "source": [
    "pdef myfunc"
   ]
  },
  {
   "cell_type": "markdown",
   "metadata": {},
   "source": [
    "- Pdoc"
   ]
  },
  {
   "cell_type": "code",
   "execution_count": 57,
   "metadata": {},
   "outputs": [],
   "source": [
    "pdoc myfunc"
   ]
  },
  {
   "cell_type": "markdown",
   "metadata": {},
   "source": [
    "- pfile"
   ]
  },
  {
   "cell_type": "code",
   "execution_count": 58,
   "metadata": {},
   "outputs": [
    {
     "ename": "SyntaxError",
     "evalue": "invalid syntax (<ipython-input-58-ed833d3aed45>, line 2)",
     "output_type": "error",
     "traceback": [
      "\u001b[0;36m  File \u001b[0;32m\"<ipython-input-58-ed833d3aed45>\"\u001b[0;36m, line \u001b[0;32m2\u001b[0m\n\u001b[0;31m    pfile os\u001b[0m\n\u001b[0m           ^\u001b[0m\n\u001b[0;31mSyntaxError\u001b[0m\u001b[0;31m:\u001b[0m invalid syntax\n"
     ]
    }
   ],
   "source": [
    "import os\n",
    "pfile os"
   ]
  },
  {
   "cell_type": "markdown",
   "metadata": {},
   "source": [
    "- pinfo"
   ]
  },
  {
   "cell_type": "code",
   "execution_count": 61,
   "metadata": {},
   "outputs": [],
   "source": [
    "import pandas\n",
    "? pandas"
   ]
  },
  {
   "cell_type": "code",
   "execution_count": 62,
   "metadata": {},
   "outputs": [],
   "source": [
    "psource pandas"
   ]
  },
  {
   "cell_type": "markdown",
   "metadata": {},
   "source": [
    "- psearch"
   ]
  },
  {
   "cell_type": "code",
   "execution_count": 66,
   "metadata": {},
   "outputs": [],
   "source": [
    "amy = 1\n",
    "amy2 = \"333\""
   ]
  },
  {
   "cell_type": "code",
   "execution_count": null,
   "metadata": {},
   "outputs": [],
   "source": []
  }
 ],
 "metadata": {
  "kernelspec": {
   "display_name": "Python 3",
   "language": "python",
   "name": "python3"
  },
  "language_info": {
   "codemirror_mode": {
    "name": "ipython",
    "version": 3
   },
   "file_extension": ".py",
   "mimetype": "text/x-python",
   "name": "python",
   "nbconvert_exporter": "python",
   "pygments_lexer": "ipython3",
   "version": "3.6.4"
  }
 },
 "nbformat": 4,
 "nbformat_minor": 2
}
