{
 "cells": [
  {
   "cell_type": "markdown",
   "metadata": {},
   "source": [
    "# Reading Data Using the FileSystem API"
   ]
  },
  {
   "cell_type": "markdown",
   "metadata": {},
   "source": [
    "As the previous section explained, sometimes it is impossible to set a URLStreamHAndlerFactory for your application. In the case, you will need to use the FileSystem API to open an input stream for a file."
   ]
  },
  {
   "cell_type": "markdown",
   "metadata": {},
   "source": [
    "A file in a Hadoop filesystem is represented by a Hadoop Path object (and not a java.io.File object, since its semantics are too closely tied to the local filesystem). You can think of a Path as a Hadoop filesystem URI, such as hdfs://localhost/user/tom/quangle.txt."
   ]
  },
  {
   "cell_type": "markdown",
   "metadata": {},
   "source": [
    "FileSystem is a general filesystem API, so the first step is to retrieve an instance for the filesystem we want to use - HSFS, in this case. There are several static factory methods for getting a FileSystem instance:"
   ]
  },
  {
   "cell_type": "markdown",
   "metadata": {},
   "source": [
    "A Configuration object encapsultaets a client or server's configuration, which is set using configuration files read from the classpath, such as etc/hadoop/core-site.xml. The first method returns the default filesystem. The second uses the given URI's scheme and authority to determine the filesystem to use, falling back to the default filesystem if no sche is specified in the given UR. the third retrieves the filesystem as the given user, which is important in the context of security."
   ]
  },
  {
   "cell_type": "markdown",
   "metadata": {},
   "source": [
    "In some cases, you may want to retrieve a local filesystem instance. For this, you can use the convenience method getLocal():"
   ]
  },
  {
   "cell_type": "markdown",
   "metadata": {},
   "source": []
  }
 ],
 "metadata": {
  "kernelspec": {
   "display_name": "Python 3",
   "language": "python",
   "name": "python3"
  },
  "language_info": {
   "codemirror_mode": {
    "name": "ipython",
    "version": 3
   },
   "file_extension": ".py",
   "mimetype": "text/x-python",
   "name": "python",
   "nbconvert_exporter": "python",
   "pygments_lexer": "ipython3",
   "version": "3.7.1"
  }
 },
 "nbformat": 4,
 "nbformat_minor": 2
}
