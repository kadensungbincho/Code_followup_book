{
 "cells": [
  {
   "cell_type": "markdown",
   "metadata": {},
   "source": [
    "# User Accounts and Privileges"
   ]
  },
  {
   "cell_type": "markdown",
   "metadata": {},
   "source": [
    "## User Account Basics"
   ]
  },
  {
   "cell_type": "markdown",
   "metadata": {},
   "source": [
    "- Restricting to specific databases\n",
    "In order to limit the lena_stankoska@lena_stanoska_home user account to the rookery databse, we would have to do something like this:"
   ]
  },
  {
   "cell_type": "markdown",
   "metadata": {},
   "source": [
    "```sql\n",
    "GRANT SELECT ON rookery.* TO 'lena_stankoska'@;lena_stankoska_home';\n",
    "\n",
    "SHOW GRANTS FOR 'lena_stankoska'@'lena_stankoska_home';\n",
    "```"
   ]
  },
  {
   "cell_type": "markdown",
   "metadata": {},
   "source": [
    "### Administrative User Accounts"
   ]
  },
  {
   "cell_type": "markdown",
   "metadata": {},
   "source": [
    "Earlier, I mentioned that we need to create three administrative accounts for Lena to use in performing her duties as a database administrator from the localhost: admin_backup, admin_restore, and admin_import. These are common administrative user accounts that you may need to create and use. You'll use them in examples and exercises in Chapter 14 and Chapter 15. In this section, we'll create these administrative user accounts and loook at the privileges needed for them, as well as another one for granting privileges to other user accounts.\n"
   ]
  },
  {
   "cell_type": "markdown",
   "metadata": {},
   "source": [
    "## User Account for Making Backups"
   ]
  },
  {
   "cell_type": "markdown",
   "metadata": {},
   "source": [
    "The admin_backup user account will be used with the mysqldump utility to make backups of the rookery and birdwatchers databases. This is covered in Chapter 14. Just a few privileges are needed to accomplish these tasks:"
   ]
  },
  {
   "cell_type": "markdown",
   "metadata": {},
   "source": [
    "- At a minimum, it will need the SELECT privilege to read our two databases. You should limit an administrative account to the databases it needs to backup. In particular, you should not let it have SELECT privileges for the mysql database, because that contains user passwords.\n",
    "- To lock the tablees when making a backup, the LOCK TABLES privilieges is required. \n",
    "- If a database contains views and triggers, which we didn't cover in this book, the user account will need the SHOW VIEW and TRIGGER privileges, respectively."
   ]
  },
  {
   "cell_type": "markdown",
   "metadata": {},
   "source": [
    "### User Account for Restoring Backups"
   ]
  },
  {
   "cell_type": "markdown",
   "metadata": {},
   "source": [
    "Although you could create one administrative user account for both making backups and restoring them, you might want to use separate user accounts for those tasks. The main reason is that the task of making backups is usually one handled by scripts that run automatically. But the task of restoring data is generally run manually and can overwrite or destroy data on a live server. You might not want the user account with those privileges to be the same one for which you use in a script containing its password. For our examples in this chapter, let's give the admin_restore@localhost user account the privileges needed for restoring data to our databases:"
   ]
  },
  {
   "cell_type": "markdown",
   "metadata": {},
   "source": [
    "### User Account to Grant Privileges"
   ]
  },
  {
   "cell_type": "markdown",
   "metadata": {},
   "source": [
    "## User Roles"
   ]
  },
  {
   "cell_type": "markdown",
   "metadata": {},
   "source": [
    "# Backing up and Restoring Database"
   ]
  },
  {
   "cell_type": "markdown",
   "metadata": {},
   "source": [
    "- mysqldump \n",
    "It's included with both servers and it costs you nothing. You probably already have it installed on your server. Best of all, it doesn't require you to shut down MySQL services to make a backup, although you might restrict access to the backup utility for better consistency of data. There are other backup utilities, some with a GUI and some that are more comprehensive. You can learn about other types of backups and tools in the book MySQL Troubleshooting. "
   ]
  },
  {
   "cell_type": "markdown",
   "metadata": {},
   "source": [
    "# Backing Up all databases"
   ]
  },
  {
   "cell_type": "markdown",
   "metadata": {},
   "source": [
    "The simplest way to make a backup is to dump all of the databases with all of the tables and their data. You can do this easily with mysqldump. Try executing something like the following at the command line on your server, using the administrative user you created in Ch13."
   ]
  },
  {
   "cell_type": "markdown",
   "metadata": {},
   "source": [
    "```sql\n",
    "mysqldump --user=admin_backup \\\n",
    "    --password --lock-all-tables\n",
    "    --all-databases > /datal/backups/all-dbs.sql\n",
    "```"
   ]
  },
  {
   "cell_type": "markdown",
   "metadata": {},
   "source": [
    "```\n",
    "When making backups of InnoDB or other transactional tables with mysqldump, it’s best to include the --single-transaction option. This will keep the data more consistent. It won’t change between the tables until the dump is finished. However, that option will cancel the --lock-tables option. This means that a backup of MyISAM tables in the same database could be inconsistent. You can avoid this po‐ tential problem by either using the same storage engine for all of the tables in a database, or making separate backups of InnoDB tables and MyISAM tables.\n",
    "``` "
   ]
  },
  {
   "cell_type": "markdown",
   "metadata": {},
   "source": [
    "Then you can attempt to merge the old and new data together. Depending on the situation, you might be able to do this by changing the INSERT . to a REPLACE statement. Another method would be to remove the DROP TABLE statement and change the anme of CREATE TABLE statement that follows to create a new table name. We'll cover such techniques later in this chapter in ~/\n",
    "\n",
    " The IF EXISTS option ensures that a restore will drop the table only if it exist. If this statement was omitted, a restore would probably try to run the statement when the table didn't exist, and thus generate an error that could abort the restore.\n",
    " \n",
    "After the DROP TABLE statement, there are more conditional SQL statements for variables related to the table and the client. These are followed by the CREATE TABLE statement, which matches the results of a SHOW CREATE TABLE statement for the table. This section ends by returning the variable changed to its previous setting."
   ]
  },
  {
   "cell_type": "markdown",
   "metadata": {},
   "source": [
    "Now the bird_families table is ready for the data. The nex set of entries in the dump file are:"
   ]
  },
  {
   "cell_type": "markdown",
   "metadata": {},
   "source": [
    "After the comment appears a LOCK TABLES statement to lock the bird_families table. It includes the WRITE option so that the data in the table cannot be changed during the restoration of the table. Users can't read the table either. Another thought may have occurred to you noew: mysqldump is write-locking tables one at a time, as needed. That may be what you want, making other tables available for reading and writing when they're not being dumped. However, this may cause a problem with the consistency of the data."
   ]
  },
  {
   "cell_type": "markdown",
   "metadata": {},
   "source": [
    "For example, suppose during backup is at the ping where is has preserved the contents of the humans table but not the bird_sightings table in the birdwatchers databse. At this poiint, you decided to delete someone from the humans table along with entries in the bird_sightings table. If you were later to restore the entire birdwatchers database, you would have an entries in the bird_sightings table for a person who isn't listed in the humans table."
   ]
  },
  {
   "cell_type": "markdown",
   "metadata": {},
   "source": [
    "If a database isn't very active, the previous scenario is unlikely. However, if you want to be assured of the consistency of your data, when executing the mysqldump utility, you could add the --lock-tables option. This locks all tables in a database before backing it up, and leaves them locked until the backup of the database is completed."
   ]
  },
  {
   "cell_type": "markdown",
   "metadata": {},
   "source": [
    "## Backung up specific databases"
   ]
  },
  {
   "cell_type": "markdown",
   "metadata": {},
   "source": [
    "Before we concerned ourselves so much with the contents of the dump file, we were experimenting with making backups, learning how to back up all databases on the server. However, you may want to export only one databse, or only specific ones. Let's see how to do that."
   ]
  },
  {
   "cell_type": "markdown",
   "metadata": {},
   "source": [
    "To export only one database and not all, instead of uning the --all-databses option, use the --databases option followed by the name of the database. Try making a back up of just the rookey databse by entering the following on your server from the command line:"
   ]
  },
  {
   "cell_type": "markdown",
   "metadata": {},
   "source": [
    "```sql\n",
    "mysqldump --user=admin_backup --password --lock-tables \\\n",
    "--verbose --databases rookery > rookery.sql\n",
    "```  "
   ]
  },
  {
   "cell_type": "markdown",
   "metadata": {},
   "source": [
    "This is basically the same as the example that dumped all of the databases, except that we've specified the database to be exported, rookery. As mentioned before, you may want to make separate backups of databases to reduce the load on a busy server and to naje restiration more manageable. Incidentally, if for some reason you want to make a backup of a database's schema without the data, you can use the --no-data option. The command would then dump only the database and table schemas and no the rows of data."
   ]
  },
  {
   "cell_type": "markdown",
   "metadata": {},
   "source": [
    "You may have noticed in the previous example that we added the --verbose option. This option instructs the utility to display messages regarding each major step in the process of quering the database and creating the dump file. For our database, running this command produces messages like this:"
   ]
  },
  {
   "cell_type": "markdown",
   "metadata": {},
   "source": [
    "## Creating Backup Scripts"
   ]
  },
  {
   "cell_type": "markdown",
   "metadata": {},
   "source": [
    "To automate many aspects of making backups of databses, it's useful to create a set of scripts that will exectue the mysqldump for the databses you want with the settings that you prefer. It's not too difficult to do this. You don't need to be very advanced in programming if you want to do only a few simple things, such as varying the output slightly each time."
   ]
  },
  {
   "cell_type": "markdown",
   "metadata": {},
   "source": [
    "Let's use the problem presented at the end of the previous section for an example backup script. The solution is to change the name of the dump file each day to include the current date so that there will a unique dump file for each day. Here's an example of a very simple shell script that may ne run on a Linux or Mac system to do this:"
   ]
  },
  {
   "cell_type": "markdown",
   "metadata": {},
   "source": [
    "```sql\n",
    "msqldump --user=admin_backup --password --lock-tables \\\n",
    " --databases rookery --tables birds > birds-humnas.sql\n",
    " ``` "
   ]
  },
  {
   "cell_type": "markdown",
   "metadata": {},
   "source": [
    "## Restoring Backups\n"
   ]
  },
  {
   "cell_type": "markdown",
   "metadata": {},
   "source": [
    "If data is lost in MySQL, but you've been using mysqldump to make regular backups of the data, you can use the dump files to restore the data. This is the point of the backups, after all. Restoring a dump file made with mysqldump is just a matter of using the mysql client to execute all of the SQL statements contained in the dump file. You can restore all of the databases, a single databse, individual tables, or even specific rows of data. We'll cover all of these in this section."
   ]
  },
  {
   "cell_type": "markdown",
   "metadata": {},
   "source": [
    "### Restoring a Database"
   ]
  },
  {
   "cell_type": "markdown",
   "metadata": {},
   "source": [
    "Let's look at how to restore an entire database. To be safe, as part of experimenting, we'll make a fresh backup of the rookery databse and then resotre it. Execute the following from the command line on your server:"
   ]
  },
  {
   "cell_type": "markdown",
   "metadata": {},
   "source": [
    "```sql\n",
    "mysqldup --user=admin_backup --password --lock-tables \\\n",
    "--databases rookery > rookery.sql\n",
    "``` "
   ]
  },
  {
   "cell_type": "markdown",
   "metadata": {},
   "source": [
    "Before proceeding, check he contents of the dump file. Make sure it contains the SQL statements for restoring the rookery database. If everything looks OK, delete the rookery database from the server. This may seem scary, but you just made a good back-up."
   ]
  },
  {
   "cell_type": "markdown",
   "metadata": {},
   "source": [
    "There will come a time when a database is deleted or corrupted unintentionally. So it's better to develop confidence in your abilirt to restore a database with a test database like rookery. To get rid of the database, you can exectue the following from the command line."
   ]
  },
  {
   "cell_type": "markdown",
   "metadata": {},
   "source": [
    "### Modifying a dump file"
   ]
  },
  {
   "cell_type": "markdown",
   "metadata": {},
   "source": [
    "You can make a copy of the rookery.sql dump file, open the copy with a plain-text editor, and delete the sections that create the other tables. Leave in the opening and closing lines that set the variables, as well as the section for the conservation_status table. A similar method would be to open the dump file in a text editor and then copy and/paste the parts you neeed into a new text document: the opening and "
   ]
  },
  {
   "cell_type": "markdown",
   "metadata": {},
   "source": [
    "```sql\n",
    " -- MySQL dump 10.14  Distrib 5.5.39-MariaDB, for Linux (i686)\n",
    "    --\n",
    "    -- Host: localhost    Database: rookery\n",
    "    -- ------------------------------------------------------\n",
    "    -- Server version       5.5.39-MariaDB\n",
    "    /*!40101 SET @OLD_CHARACTER_SET_CLIENT=@@CHARACTER_SET_CLIENT */;\n",
    "    /*!40101 SET @OLD_CHARACTER_SET_RESULTS=@@CHARACTER_SET_RESULTS */;\n",
    "    /*!40101 SET @OLD_COLLATION_CONNECTION=@@COLLATION_CONNECTION */;\n",
    "    /*!40101 SET NAMES utf8 */;\n",
    "    /*!40103 SET @OLD_TIME_ZONE=@@TIME_ZONE */;\n",
    "    /*!40103 SET TIME_ZONE='+00:00' */;\n",
    "    /*!40014 SET @OLD_UNIQUE_CHECKS=@@UNIQUE_CHECKS, UNIQUE_CHECKS=0 */;\n",
    "    /*!40014 SET @OLD_FOREIGN_KEY_CHECKS=@@FOREIGN_KEY_CHECKS,FOREIGN_KEY...=0*/;\n",
    "    /*!40101 SET @OLD_SQL_MODE=@@SQL_MODE, SQL_MODE='NO_AUTO_VALUE_ON_ZERO' */;\n",
    "    /*!40111 SET @OLD_SQL_NOTES=@@SQL_NOTES, SQL_NOTES=0 */;\n",
    "    --\n",
    "    -- Current Database: `rookery`\n",
    "    --\n",
    "    CREATE DATABASE /*!32312 IF NOT EXISTS*/ `rookery`\n",
    "    /*!40100 DEFAULT CHARACTER SET latin1 COLLATE latin1_bin */;\n",
    "USE `rookery`; -- [ snip ]\n",
    "    --\n",
    "    -- Table structure for table `conservation_status`\n",
    "    --\n",
    "    DROP TABLE IF EXISTS `conservation_status`;\n",
    "    /*!40101 SET @saved_cs_client     = @@character_set_client */;\n",
    "    /*!40101 SET character_set_client = utf8 */;\n",
    "    CREATE TABLE `conservation_status` (\n",
    "      `conservation_status_id` int(11) NOT NULL AUTO_INCREMENT,\n",
    "      `conservation_category` char(10) COLLATE latin1_bin DEFAULT NULL,\n",
    "      `conservation_state` char(25) COLLATE latin1_bin DEFAULT NULL,\n",
    "      PRIMARY KEY (`conservation_status_id`)\n",
    "    ) ENGINE=MyISAM AUTO_INCREMENT=10\n",
    "      DEFAULT CHARSET=latin1 COLLATE=latin1_bin;\n",
    "    /*!40101 SET character_set_client = @saved_cs_client */;\n",
    "    --\n",
    "    -- Dumping data for table `conservation_status`\n",
    " 294\n",
    "| Chapter 14: Backing Up and Restoring Databases\n",
    "--\n",
    "    LOCK TABLES `conservation_status` WRITE;\n",
    "    /*!40000 ALTER TABLE `conservation_status` DISABLE KEYS */;\n",
    "    INSERT INTO `conservation_status` VALUES\n",
    "    (1,'Extinct','Extinct'),\n",
    "    (2,'Extinct','Extinct in Wild'),\n",
    "    (3,'Threatened','Critically Endangered'),\n",
    "    (4,'Threatened','Endangered'),\n",
    "    (5,'Threatened','Vulnerable'),\n",
    "    (6,'Lower Risk','Conservation Dependent'),\n",
    "    (7,'Lower Risk','Near Threatened'),\n",
    "    (8,'Lower Risk','Least Concern'),\n",
    "    (9,NULL,'Unknown');\n",
    "/*!40000 ALTER TABLE `conservation_status` ENABLE KEYS */; UNLOCK TABLES;\n",
    "-- [ snip ]\n",
    "/*!40103 SET TIME_ZONE=@OLD_TIME_ZONE */;\n",
    "    /*!40101 SET SQL_MODE=@OLD_SQL_MODE */;\n",
    "    /*!40014 SET FOREIGN_KEY_CHECKS=@OLD_FOREIGN_KEY_CHECKS */;\n",
    "    /*!40014 SET UNIQUE_CHECKS=@OLD_UNIQUE_CHECKS */;\n",
    "    /*!40101 SET CHARACTER_SET_CLIENT=@OLD_CHARACTER_SET_CLIENT */;\n",
    "    /*!40101 SET CHARACTER_SET_RESULTS=@OLD_CHARACTER_SET_RESULTS */;\n",
    "    /*!40101 SET COLLATION_CONNECTION=@OLD_COLLATION_CONNECTION */;\n",
    "    /*!40111 SET SQL_NOTES=@OLD_SQL_NOTES */;\n",
    "    -- Dump completed on 2014-09-15  6:48:27\n",
    "```"
   ]
  },
  {
   "cell_type": "markdown",
   "metadata": {},
   "source": [
    "### Using a limited user account"
   ]
  },
  {
   "cell_type": "markdown",
   "metadata": {},
   "source": [
    "A simple way to restore only one table is to create a temporary user account that has only privileges for the table you want to restore. When you run the dump file, the SQL statements for other tables will fail and not be executed - only the table for which the user account has privileges will be restored. To create such a user account, you need the GRANT OPTION privilege. AS root, you will have thay privilege. Let's go through the steps involved in this method, using the previous example in which we want to restore the conservation_status table."
   ]
  },
  {
   "cell_type": "markdown",
   "metadata": {},
   "source": [
    "Before you start to restore your data, delete the conservation_status table and change some data in one of the tables so that you can see how well this method works. You can run something like the following from the command line, using hte admin_boss user account you should have created in the Chapter 13 exercises:"
   ]
  },
  {
   "cell_type": "markdown",
   "metadata": {},
   "source": [
    "That should delete the conservation_status table. To test our restore, we've also added a row to the birds table, which we want to make sure has not been lost when we do our restore. The last statement returns the bird-id for the row inserted. Log into MySQL and verify that the conservation_status table has been deleted and use the SELECT statement to view the row inserted into birds, where the bird_id equals the number you were given when you executed the command. If everything looks as it should, you're ready to proceed."
   ]
  },
  {
   "cell_type": "markdown",
   "metadata": {},
   "source": [
    "## Restoring Only Rows or Columns"
   ]
  },
  {
   "cell_type": "markdown",
   "metadata": {},
   "source": [
    "You'll rarely nedd to restore an entire database or even an entire table. It's not often that a database or a table is dorpped, or the the data in all of the orws in a table are changed accidentally. It's more commnon that someone deltes a single row in a table or data in a single column and can't undo what they did. In such a situation, if the table has many other rows that were changed correctly since the last backup was made, you wouldn't want to restore the whole table to fix one small mistake. Instead, you will want to restore only one row or column."
   ]
  },
  {
   "cell_type": "markdown",
   "metadata": {},
   "source": [
    "## Recovering from a Binary Log"
   ]
  },
  {
   "cell_type": "markdown",
   "metadata": {},
   "source": [
    "To do point-in-time recoveries, you will have to enable the binary logs. YOu can't wait until you need them; you have to enable the binary logs before a problem occues. To check that it's enabled, execute the following from the mysql client."
   ]
  },
  {
   "cell_type": "markdown",
   "metadata": {},
   "source": [
    "```sql\n",
    "SHOW BINARY LOGS;\n",
    "``` \n"
   ]
  },
  {
   "cell_type": "markdown",
   "metadata": {},
   "source": [
    "```bash\n",
    "[mysqld]\n",
    "log-ibin\n",
    "binlog-ignore-db=mysql\n",
    "``` "
   ]
  },
  {
   "cell_type": "markdown",
   "metadata": {},
   "source": [
    "```sql\n",
    "show master status;\n",
    "``` "
   ]
  },
  {
   "cell_type": "markdown",
   "metadata": {},
   "source": [
    "```sql\n",
    "mysql --user=admin_maintenace --password -- database=rookery < birds-simple.sql\n",
    "mysql --user=root --password --silent \\\n",
    "  --execute=\"SELETE COUNT(*) AS '' FROM rookery.birds_simple;\"\n",
    " ```"
   ]
  },
  {
   "cell_type": "markdown",
   "metadata": {},
   "source": [
    "```sql\n",
    "# at 1258707\n",
    "    #140916 13:10:24 server id 1 end_log_pos 1258778\n",
    "    Query thread_id=382 exec_time=0 error_code=0\n",
    "    SET TIMESTAMP=1410887424/*!*/;\n",
    "    SET @@session.sql_mode=0/*!*/;\n",
    "BEGIN /*!*/;\n",
    "    # at 1258778\n",
    "    #140916 13:10:24 server id 1 end_log_pos 1258900\n",
    "    Query thread_id=382 exec_time=0 error_code=0\n",
    "    use `rookery`/*!*/;\n",
    "    SET TIMESTAMP=1410887424/*!*/;\n",
    "    DELETE FROM birds_simple WHERE common_name LIKE '%Blue%'\n",
    "    /*!*/;\n",
    "    # at 1258900\n",
    "    #140916 13:10:24 server id 1 end_log_pos 1258927 Xid = 45248\n",
    "    COMMIT/*!*/;\n",
    "    ...\n",
    "    # at 1284668\n",
    "    #140916 13:10:28 server id 1 end_log_pos 1284739\n",
    "    Query thread_id=382 exec_time=0 error_code=0\n",
    "    SET TIMESTAMP=1410887428/*!*/;\n",
    "    SET @@session.sql_mode=0/*!*/;\n",
    "    BEGIN\n",
    "    /*!*/;\n",
    "    # at 1284739\n",
    "    #140916 13:10:28 server id 1 end_log_pos 1284862\n",
    "    Query thread_id=382 exec_time=0 error_code=0\n",
    "    SET TIMESTAMP=1410887428/*!*/;\n",
    "    DELETE FROM birds_simple WHERE common_name LIKE '%Green%'\n",
    "    /*!*/;\n",
    "    # at 1284862\n",
    "    #140916 13:10:28 server id 1 end_log_pos 1284889 Xid = 45553\n",
    "    COMMIT/*!*/;\n",
    "```"
   ]
  },
  {
   "cell_type": "markdown",
   "metadata": {},
   "source": [
    "```sql\n",
    "mysqlbinlog --database=rookery --stop-position=\"1258707\" \\\n",
    "/data/mysql/mysqlresource-bin.000002 \\\n",
    "mysql --user=admin_maintenance --password\n",
    "```"
   ]
  },
  {
   "cell_type": "markdown",
   "metadata": {},
   "source": [
    "# Bulk Importing Data"
   ]
  },
  {
   "cell_type": "markdown",
   "metadata": {},
   "source": [
    "You might be asked one day to create a MySQL or MariaDB database that will replace an existing database that uses a different database system - or some other format use for storing data. Or you might be asked to take the data from an application that was not designed for databases, like a spreadsheet. So that you don't have to manually enter the data, there are ways you can import it. This chpater explains how to bulg import data into a database."
   ]
  },
  {
   "cell_type": "markdown",
   "metadata": {},
   "source": [
    "When using other applications, export the data from the source application to a format that MySQL can read, such as a text file containing data separated by particular characters. If you're given a large amount of data to import, hopefully it will already be well organized and in a data text file. Then you can use the LOAD DATA INFILE statement to import the data."
   ]
  },
  {
   "cell_type": "markdown",
   "metadata": {},
   "source": [
    "This isn'n an overly difficult task, but the processing of large amounts of data can be intimidating the first time. It can be a barrier to migrating data to MySQL and MariaDB. There are many nuances to consider for a clean import, which is especially important if you want to automate the process. There may also be restraints to consider when importing data onto a server provided be a web hosting company. We'll cover all of these in this chapter."
   ]
  },
  {
   "cell_type": "markdown",
   "metadata": {},
   "source": [
    "# Preparing to Import "
   ]
  },
  {
   "cell_type": "markdown",
   "metadata": {},
   "source": [
    "To immport data into MySQL or MariaDB, the data needs to be in a compatible format. Both database systems will accept a simple text file in which the values are delimited in some way. The easiet way to deal with incompatible data in any format is to load it in its original software and to export it to a delimited text file. Most applications can do this. They will usually separate field values by commas and separate records by hard returs, putting each row on a separate line. Some applications will allow you to set the delimiters to your choice. If that's an option, you might use the bar to separate fields because it won't typically be used within the data, and separate records with new-line."
   ]
  },
  {
   "cell_type": "markdown",
   "metadata": {},
   "source": [
    "```sql\n",
    " LOAD DATA INFIlE '/tmp/Clements-Checklist-6.90final.csv'\n",
    " INTO TABLE rookery.clements_list_import\n",
    " FIELDS TERMINATED BY ',';\n",
    " ``` "
   ]
  },
  {
   "cell_type": "code",
   "execution_count": null,
   "metadata": {},
   "outputs": [],
   "source": []
  }
 ],
 "metadata": {
  "kernelspec": {
   "display_name": "Python 3",
   "language": "python",
   "name": "python3"
  },
  "language_info": {
   "codemirror_mode": {
    "name": "ipython",
    "version": 3
   },
   "file_extension": ".py",
   "mimetype": "text/x-python",
   "name": "python",
   "nbconvert_exporter": "python",
   "pygments_lexer": "ipython3",
   "version": "3.6.4"
  }
 },
 "nbformat": 4,
 "nbformat_minor": 2
}
