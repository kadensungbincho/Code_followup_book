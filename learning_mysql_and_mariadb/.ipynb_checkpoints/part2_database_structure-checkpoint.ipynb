{
 "cells": [
  {
   "cell_type": "markdown",
   "metadata": {},
   "source": [
    "# Ch5 : Alter Tables"
   ]
  },
  {
   "cell_type": "markdown",
   "metadata": {},
   "source": [
    "## Prudence When Alter ing Tables"
   ]
  },
  {
   "cell_type": "markdown",
   "metadata": {},
   "source": [
    "```sql\n",
    "\n",
    "mysql --user='russell' -p \\ \n",
    "rookery > rookery-ch2-end.sql\n",
    "\n",
    "\n",
    "mysql --user='russell' -p \\ \n",
    "rookery < rookery-ch2-end.sql\n",
    "```"
   ]
  },
  {
   "cell_type": "markdown",
   "metadata": {},
   "source": [
    "```sql\n",
    "ALTER TABLE birds_new\n",
    "ADD COLUMN body_id CHAR(2) AFTER wing_id,\n",
    "ADD COLUMN bill_id CHAR(2) AFTER body_id,\n",
    "ADD COLUMN endangered BIT DEFAULT b'1' AFTER bill_id, CHANGE COLUMN common_name common_name VARCHAR(255);\n",
    "```"
   ]
  },
  {
   "cell_type": "markdown",
   "metadata": {},
   "source": [
    "## Dynamic Columns"
   ]
  },
  {
   "cell_type": "markdown",
   "metadata": {},
   "source": [
    "```sql\n",
    "\n",
    "INSERT INTO survey_questions\n",
    "(survey_id, question, choices)\n",
    "VALUES(LAST_INSERT_ID(),\n",
    "\"Which type of birds do you like best?\",\n",
    "COLUMN_CREATE('1', 'perching', '2', 'shore', '3', 'fowl', '4', 'rapture') );\n",
    "```"
   ]
  },
  {
   "cell_type": "markdown",
   "metadata": {},
   "source": [
    "```sql\n",
    "SELECT IFNULL(COLUMN_GET(choices, answer AS CHAR), 'total')\n",
    "    AS 'Birding Site', COUNT(*) AS 'Votes'\n",
    "    FROM survey_answers\n",
    "    JOIN survey_questions USING(question_id)\n",
    "    WHERE survey_id = 1\n",
    "    AND question_id = 1\n",
    "    GROUP BY answer WITH ROLLUP;\n",
    "```"
   ]
  },
  {
   "cell_type": "markdown",
   "metadata": {},
   "source": [
    "p 97"
   ]
  },
  {
   "cell_type": "code",
   "execution_count": null,
   "metadata": {},
   "outputs": [],
   "source": []
  }
 ],
 "metadata": {
  "kernelspec": {
   "display_name": "Python 3",
   "language": "python",
   "name": "python3"
  },
  "language_info": {
   "codemirror_mode": {
    "name": "ipython",
    "version": 3
   },
   "file_extension": ".py",
   "mimetype": "text/x-python",
   "name": "python",
   "nbconvert_exporter": "python",
   "pygments_lexer": "ipython3",
   "version": "3.6.4"
  }
 },
 "nbformat": 4,
 "nbformat_minor": 2
}
