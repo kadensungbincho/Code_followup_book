{
 "cells": [
  {
   "cell_type": "markdown",
   "metadata": {},
   "source": [
    "# Installing MySQL and MariaDB"
   ]
  },
  {
   "cell_type": "markdown",
   "metadata": {},
   "source": [
    "# The Installation Packages"
   ]
  },
  {
   "cell_type": "markdown",
   "metadata": {},
   "source": [
    "The Mysql and MariaDB packages come with several programs. Foremost is the server represented by the mysqld daemon. Is has the same name in both Mysql and MariaDB. This daemon is the software that actually stores and maintains control over all of the data in the databases. The mysqld daemon listens for requests on a particular port (3306, by default) by which clients submit queries. THe standard Mysql client program is called simply mysql. With this text-based interface, a user can log in and execute SQL queries. This client can also accept queries from text files comtaining queries, and thereby execute them on behalf of the user or other software."
   ]
  },
  {
   "cell_type": "markdown",
   "metadata": {},
   "source": [
    "- mysql_safe\n",
    "- mysqlaccess\n",
    "- mysqladmin\n",
    "- mysqlshow\n",
    "- mysqldump\n",
    "- mysql client"
   ]
  },
  {
   "cell_type": "markdown",
   "metadata": {},
   "source": [
    "## Licensing"
   ]
  },
  {
   "cell_type": "markdown",
   "metadata": {},
   "source": [
    "## Finding the Software"
   ]
  },
  {
   "cell_type": "markdown",
   "metadata": {},
   "source": [
    "```\n",
    "mysqladmin -p version status\n",
    "```"
   ]
  },
  {
   "cell_type": "markdown",
   "metadata": {},
   "source": [
    "upgrade\n",
    "```\n",
    "rpm -Uvh MySQL-server-version.rpm\n",
    "    MySQL-client-version.rpm MySQL-shared-version.rpm\n",
    "```"
   ]
  },
  {
   "cell_type": "markdown",
   "metadata": {},
   "source": [
    "shutdown \n",
    "```\n",
    "/usr/sbin/mysqladmin -u root -p shutdown\n",
    "```"
   ]
  },
  {
   "cell_type": "markdown",
   "metadata": {},
   "source": [
    "mac\n",
    "```\n",
    "brew install mariadb\n",
    "```"
   ]
  },
  {
   "cell_type": "markdown",
   "metadata": {},
   "source": [
    "## Post Installation"
   ]
  },
  {
   "cell_type": "markdown",
   "metadata": {},
   "source": [
    "## Setting Initial Password for root\n"
   ]
  },
  {
   "cell_type": "markdown",
   "metadata": {},
   "source": [
    "```\n",
    "mysqladmin -u root -p flush-privileges password \"new_pwd\"\n",
    "```"
   ]
  },
  {
   "cell_type": "markdown",
   "metadata": {},
   "source": [
    "if not work, on /usr/local/mysql/bin/mysqladmin\n",
    "```\n",
    "    mysqladmin -u root -p flush-privileges password\n",
    "```"
   ]
  },
  {
   "cell_type": "markdown",
   "metadata": {},
   "source": [
    "## More on Passwrods and Removing Anonymous Users"
   ]
  },
  {
   "cell_type": "markdown",
   "metadata": {},
   "source": [
    "```mysql\n",
    "mysql -u root -p -e \"SELECT User,Host FROM mysql.user;\"\n",
    "```"
   ]
  },
  {
   "cell_type": "markdown",
   "metadata": {},
   "source": [
    "```sql\n",
    "mysql -u root -p -e \"SET PASSWORD FOR 'root'@'127.0.0.1' PASSWORD('new_pwd');\" mysql -u root -p -e \"SET PASSWORD FOR 'root'@'localhost' PASSWORD('new_pwd');\" mysql -u root -p -e \"DROP USER 'root'@'%';\"\n",
    "mysql -u root -p -e \"DROP USER ''@'localhost';\"\n",
    "```"
   ]
  },
  {
   "cell_type": "markdown",
   "metadata": {},
   "source": [
    "```sql\n",
    "mysqladmin -u root -p flush-privileges\n",
    "``` \n",
    "take effect"
   ]
  },
  {
   "cell_type": "markdown",
   "metadata": {},
   "source": [
    "## Creating  a User"
   ]
  },
  {
   "cell_type": "markdown",
   "metadata": {},
   "source": [
    "```sql\n",
    "mysql -u root -p -e \"GRANT USAGE ON *.*\n",
    "TO 'russell'@'localhost'\n",
    "IDENTIFIED BY 'Rover#My_1st_Dog&Not_Yours!';\"\n",
    "```"
   ]
  },
  {
   "cell_type": "markdown",
   "metadata": {},
   "source": [
    "only view data\n",
    "```sql\n",
    "mysql -u root -p -e \"GRANT SELECT ON *.* TO 'russell'@'localhost';\"\n",
    "```"
   ]
  },
  {
   "cell_type": "markdown",
   "metadata": {},
   "source": [
    "grant check\n",
    "```sql\n",
    "mysql -u root -p -e \"SHOW GRANTS FOR 'russell@'localhost' \\G\"\n",
    "```"
   ]
  },
  {
   "cell_type": "markdown",
   "metadata": {},
   "source": [
    "```sql\n",
    "mysql -u root -p -e \"GRANT ALL ON *.* TO 'russell'@'localhost';\"\n",
    "```"
   ]
  },
  {
   "cell_type": "markdown",
   "metadata": {},
   "source": [
    "# The Basics and the mysql Client"
   ]
  },
  {
   "cell_type": "markdown",
   "metadata": {},
   "source": [
    "- mysql-client known as mysql"
   ]
  },
  {
   "cell_type": "markdown",
   "metadata": {},
   "source": [
    "## The mysql client"
   ]
  },
  {
   "cell_type": "markdown",
   "metadata": {},
   "source": [
    "## Connecting to the Server"
   ]
  },
  {
   "cell_type": "markdown",
   "metadata": {},
   "source": [
    "change command\n",
    "```sql\n",
    " prompt SQL Command \\d>\\_\n",
    " ```"
   ]
  },
  {
   "cell_type": "markdown",
   "metadata": {},
   "source": [
    "p 60"
   ]
  },
  {
   "cell_type": "code",
   "execution_count": null,
   "metadata": {},
   "outputs": [],
   "source": []
  }
 ],
 "metadata": {
  "kernelspec": {
   "display_name": "Python 3",
   "language": "python",
   "name": "python3"
  },
  "language_info": {
   "codemirror_mode": {
    "name": "ipython",
    "version": 3
   },
   "file_extension": ".py",
   "mimetype": "text/x-python",
   "name": "python",
   "nbconvert_exporter": "python",
   "pygments_lexer": "ipython3",
   "version": "3.6.4"
  }
 },
 "nbformat": 4,
 "nbformat_minor": 2
}
