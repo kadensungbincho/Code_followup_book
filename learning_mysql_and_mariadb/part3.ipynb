{
 "cells": [
  {
   "cell_type": "markdown",
   "metadata": {},
   "source": [
    "In each chaptr of this part, there are practical examples that are used to explain the various SQL statements and related factors. You should enter those examples into your server. Even if you are reading this book from a digital version on your computer, I recommend highly that you manually type all of the SQL statements you are instructed to enter. It may seem like a little thing, but the process of typing them will aid your learning process and help you remember the syntax and the deviations of each SQL statement. When you make a mistake and type something incorrectly, you'll get an error message. Deciphering error messages is part of being a good MySQL and MariaDB developer. If you copy and paste everything as I present it to you, you will only confirm the accuracy of book's examples, and you wiil learn only a littlr. It's easy to learn when you don't make any mistakes. It's more difficult, but you will learn more when you manually enter the SQL statements and get errors and then have to determine where you went wrong."
   ]
  },
  {
   "cell_type": "markdown",
   "metadata": {},
   "source": [
    "At the end of eash chapter of this part, as with alomost all of the chapters in this book, there are exercises. For the same reasons that you should enter the SQL statemets in the examples throughout the chapters, You should also complete the exercises. This is not just a book to be read. It's meant to be a tool to help you to learni MySQL and MariaDb. To accomplish that, you must do more than just read the chapters: You need to participate, experiment, and research. If you make this kind of effort you will benefit greatly from this book. This is probably the most essential part of the book, so you should fully engage with these concluding chapters."
   ]
  },
  {
   "cell_type": "markdown",
   "metadata": {},
   "source": [
    "# Ch6 : Inserting data"
   ]
  },
  {
   "cell_type": "markdown",
   "metadata": {},
   "source": [
    "## The Table for Bird Families"
   ]
  },
  {
   "cell_type": "markdown",
   "metadata": {},
   "source": [
    "```sql\n",
    "insert ignore into bird_families\n",
    "(scientific_name, brief_Description, cornell_bird_order) select brid_family, examples, bird_order from cornell_birds_families_orders;\n",
    "```"
   ]
  },
  {
   "cell_type": "markdown",
   "metadata": {},
   "source": [
    "I've added the IGNORE option. I used this beause the bird_families table already had data in it. Because the scientific_name column is set to UNIQUE, it does not permit duplicate values. If a multiple-row insert statement like this encounters any errors, it will fail and return an error message. The ignore flag instructs the server to ignore any errors it encounters while processing the SQL statement , and to insert the rows that may be inserted without problems. Instead of failing and showing an error message, warning messages are stored on the server for you to look at later. When the server is finished, if you want, you can run the show warnings statement to see which rows of data weren't inserted into the table."
   ]
  },
  {
   "cell_type": "markdown",
   "metadata": {},
   "source": [
    "## A Digression : Setting the Right ID"
   ]
  },
  {
   "cell_type": "markdown",
   "metadata": {},
   "source": [
    "## Replacing Data"
   ]
  },
  {
   "cell_type": "markdown",
   "metadata": {},
   "source": [
    "When you're adding massive amounts of data to existsing table and you're using hte multiple-row syntax, you could have a problem if one of the fields you're importing gets inserted into a key field in the table, as in the preceding example with the bird_families table. In that example, the scientific_name column was a key field, set to UNIQUE so that there is only one entry in the birds_families table for each bird family. When MySQL finds a duplicate key value while running an INSERT statement, an error is generated and the entire SQL statement will be rejected. Nothing will be inserted into the table."
   ]
  },
  {
   "cell_type": "markdown",
   "metadata": {},
   "source": [
    "You would then have to edit the INSERT statement, which might be length, to remove the duplicate entry and run the statement again. If there are many duplicates, you'd have to run the SQL statement many times, watch for error messages, and remove duplicates until it's successful. We avoided this problem in the previous example by using the IGNORE option with the INSERT statement. It tells MySQL to ignore the erros, not insert the rows that are duplicates, and insert the ones that aren't"
   ]
  },
  {
   "cell_type": "markdown",
   "metadata": {},
   "source": [
    "There may be times, though, when you don't want to ignore the duplicate rows, but replace duplicates rows in the table with the new data. For instance, in the UPDATE example in the previous section, we have newer and better information, so we prefer to overwrite duplcate rows. In situations such as this, instead of using INSERT, you could use the REPLACE statement. With it, new rows of data will be inserted as they would with an INSERT statement. Any rows with the sme key value will replace the matching row already in the table. This can be very useful, and not difficult. Let's look at an example:"
   ]
  },
  {
   "cell_type": "markdown",
   "metadata": {},
   "source": [
    "Notice that the syntax is the same as an INSERT statement. The options all have the same effect as well. Also, multiple rows may be inserted, but there's no need for the IGNORE option because duplcates are just overwritten."
   ]
  },
  {
   "cell_type": "markdown",
   "metadata": {},
   "source": [
    "Actually, when a row is replaced using the REPLACE statement, it's first deleted completely and the new row is then inserted. For any columns without values, the default values for the columns will be used. None of the previous values are kept. So be carefule that you don't replace a row that contains some data that you want. When you update a row with REPLACE, you can't choose to replace some columns and leave the others unchanged. REPLACE replaces the whole row, unlike UPDATE. To change just specific columns, use the UPDATE statement."
   ]
  },
  {
   "cell_type": "markdown",
   "metadata": {},
   "source": [
    "There are a couple of thins that you should notice about this REPLACE statement and the content we entered. You can see something unusual in the refults message. Is says that isx rows were affected by this SQL stetement: three new records and three duplicates. The value of six for the number of rows affected may seem strange. What happened is that because three rows had the same value for the scientific_name, they were deleleted. And then three new rows were added with the new values, the replacesments. That gives a total of six affected rows: three deleted and three added."
   ]
  },
  {
   "cell_type": "markdown",
   "metadata": {},
   "source": [
    "The results contain no warnings, so all went well as far as MySQL knows. Let's look at the data for one of the bird families we changed in the bird_families table, the Viduidae family."
   ]
  },
  {
   "cell_type": "code",
   "execution_count": null,
   "metadata": {},
   "outputs": [],
   "source": []
  }
 ],
 "metadata": {
  "kernelspec": {
   "display_name": "Python 3",
   "language": "python",
   "name": "python3"
  },
  "language_info": {
   "codemirror_mode": {
    "name": "ipython",
    "version": 3
   },
   "file_extension": ".py",
   "mimetype": "text/x-python",
   "name": "python",
   "nbconvert_exporter": "python",
   "pygments_lexer": "ipython3",
   "version": "3.6.4"
  }
 },
 "nbformat": 4,
 "nbformat_minor": 2
}
